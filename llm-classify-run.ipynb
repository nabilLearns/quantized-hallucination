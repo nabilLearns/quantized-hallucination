{
 "cells": [
  {
   "cell_type": "code",
   "execution_count": 1,
   "id": "ddb2d9fc-0f56-4582-b75c-8403cdd30022",
   "metadata": {},
   "outputs": [
    {
     "name": "stdout",
     "output_type": "stream",
     "text": [
      "Wed Apr 16 13:53:52 2025       \n",
      "+-----------------------------------------------------------------------------------------+\n",
      "| NVIDIA-SMI 570.86.16              Driver Version: 570.86.16      CUDA Version: 12.8     |\n",
      "|-----------------------------------------+------------------------+----------------------+\n",
      "| GPU  Name                 Persistence-M | Bus-Id          Disp.A | Volatile Uncorr. ECC |\n",
      "| Fan  Temp   Perf          Pwr:Usage/Cap |           Memory-Usage | GPU-Util  Compute M. |\n",
      "|                                         |                        |               MIG M. |\n",
      "|=========================================+========================+======================|\n",
      "|   0  Tesla V100-SXM2-32GB           On  |   00000000:1B:00.0 Off |                    0 |\n",
      "| N/A   40C    P0             42W /  300W |       1MiB /  32768MiB |      0%      Default |\n",
      "|                                         |                        |                  N/A |\n",
      "+-----------------------------------------+------------------------+----------------------+\n",
      "                                                                                         \n",
      "+-----------------------------------------------------------------------------------------+\n",
      "| Processes:                                                                              |\n",
      "|  GPU   GI   CI              PID   Type   Process name                        GPU Memory |\n",
      "|        ID   ID                                                               Usage      |\n",
      "|=========================================================================================|\n",
      "|  No running processes found                                                             |\n",
      "+-----------------------------------------------------------------------------------------+\n"
     ]
    }
   ],
   "source": [
    "!nvidia-smi"
   ]
  },
  {
   "cell_type": "code",
   "execution_count": 2,
   "id": "d153ff6e-55f6-466c-8d50-d91ba5eaae22",
   "metadata": {},
   "outputs": [
    {
     "name": "stdout",
     "output_type": "stream",
     "text": [
      "Requirement already satisfied: pyyaml in /venv/main/lib/python3.10/site-packages (6.0.2)\n"
     ]
    }
   ],
   "source": [
    "!pip install --upgrade transformers accelerate datasets optimum peft auto-gptq bitsandbytes scikit-learn torch matplotlib tqdm --quiet\n",
    "!pip install --upgrade flash-attn --no-build-isolation --quiet # for qwen2, newer nvidia gpus i.e. ampere and above\n",
    "!pip install --upgrade hf_xet gguf llama-cpp-python --quiet # gguf\n",
    "!pip install pyyaml # for loading system prompts stored in yaml files"
   ]
  },
  {
   "cell_type": "code",
   "execution_count": 3,
   "id": "d9c9bcd6-88e7-4555-8c84-46c71172e779",
   "metadata": {},
   "outputs": [
    {
     "name": "stdout",
     "output_type": "stream",
     "text": [
      "Python 3.10.12\n"
     ]
    }
   ],
   "source": [
    "!python --version"
   ]
  },
  {
   "cell_type": "code",
   "execution_count": 8,
   "id": "a96cea69-0725-40d6-891c-56327701f300",
   "metadata": {
    "scrolled": true
   },
   "outputs": [
    {
     "name": "stdout",
     "output_type": "stream",
     "text": [
      "Loading UTAustin-AIHealth/MedHallu dataset (pqa_labeled)...\n",
      "Limiting dataset to 1000 samples for testing.\n",
      "Loading tokenizer for Qwen/Qwen2.5-7B-Instruct...\n",
      "Setting up Qwen/Qwen2.5-7B-Instruct with quantization: uncompressed...\n",
      "Deleting existing global 'model' variable.\n",
      "Loading model: Qwen/Qwen2.5-7B-Instruct] \n",
      "Hyperparams: {'quantization_config': None, 'device_map': 'auto', 'attn_implementation': 'eager', 'torch_dtype': torch.float16, 'trust_remote_code': True, 'gguf_file': None}\n"
     ]
    },
    {
     "data": {
      "application/vnd.jupyter.widget-view+json": {
       "model_id": "cfe393ed69474b8ca3b533c71d29d12b",
       "version_major": 2,
       "version_minor": 0
      },
      "text/plain": [
       "model.safetensors.index.json:   0%|          | 0.00/27.8k [00:00<?, ?B/s]"
      ]
     },
     "metadata": {},
     "output_type": "display_data"
    },
    {
     "data": {
      "application/vnd.jupyter.widget-view+json": {
       "model_id": "056e98b401a24fdb85db5cefab658f63",
       "version_major": 2,
       "version_minor": 0
      },
      "text/plain": [
       "Fetching 4 files:   0%|          | 0/4 [00:00<?, ?it/s]"
      ]
     },
     "metadata": {},
     "output_type": "display_data"
    },
    {
     "data": {
      "application/vnd.jupyter.widget-view+json": {
       "model_id": "23ae5b515ba547b099c7ac16dafacf46",
       "version_major": 2,
       "version_minor": 0
      },
      "text/plain": [
       "model-00001-of-00004.safetensors:   0%|          | 0.00/3.95G [00:00<?, ?B/s]"
      ]
     },
     "metadata": {},
     "output_type": "display_data"
    },
    {
     "data": {
      "application/vnd.jupyter.widget-view+json": {
       "model_id": "4d266c8c93cd46c6a4a96e14d8d4a699",
       "version_major": 2,
       "version_minor": 0
      },
      "text/plain": [
       "model-00004-of-00004.safetensors:   0%|          | 0.00/3.56G [00:00<?, ?B/s]"
      ]
     },
     "metadata": {},
     "output_type": "display_data"
    },
    {
     "data": {
      "application/vnd.jupyter.widget-view+json": {
       "model_id": "de1675ae9e85475baab7435c3c9d01c3",
       "version_major": 2,
       "version_minor": 0
      },
      "text/plain": [
       "model-00002-of-00004.safetensors:   0%|          | 0.00/3.86G [00:00<?, ?B/s]"
      ]
     },
     "metadata": {},
     "output_type": "display_data"
    },
    {
     "data": {
      "application/vnd.jupyter.widget-view+json": {
       "model_id": "b2410564a25d4b8d9e36f050a8a6dfc6",
       "version_major": 2,
       "version_minor": 0
      },
      "text/plain": [
       "model-00003-of-00004.safetensors:   0%|          | 0.00/3.86G [00:00<?, ?B/s]"
      ]
     },
     "metadata": {},
     "output_type": "display_data"
    },
    {
     "name": "stderr",
     "output_type": "stream",
     "text": [
      "Sliding Window Attention is enabled but not implemented for `eager`; unexpected results may be encountered.\n"
     ]
    },
    {
     "data": {
      "application/vnd.jupyter.widget-view+json": {
       "model_id": "53aad9f1a8334390af92709b44d82b88",
       "version_major": 2,
       "version_minor": 0
      },
      "text/plain": [
       "Loading checkpoint shards:   0%|          | 0/4 [00:00<?, ?it/s]"
      ]
     },
     "metadata": {},
     "output_type": "display_data"
    },
    {
     "data": {
      "application/vnd.jupyter.widget-view+json": {
       "model_id": "7818626b397b47f4811e27f31fe6e234",
       "version_major": 2,
       "version_minor": 0
      },
      "text/plain": [
       "generation_config.json:   0%|          | 0.00/243 [00:00<?, ?B/s]"
      ]
     },
     "metadata": {},
     "output_type": "display_data"
    },
    {
     "name": "stderr",
     "output_type": "stream",
     "text": [
      "Device set to use cuda:0\n"
     ]
    },
    {
     "name": "stdout",
     "output_type": "stream",
     "text": [
      "Qwen/Qwen2.5-7B-Instruct model loaded successfully!\n",
      "Preparing prompts\n",
      "Prompts are prepared.\n"
     ]
    }
   ],
   "source": [
    "import os\n",
    "import pandas as pd\n",
    "import torch as t\n",
    "from datasets import load_dataset\n",
    "from transformers import AutoModelForCausalLM, AutoTokenizer, pipeline, GPTQConfig, BitsAndBytesConfig\n",
    "from sklearn.metrics import accuracy_score, precision_recall_fscore_support, ConfusionMatrixDisplay #,confusion_matrix\n",
    "import matplotlib.pyplot as plt\n",
    "import numpy as np\n",
    "import gc # garbage collector interface\n",
    "import pprint\n",
    "from typing import List, Tuple, Dict, Optional\n",
    "from tqdm import tqdm\n",
    "import math\n",
    "from dataclasses import dataclass # for HallucinationMetrics class, currently unused\n",
    "from llama_cpp import Llama # for gguf file\n",
    "import yaml\n",
    "import logging\n",
    "from abc import ABC, abstractmethod\n",
    "\n",
    "# --- Configuration ---\n",
    "MODEL_NAME = 'Qwen/Qwen2.5-7B-Instruct' # try different models later\n",
    "DATASET_NAME = 'UTAustin-AIHealth/MedHallu'\n",
    "DATASET_CONFIG = 'pqa_labeled'\n",
    "BATCH_SIZE = 8\n",
    "MAX_SAMPLES = 1000\n",
    "QUANTIZATION_MODE = 'uncompressed' #'gguf' #'8bit_bnb' #'uncompressed'\n",
    "EXPERIMENT_NAME = f'{MODEL_NAME.lower()}_{QUANTIZATION_MODE.lower()}_{DATASET_CONFIG.lower()}'\n",
    "\n",
    "# Setup logging\n",
    "logger = logging.getLogger(__name__)\n",
    "logging.basicConfig(\n",
    "    filename='example.log',\n",
    "    encoding='utf-8',\n",
    "    format='%(asctime)s %(message)s',\n",
    "    datefmt='%m/%d/%Y %I:%M:%S %p',\n",
    "    level=logging.DEBUG)\n",
    "\n",
    "def clean_gpu():\n",
    "    if 'model' in globals():\n",
    "        print(\"Deleting existing global 'model' variable.\")\n",
    "        del globals()['model']\n",
    "    if 'classifier' in globals():\n",
    "        print(\"Deleting existing bloal 'classifier' variable.\")\n",
    "        del globals()['classifier']\n",
    "    gc.collect()\n",
    "    t.cuda.empty_cache()\n",
    "\n",
    "# --- Load Dataset ---\n",
    "print(f'Loading {DATASET_NAME} dataset ({DATASET_CONFIG})...')\n",
    "ds = load_dataset(DATASET_NAME, DATASET_CONFIG)\n",
    "dataset = ds['train'] # use train split which has 1k labelled samples\n",
    "\n",
    "if MAX_SAMPLES is not None:\n",
    "    print(f'Limiting dataset to {MAX_SAMPLES} samples for testing.')\n",
    "    dataset = dataset.select(range(MAX_SAMPLES)) # for N rows, there are 2*N answers for hallucination-detection LLM to classify (1 gt, 1 hallucinated answers)\n",
    "\n",
    "# --- Setup Model and Tokenizer\n",
    "print(f'Loading tokenizer for {MODEL_NAME}...')\n",
    "tokenizer_kwargs = {\n",
    "    'trust_remote_code': True,\n",
    "    'padding_size': \"left\" # for qwen models\n",
    "}\n",
    "tokenizer = AutoTokenizer.from_pretrained(MODEL_NAME, **tokenizer_kwargs) # was getting an error when trying to run inference on inputs with default padding_side = right\n",
    "if tokenizer.pad_token is None:\n",
    "    tokenizer.pad_token = tokenizer.eos_token # set pad token for batching if not present\n",
    "\n",
    "# --- Quantization Setup --- need to test this, and clean it up (^^ゞ\n",
    "print(f'Setting up {MODEL_NAME} with quantization: {QUANTIZATION_MODE}...')\n",
    "\n",
    "# hyperparameters\n",
    "quantization_config = None\n",
    "model_kwargs = {\n",
    "    \"quantization_config\": quantization_config,\n",
    "    \"device_map\": \"auto\",\n",
    "    \"attn_implementation\": \"eager\", #\"flash_attention_2\", ; doesn't work on Volta GPU (old) ; so ignoring this for now ; may revisit if I need to speed up inference\n",
    "    \"torch_dtype\": t.float16, # torch.bfloat16 for ampere, maybe not best on older Volta GPU\n",
    "    \"trust_remote_code\": True\n",
    "}\n",
    "if QUANTIZATION_MODE == 'uncompressed':\n",
    "    model_kwargs.pop(\"quantization_config\")\n",
    "elif QUANTIZATION_MODE == \"4bit_gptq\":\n",
    "    model_kwargs.pop(\"torch_dtype\")\n",
    "\n",
    "# get quantization config\n",
    "if QUANTIZATION_MODE == '8bit_bnb': #bnb is convenient, good for NVIDIA GPU ; doesn't work elsewere\n",
    "    quantization_config = BitsAndBytesConfig(load_in_8bit=True)\n",
    "elif QUANTIZATION_MODE == '4bit_bnb':\n",
    "    quantization_config = BitsAndBytesConfig(load_in_4bit=True,)\n",
    "elif QUANTIZATION_MODE == '4bit_torchao':\n",
    "    quant_config = Int4WeightOnlyConfig(group_size=128)\n",
    "    quantization_config = TorchAoConfig(quant_type=quant_config)\n",
    "elif QUANTIZATION_MODE == '8bit_torchao':\n",
    "    pass\n",
    "elif QUANTIZATION_MODE == 'gguf':\n",
    "    # 7 runs\n",
    "    qwen = {\n",
    "        'model': \"bartowski/Qwen2.5-7B-Instruct-GGUF\", #\n",
    "        'gguf_files': {\n",
    "            '8b': \"Qwen2.5-7B-Instruct-Q8_0.gguf\",\n",
    "            '6b': {'Q6_K_L': 'Qwen2.5-7B-Instruct-Q6_K_L.gguf', # 6.52GB\n",
    "                   'Q6_K': 'Qwen2.5-7B-Instruct-Q6_K.gguf'},    # 6.25GB\n",
    "            '5b': \"Qwen2.5-7B-Instruct-Q5_K_S.gguf\",\n",
    "            '4b': \"Qwen2.5-7B-Instruct-Q4_K_M.gguf\",\n",
    "            '3b': \"Qwen2.5-7B-Instruct-Q3_K_XL.gguf\",\n",
    "            '2b': \"Qwen2.5-7B-Instruct-Q2_K.gguf\"\n",
    "        }\n",
    "    }\n",
    "\n",
    "    # LLAMA3-Med42-8B Model : Medical Fine Tuned\n",
    "    # 12 runs\n",
    "    llama3_med = {\n",
    "        'model': \"mradermacher/Llama3-Med42-8B-GGUF\",\n",
    "        'gguf_files': {\n",
    "            '8b': \"Llama3-Med42-8B.Q8_0.gguf\",     # 8.54GB\n",
    "            '6b': \"Llama3-Med42-8B.Q6_K.gguf\",     # 6.6GB\n",
    "            \n",
    "            '5b': {'Q5_K_S': \"Llama3-Med42-8B.Q5_K_S.gguf\",  # 5.6GB\n",
    "                   'Q5_K_M': \"Llama3-Med42-8B.Q5_K_M.gguf\"}, # 5.73GB\n",
    "            \n",
    "            '4b': {'IQ4_XS': \"Llama3-Med42-8B.IQ4_XS.gguf\",  # 4.48GB\n",
    "                   'Q4_K_S': \"Llama3-Med42-8B.Q4_K_S.gguf\",  # 4.69GB\n",
    "                   'Q4_K_M': \"Llama3-Med42-8B.Q4_K_M.gguf\"}, # 4.92GB,\n",
    "            \n",
    "            '3b': {'IQ3_S': \"Llama3-Med42-8B.IQ3_S.gguf\",   # 3.68GB\n",
    "                   'Q3_K_S': \"Llama3-Med42-8B.Q3_K_S.gguf\",  # 3.66GB\n",
    "                   'Q3_K_M': \"Llama3-Med42-8B.Q3_K_M.gguf\",  # 4.02GB\n",
    "                   'Q3_K_L': \"Llama3-Med42-8B.Q3_K_L.gguf\"}, # 4.32GB\n",
    "            \n",
    "            '2b': \"Llama3-Med42-8B.Q2_K.gguf\"      # 3.18GB\n",
    "        }\n",
    "    }\n",
    "\n",
    "    # use gguf model\n",
    "    #!huggingface-cli download bartowski/Qwen2.5-7B-Instruct-GGUF --include \"Qwen2.5-7B-Instruct-Q4_K_M.gguf\" --local-dir ./\n",
    "    # download depends on chosen model_family x quantization_scheme\n",
    "    !huggingface-cli download bartowski/Qwen2.5-7B-Instruct-GGUF --include f\"{qwen['gguf_files']['4b']}\" --local-dir ./\n",
    "    model_families = ['qwen', 'llama3_med'] # not used yet\n",
    "    \n",
    "    MODEL_NAME = qwen['model']\n",
    "    model_kwargs['gguf_file'] = qwen['gguf_files']['4b']\n",
    "    try:\n",
    "         # use gguf tokenizer  \n",
    "        tokenizer = AutoTokenizer.from_pretrained(MODEL_NAME, gguf_file=qwen['gguf_files']['4b'], **tokenizer_kwargs) # was getting an error when trying to run inference on inputs with default padding_side = right\n",
    "    except:\n",
    "        # use base model tokenizer\n",
    "        print(\"GGUF tokenizer did not work. Using tokenizer for base Qwen model.\")\n",
    "        tokenizer = AutoTokenizer.from_pretrained('Qwen/Qwen2.5-7B-Instruct', **tokenizer_kwargs)\n",
    "    if tokenizer.pad_token is None:\n",
    "        tokenizer.pad_token = tokenizer.eos_token # set pad token for batching if not present\n",
    "\n",
    "    print(qwen['gguf_files']['4b'])\n",
    "    EXPERIMENT_NAME = f\"{qwen['gguf_files']['4b']}_{DATASET_CONFIG.lower()}\"\n",
    "\n",
    "\n",
    "# GGUF_PARENT_MODEL = qwen['model'] = \"bartowski/Qwen2.5-7B-Instruct-GGUF\"\n",
    "# GGUF_FILE = qwen['gguf_files']['4b']\n",
    "# !huggingface-cli download f\"{GGUF_PARENT_MODEL}\" --include f\"{GGUF_FILE}\"\n",
    "\n",
    "\n",
    "# base model kwargs\n",
    "model_kwargs = {\n",
    "    \"quantization_config\": quantization_config,\n",
    "    \"device_map\": \"auto\",\n",
    "    \"attn_implementation\": \"eager\", #\"flash_attention_2\", ; doesn't work on Volta GPU (old) ; so ignoring this for now ; may revisit if I need to speed up inference\n",
    "    \"torch_dtype\": t.float16, # torch.bfloat16 for ampere, maybe not best on older Volta GPU\n",
    "    \"trust_remote_code\": True,\n",
    "    \"gguf_file\": None\n",
    "}\n",
    "# --- Instantiate Model ---\n",
    "model = None\n",
    "clean_gpu()\n",
    "try:\n",
    "    print(f\"Loading model: {MODEL_NAME}] \\nHyperparams: {model_kwargs}\")\n",
    "    model = AutoModelForCausalLM.from_pretrained(MODEL_NAME, **model_kwargs)\n",
    "    print(f\"{MODEL_NAME} model loaded successfully!\")\n",
    "except Exception as e:\n",
    "    print(f\"Failed to load model: {e}\")\n",
    "    raise e\n",
    "\n",
    "# --- Setup Pipeline ---\n",
    "classifier = pipeline(\n",
    "    'text-generation',\n",
    "    model=model,\n",
    "    tokenizer=tokenizer,\n",
    "    device_map=\"auto\"\n",
    ")\n",
    "\n",
    "# --- Define Prompting Function ---\n",
    "def format_prompt_chatml(knowledge: str, question: str, answer: str, prompt_style=\"original\", sys_prompt_style=\"original\") -> List[dict]:\n",
    "    \"\"\"Put together world knowledge, a medical question, and a medical answer together in a prompt according to requested prompt_style\"\"\"\n",
    "    \n",
    "    few_shot_not_sure_user_content = f\"\"\"\n",
    "    World Knowledge: [Example Knowledge Snippet]\n",
    "    Question: [Example Question]\n",
    "    Answer: [Example Factual Answer]\n",
    "    Your Judgement: 0\n",
    "    \n",
    "    World Knowledge: [Example Knowledge Snippet 2]\n",
    "    Question: [Example Question 2]\n",
    "    Answer: [Example Hallucinated Answer]\n",
    "    Your Judgement: 1\n",
    "    \n",
    "    World Knowledge: [Example Knowledge Snippet 3 - where answer might be ambiguous or knowledge insufficient]\n",
    "    Question: [Example Question 3]\n",
    "    Answer: [Example Ambiguous Answer or Answer unrelated to Knowledge]\n",
    "    Your Judgement: 2\n",
    "    \n",
    "    --- Now your turn ---\n",
    "    World Knowledge: {knowledge}\n",
    "    Question: {question}\n",
    "    Answer: {answer}\n",
    "    \n",
    "    Return just '0' (factual), '1' (hallucinated), or '2' (not sure).\n",
    "    Your Judgement:\"\"\"\n",
    "\n",
    "    original_user_content = f\"\"\"\"\n",
    "    World Knowledge: {knowledge}\n",
    "    Question: {question}\n",
    "    Answer: {answer}\n",
    "\n",
    "    Return just an integer value, '0' if the answer is factual, and '1' if the answer is hallucinated. No letter or word, just the integer value.\n",
    "    \n",
    "    Your Judgement:\"\"\"\n",
    "\n",
    "    user_prompt = None\n",
    "    if prompt_style == \"few_shot_not_sure\":\n",
    "        user_prompt = few_shot_not_sure_user_content\n",
    "    elif prompt_style == \"original\":\n",
    "        user_prompt = original_user_content\n",
    "\n",
    "    sys_prompt = None\n",
    "    with open('prompts.yaml', 'r') as f:\n",
    "        prompts_file = yaml.safe_load(f)\n",
    "    try:\n",
    "        sys_prompt = prompts_file['system_prompts'][sys_prompt_style]\n",
    "    except:\n",
    "        sys_prompt = prompts_file['system_prompts']['original']\n",
    "        \n",
    "    messages = [\n",
    "        {\"role\": \"system\", \"content\": sys_prompt.strip()}, # remove leading/trailing whitespaces with .strip()\n",
    "        {\"role\": \"user\", \"content\": user_prompt.strip()} # original meaning, from the MedHallu paper\n",
    "    ]\n",
    "    return messages\n",
    "\n",
    "\n",
    "# --- Prompt Creation ---\n",
    "def create_prompts(dataset):\n",
    "    all_prompts = [] # all string prompts\n",
    "    #all_ground_truths = [] # corresponding labels for each prompt (0: truth, 1: hallucinated)\n",
    "    \n",
    "    print(\"Preparing prompts\")\n",
    "    for i, row in enumerate(dataset):\n",
    "        knowledge = row[\"Knowledge\"]\n",
    "        question = row[\"Question\"]\n",
    "        hallucinated_answer = row[\"Hallucinated Answer\"]\n",
    "        ground_truth_answer = row[\"Ground Truth\"]\n",
    "    \n",
    "        # create prompts for hallucinated and ground truth answers\n",
    "        prompt_hallucinated = format_prompt_chatml(knowledge, question, hallucinated_answer)\n",
    "        prompt_truth = format_prompt_chatml(knowledge, question, ground_truth_answer)\n",
    "    \n",
    "        all_prompts.append(prompt_hallucinated)\n",
    "        #all_ground_truths.append(1)\n",
    "        all_prompts.append(prompt_truth)\n",
    "        #all_ground_truths.append(0)\n",
    "    print(\"Prompts are prepared.\")\n",
    "    return all_prompts\n",
    "\n",
    "all_prompts = create_prompts(dataset)"
   ]
  },
  {
   "cell_type": "code",
   "execution_count": 9,
   "id": "9bb37b99-0b2b-4ea4-b53f-c33d660a7afb",
   "metadata": {},
   "outputs": [],
   "source": [
    "# --- Tried using python-llama-cpp for the gguf file ---\n",
    "# dropping this because using hf already works* (though only with base model tokenizer, not gguf tokenizer)\n",
    "from llama_cpp import Llama\n",
    "def try_gguf_llama_cpp():\n",
    "    llm = Llama(\n",
    "        model_path='Qwen2.5-7B-Instruct-Q4_K_M.gguf',\n",
    "        chat_format=\"chatml\"\n",
    "    )\n",
    "\n",
    "    llm.create_chat_completion(\n",
    "        messages = [\n",
    "            {\"role\": \"system\", \"content\": None},\n",
    "            {\"role\": \"user\", \"content\": None}\n",
    "        ]\n",
    "    )\n",
    "    #stream = llm(\n",
    "    #    str(all_prompts[0]),\n",
    "    #    max_tokens=2048,\n",
    "    #    temperature=0.7,\n",
    "    #    top_p=0.95,\n",
    "    #    repeat_penalty=1.2,\n",
    "    #    top_k=50,\n",
    "    #    echo=False,\n",
    "    #    stream=True,\n",
    "    #    stop=[\"USER:\", \"ASSISTANT:\", \"SYSTEM:\"]\n",
    "    #)\n",
    "    \n",
    "    #response = ''\n",
    "    #for output in stream:\n",
    "    #    text_output = output['choices'][0]['text'].replace('\\r', '')\n",
    "    #    response += text_output\n",
    "    #    print(\"\\033[31m\" + text_output + \"\\033[0m\", end ='')\n",
    "#try_gguf_llama_cpp()"
   ]
  },
  {
   "cell_type": "code",
   "execution_count": 10,
   "id": "dcb01657-9015-4704-b362-41bae760bf1f",
   "metadata": {},
   "outputs": [
    {
     "name": "stdout",
     "output_type": "stream",
     "text": [
      "Starting batch inference on 2000 prompts...\n"
     ]
    },
    {
     "name": "stderr",
     "output_type": "stream",
     "text": [
      "/venv/main/lib/python3.10/site-packages/transformers/generation/configuration_utils.py:631: UserWarning: `do_sample` is set to `False`. However, `temperature` is set to `0.7` -- this flag is only used in sample-based generation modes. You should set `do_sample=True` or unset `temperature`.\n",
      "  warnings.warn(\n",
      "/venv/main/lib/python3.10/site-packages/transformers/generation/configuration_utils.py:636: UserWarning: `do_sample` is set to `False`. However, `top_p` is set to `0.8` -- this flag is only used in sample-based generation modes. You should set `do_sample=True` or unset `top_p`.\n",
      "  warnings.warn(\n",
      "/venv/main/lib/python3.10/site-packages/transformers/generation/configuration_utils.py:653: UserWarning: `do_sample` is set to `False`. However, `top_k` is set to `20` -- this flag is only used in sample-based generation modes. You should set `do_sample=True` or unset `top_k`.\n",
      "  warnings.warn(\n",
      "You seem to be using the pipelines sequentially on GPU. In order to maximize efficiency please use a dataset\n",
      "Classifying Batches: 100%|██████████| 250/250 [07:09<00:00,  1.72s/batch]"
     ]
    },
    {
     "name": "stdout",
     "output_type": "stream",
     "text": [
      "Inference complete.\n"
     ]
    },
    {
     "name": "stderr",
     "output_type": "stream",
     "text": [
      "\n"
     ]
    }
   ],
   "source": [
    "# -- Inference ---\n",
    "# TODO: measure inference, throughput, TTS?\n",
    "def classify_med_answers(prompts):\n",
    "    print(f\"Starting batch inference on {len(prompts)} prompts...\")\n",
    "    outputs = []\n",
    "    num_batches=math.ceil(len(prompts) / BATCH_SIZE)\n",
    "    with t.no_grad():\n",
    "        # show inference progress bar with tqdm\n",
    "        for batch_idx in tqdm(range(num_batches), desc=\"Classifying Batches\", unit=\"batch\"):\n",
    "            start_idx = batch_idx * BATCH_SIZE\n",
    "            end_idx = min(start_idx + BATCH_SIZE,len(all_prompts))\n",
    "            batch_prompts = prompts[start_idx:end_idx]\n",
    "            batch_output = classifier(batch_prompts,\n",
    "                                      #batch_size=BATCH_SIZE # redundant\n",
    "                                      max_new_tokens=3, # should this be a hyperparam we include in a cfg file?\n",
    "                                      pad_token_id=tokenizer.pad_token_id,\n",
    "                                      eos_token_id=tokenizer.eos_token_id,\n",
    "                                      do_sample=False,\n",
    "                                      repetition_penalty=1.2) \n",
    "            outputs.extend(batch_output)\n",
    "    \n",
    "        # all at once\n",
    "        #outputs = classifier(\n",
    "        #    all_prompts,\n",
    "        #    max_new_tokens=3,\n",
    "        #    batch_size=BATCH_SIZE,\n",
    "        #    pad_token_id=tokenizer.pad_token_id,\n",
    "        #    eos_token_id=tokenizer.eos_token_id,\n",
    "        #    do_sample=False,\n",
    "        #    repetition_penalty=1.2\n",
    "        #)\n",
    "    print(\"Inference complete.\")\n",
    "    return outputs\n",
    "\n",
    "gc.collect()\n",
    "t.cuda.empty_cache()\n",
    "t.cuda.reset_peak_memory_stats()\n",
    "outputs = classify_med_answers(all_prompts)"
   ]
  },
  {
   "cell_type": "code",
   "execution_count": 11,
   "id": "d9eae3d5-c366-42f5-b692-09d4d51af687",
   "metadata": {},
   "outputs": [
    {
     "name": "stdout",
     "output_type": "stream",
     "text": [
      "Peak GPU Memory Allocated: 14.810412883758545 GB\n"
     ]
    }
   ],
   "source": [
    "## --- Profiling GPU Usage ---\n",
    "peak_memory_bytes = t.cuda.max_memory_allocated()\n",
    "peak_memory_gb = peak_memory_bytes / (2**30) # 2^30B in one GB\n",
    "print(f\"Peak GPU Memory Allocated: {peak_memory_gb} GB\")"
   ]
  },
  {
   "cell_type": "code",
   "execution_count": 12,
   "id": "6c8352f8-fa06-4df9-9234-54129e5ac7d6",
   "metadata": {},
   "outputs": [
    {
     "name": "stdout",
     "output_type": "stream",
     "text": [
      "14.193614482879639\n",
      "14.810412883758545\n",
      "15.85546875\n"
     ]
    }
   ],
   "source": [
    "print(t.cuda.memory_allocated() / 2**30)\n",
    "print(t.cuda.max_memory_allocated() / 2**30)\n",
    "print(t.cuda.memory_reserved() / 2**30)"
   ]
  },
  {
   "cell_type": "code",
   "execution_count": 13,
   "id": "f3c4de22-5def-48b1-ba9b-568457dc5830",
   "metadata": {},
   "outputs": [
    {
     "name": "stdout",
     "output_type": "stream",
     "text": [
      "Processing Results.\n",
      "Results Processed.\n"
     ]
    }
   ],
   "source": [
    "# -- Process LLM Outputs -- \n",
    "predictions = []\n",
    "raw_outputs = []\n",
    "\n",
    "def extract_prediction(generated_text):\n",
    "    \"\"\"Extract the '0' or '1' from generated text, in case model does not listen to instructions and adds other tokens\"\"\"\n",
    "    text = generated_text.strip()\n",
    "    text_start = text[-10:]\n",
    "    #print(\"text start: \", text_start)\n",
    "    if '0' in text_start:\n",
    "        return 0\n",
    "    elif '1' in text_start:\n",
    "        return 1\n",
    "    elif '2' in text_start:\n",
    "        return 2\n",
    "    else:\n",
    "        #print(f\"Could not parse '0' or '1' from model output: {text}\")\n",
    "        return -1\n",
    "\n",
    "def extract_all_binary_predictions(outputs) -> Tuple[List[int], list]:\n",
    "    \"\"\"iterate through each output, filter out original prompt, extract binary prediction, and append to lists for predictions and raw model outputs\"\"\"\n",
    "    predictions = []\n",
    "    raw_outputs = []\n",
    "    print(\"Processing Results.\")\n",
    "    for i, output in enumerate(outputs):\n",
    "        model_response = None\n",
    "        try:\n",
    "            full_chat = output[0]['generated_text'] # this INCLUDES the prompt ; we only want newly generated text\n",
    "            assistant_response_dict = full_chat[-1] # full_chat[0]: system, full_chat[1]: user, full_chat[2]: assistant\n",
    "            #print(assistant_response_dict)\n",
    "            model_response = None\n",
    "            if assistant_response_dict['role'] == 'assistant':\n",
    "                model_response = assistant_response_dict['content']\n",
    "        except:\n",
    "            pass\n",
    "        \n",
    "        pred = extract_prediction(model_response)\n",
    "        predictions.append(pred)\n",
    "        raw_outputs.append(model_response) # store the raw '!!!!!' or '0' or '1'\n",
    "    print(\"Results Processed.\")\n",
    "    return predictions, raw_outputs\n",
    "\n",
    "predictions, raw_outputs = extract_all_binary_predictions(outputs)"
   ]
  },
  {
   "cell_type": "code",
   "execution_count": 14,
   "id": "5c138d55-a7ab-4c24-bd36-02466b6c1b4c",
   "metadata": {
    "editable": true,
    "slideshow": {
     "slide_type": ""
    },
    "tags": []
   },
   "outputs": [],
   "source": [
    "# --- Compute Metrics (fnr, tpr, acc, prec, rec, f1, abstention rate) ---\n",
    "@dataclass\n",
    "class HallucinationMetrics:\n",
    "    difficulty_metrics: Dict[str, float]\n",
    "    category_metrics: Dict[str, float]\n",
    "    overall_metrics: Dict[str, float]\n",
    "    abstention_analysis: Dict[str, float]\n",
    "\n",
    "def get_hallucination_info(info_type: str, dataset): # how do I type hint a hugging face (hf) dataset?\n",
    "    \"\"\"\n",
    "    construct lists for the type and difficulty of hallucinated answers in all_prompts\n",
    "    all_ground_truths:        [    1,     0,        1,    0, ...]\n",
    "    hallucination_difficulty: [\"easy\", None, \"medium\", None, ...]\n",
    "    \"\"\"\n",
    "    hallucination_difficulty = [None]*dataset.num_rows*2\n",
    "    hallucination_category = [None]*dataset.num_rows*2\n",
    "    for idx, val in enumerate(all_ground_truths):\n",
    "        if val == 1:\n",
    "            hallucination_difficulty[idx] = dataset['Difficulty Level'][idx//2]\n",
    "            hallucination_category[idx] = dataset['Category of Hallucination'][idx//2]\n",
    "\n",
    "    if info_type == \"difficulty\":\n",
    "        return hallucination_difficulty\n",
    "    elif info_type == \"category\":\n",
    "        return hallucination_category\n",
    "\n",
    "# --- Assemble final results ---\n",
    "# example\n",
    "# all_ground_truths:              [    1,     0,     1,     0]\n",
    "# raw_gt_pred_pairs:             [(1,0), (0,-1), (1,1), (0,0)]\n",
    "# raw_hallucination_difficulty: [\"hard\",   None,\"easy\",  None]\n",
    "# raw_hallucination_category:  [   \"A\",    None,   \"B\",  None]\n",
    "\n",
    "# valid_idxs: [0,2,3] (explicit) ; [1, 0, 1, 1] (boolean mask) ; we'll go with the explicit version\n",
    "# gt_pred_pairs:         [(1,0),  (1,1),   (0,0)]\n",
    "# valid_hal_difficulty: [\"hard\", \"easy\",   None]\n",
    "# valid_hal_category:  [    \"A\",   \"B\",   None]\n",
    "\n",
    "all_ground_truths = [1,0] * dataset.num_rows # in prepare_prompts(), we alternate between adding prompts with hallucination and gt answers\n",
    "raw_gt_pred_pairs = t.tensor(list(zip(all_ground_truths, predictions))) # tensor allows for easy selection from a list of desired idxs\n",
    "raw_hallucination_difficulty = get_hallucination_info(\"difficulty\", dataset) # can't convert to tensor b/c has strings\n",
    "raw_hallucination_category = get_hallucination_info(\"category\", dataset)\n",
    "\n",
    "valid_idxs = [idx for idx, (gt,pred) in enumerate(raw_gt_pred_pairs) if pred != -1] # explicit [0, 2, 3, 4, 7, 110]\n",
    "gt_pred_pairs = raw_gt_pred_pairs[valid_idxs] #filter_invalid_pairs(raw_gt_pred_pairs)\n",
    "valid_hal_difficulty = [raw_hallucination_difficulty[valid_idx] for valid_idx in valid_idxs]\n",
    "valid_hal_category = [raw_hallucination_category[valid_idx] for valid_idx in valid_idxs]\n",
    "\n",
    "valid_df = pd.DataFrame({\n",
    "    'gt': [gt for (gt,pred) in gt_pred_pairs],\n",
    "    'predictions': [pred for (gt,pred) in gt_pred_pairs],\n",
    "    'difficulty': valid_hal_difficulty,\n",
    "    'category': valid_hal_category\n",
    "})\n",
    "\n",
    "def compute_confusion_matrix_vals(gt_pred_pairs: list[tuple[int,int]]):\n",
    "    \"\"\"compute and return TP, FP, TN, FN from a list of (ground truth, prediction) pairs\"\"\"\n",
    "    TP = 0\n",
    "    FP = 0\n",
    "    TN = 0\n",
    "    FN = 0\n",
    "\n",
    "    # used for analysis later\n",
    "    TP_idxs = []\n",
    "    FP_idxs = []\n",
    "    TN_idxs = []\n",
    "    FN_idxs = []\n",
    "    \n",
    "    for idx, (gt,pred) in enumerate(gt_pred_pairs):\n",
    "        if pred == 1 and gt == 1:\n",
    "            TP += 1\n",
    "            TP_idxs.append(idx)\n",
    "        elif pred == 1 and gt == 0:\n",
    "            FP += 1\n",
    "            FP_idxs.append(idx)\n",
    "        elif pred == 0 and gt == 0:\n",
    "            TN += 1\n",
    "            TN_idxs.append(idx)\n",
    "        elif pred == 0 and gt == 1:\n",
    "            FN += 1\n",
    "            FN_idxs.append(idx)\n",
    "    return TP, FP, TN, FN, TP_idxs, FP_idxs, TN_idxs, FN_idxs\n",
    "    \n",
    "# --- Calculate Metrics ---\n",
    "accuracy = None\n",
    "precision = None\n",
    "recall = None\n",
    "f1 = None\n",
    "abstention_rate = None\n",
    "cm = None\n",
    "\n",
    "if len(gt_pred_pairs) > 0:\n",
    "    TP, FP, TN, FN, TP_idxs, FP_idxs, TN_idxs, FN_idxs = compute_confusion_matrix_vals(gt_pred_pairs)\n",
    "    cm = np.array([[TN, FP], [FN, TP]])\n",
    "    #cm = confusion_matrix(valid_gts, valid_preds, labels=[0,1])\n",
    "\n",
    "    # what proportion of answers did the LLM NOT classify?\n",
    "    total_valid_preds = len(gt_pred_pairs)\n",
    "    invalid_count = len(raw_gt_pred_pairs) - total_valid_preds\n",
    "    abstention_rate = invalid_count / len(raw_gt_pred_pairs)\n",
    "\n",
    "    # what does tpr, fpr look like for different hallucination categories, difficulties?\n",
    "    # get counts\n",
    "    fn_difficulty_counts = valid_df.iloc[FN_idxs]['difficulty'].value_counts() # measure of error; type II error (minimize!!)\n",
    "    tp_difficulty_counts = valid_df.iloc[TP_idxs]['difficulty'].value_counts() # success measure; sensitivity (a.k.a recall) (maximize!!)\n",
    "    fn_category_counts = valid_df.iloc[FN_idxs]['category'].value_counts()\n",
    "    tp_category_counts = valid_df.iloc[TP_idxs]['category'].value_counts()\n",
    "\n",
    "    # plot fnr\n",
    "    fnr_difficulty = fn_difficulty_counts / (fn_difficulty_counts + tp_difficulty_counts)\n",
    "    fnr_category = fn_category_counts / (fn_category_counts + tp_category_counts)\n",
    "\n",
    "    # plot tpr\n",
    "    tpr_difficulty = tp_difficulty_counts / (tp_difficulty_counts + fn_difficulty_counts)\n",
    "    tpr_category = tp_category_counts / (tp_category_counts.add(fn_category_counts, fill_value=0))\n",
    "    \n",
    "    # overall metrics: accuracy, precision, recall, f1 score\n",
    "    accuracy = (TP + TN) / (TP + TN + FP + FN)\n",
    "    valid_gts = [gt for (gt,pred) in gt_pred_pairs]\n",
    "    valid_preds = [pred for (gt,pred) in gt_pred_pairs]\n",
    "    precision, recall, f1, support = precision_recall_fscore_support(\n",
    "        valid_gts, valid_preds, average='binary', pos_label=1, zero_division=0\n",
    "    )\n",
    "else:\n",
    "    print(\"No valid predictions were made, skipping metric calculations.\")"
   ]
  },
  {
   "cell_type": "markdown",
   "id": "80d7f657-707e-4c42-9b03-9efd178d0f67",
   "metadata": {},
   "source": [
    "## Generate Hallucination Analysis Plots"
   ]
  },
  {
   "cell_type": "code",
   "execution_count": 15,
   "id": "e85e7fa1-330c-4811-97a2-c38be17b6bc5",
   "metadata": {},
   "outputs": [
    {
     "name": "stdout",
     "output_type": "stream",
     "text": [
      "difficulty\n",
      "hard      0.272059\n",
      "medium    0.160377\n",
      "easy      0.094891\n",
      "Name: count, dtype: float64\n"
     ]
    },
    {
     "data": {
      "text/plain": [
       "<Axes: title={'center': 'False Negative (miss) rate, organized by hallucination difficulty'}, xlabel='difficulty'>"
      ]
     },
     "execution_count": 15,
     "metadata": {},
     "output_type": "execute_result"
    },
    {
     "data": {
      "image/png": "[encoded data removed]",
      "text/plain": [
       "<Figure size 640x480 with 1 Axes>"
      ]
     },
     "metadata": {},
     "output_type": "display_data"
    }
   ],
   "source": [
    "# --- Plot hallucination FN (miss) rate, organized by difficulty level of hallucinated answers\n",
    "fnr_difficulty = fn_difficulty_counts / (fn_difficulty_counts + tp_difficulty_counts)\n",
    "print(fnr_difficulty)\n",
    "#plt.bar(fnr_difficulty.index, fnr_difficulty)\n",
    "fnr_difficulty.plot(title=\"False Negative (miss) rate, organized by hallucination difficulty\", kind='bar')"
   ]
  },
  {
   "cell_type": "code",
   "execution_count": 16,
   "id": "c9795068-6827-45bc-af33-630edb04b76e",
   "metadata": {},
   "outputs": [
    {
     "name": "stdout",
     "output_type": "stream",
     "text": [
      "category\n",
      "Incomplete Information                     0.292453\n",
      "Mechanism and Pathway Misattribution       0.030303\n",
      "Methodological and Evidence Fabrication    0.000000\n",
      "Misinterpretation of #Question#            0.166223\n",
      "Name: count, dtype: float64\n",
      "category\n",
      "Misinterpretation of #Question#         125\n",
      "Incomplete Information                   62\n",
      "Mechanism and Pathway Misattribution      1\n",
      "Name: count, dtype: int64\n"
     ]
    },
    {
     "data": {
      "text/plain": [
       "<Axes: title={'center': 'False Negative (miss) rate organized by category'}, xlabel='category'>"
      ]
     },
     "execution_count": 16,
     "metadata": {},
     "output_type": "execute_result"
    },
    {
     "data": {
      "image/png": "[encoded data removed]",
      "text/plain": [
       "<Figure size 640x480 with 1 Axes>"
      ]
     },
     "metadata": {},
     "output_type": "display_data"
    }
   ],
   "source": [
    "# we are interested in the false negative rate ; what is the LLM missing? ; this is the complement of tpr ; what is the LLM succeeding on?\n",
    "# --- Plot FN (miss) rate, by category ---\n",
    "fn_category_counts = valid_df.iloc[FN_idxs]['category'].value_counts()\n",
    "tp_category_counts = valid_df.iloc[TP_idxs]['category'].value_counts()\n",
    "fnr_category = fn_category_counts.divide((fn_category_counts.add(tp_category_counts,fill_value=0)),fill_value=0)\n",
    "print(fnr_category)\n",
    "print(fn_category_counts)\n",
    "fnr_category.plot(title=\"False Negative (miss) rate organized by category\",kind='bar')"
   ]
  },
  {
   "cell_type": "code",
   "execution_count": 17,
   "id": "650cee25-018f-440d-bafd-af90af51e644",
   "metadata": {},
   "outputs": [
    {
     "data": {
      "text/plain": [
       "Text(0, 0.5, 'False Negative Rate')"
      ]
     },
     "execution_count": 17,
     "metadata": {},
     "output_type": "execute_result"
    },
    {
     "data": {
      "image/png": "[encoded data removed]",
      "text/plain": [
       "<Figure size 640x480 with 1 Axes>"
      ]
     },
     "metadata": {},
     "output_type": "display_data"
    }
   ],
   "source": [
    "# --- Combined FNR Plot ---\n",
    "# fnr_difficulty, fnr_category\n",
    "rename_hallucination_cat = {'Incomplete Information': 'Inc. Inf.',\n",
    "                    'Mechanism and Pathway Misattribution': 'M&PM',\n",
    "                    'Misinterpretation of #Question#': 'MisinterpretQ',\n",
    "                    'Methodological and Evidence Fabrication': 'M&E Fab.'}\n",
    "plt.bar(fnr_difficulty.index, fnr_difficulty)\n",
    "plt.bar([rename_hallucination_cat[x] for x in fnr_category.index], fnr_category)\n",
    "plt.xticks(rotation=30)\n",
    "plt.legend(['difficulty', 'category'])\n",
    "plt.title(\"False Negative (miss) rate of hallucinated answers organized by difficulty, category\")\n",
    "plt.ylabel('False Negative Rate')\n",
    "#plt.bar(fnr_category.index, fnr_category)"
   ]
  },
  {
   "cell_type": "code",
   "execution_count": 18,
   "id": "918ceefa-1ffc-4bd9-a989-6a0861975881",
   "metadata": {
    "scrolled": true
   },
   "outputs": [
    {
     "data": {
      "text/plain": [
       "Text(0.5, 1.0, 'True Positive (hit) rate for hallucinated answers organized by difficulty')"
      ]
     },
     "execution_count": 18,
     "metadata": {},
     "output_type": "execute_result"
    },
    {
     "data": {
      "image/png": "[encoded data removed]",
      "text/plain": [
       "<Figure size 640x480 with 1 Axes>"
      ]
     },
     "metadata": {},
     "output_type": "display_data"
    }
   ],
   "source": [
    "tpr_difficulty = tp_difficulty_counts / (tp_difficulty_counts + fn_difficulty_counts)\n",
    "tpr_category = tp_category_counts / (tp_category_counts.add(fn_category_counts, fill_value=0)) # avoid NaN ; fn_category_counts didn't come across a category\n",
    "\n",
    "# --- Plot TPR by Difficulty ---\n",
    "plt.bar(tpr_difficulty.index, tpr_difficulty)\n",
    "plt.title('True Positive (hit) rate for hallucinated answers organized by difficulty')"
   ]
  },
  {
   "cell_type": "code",
   "execution_count": 19,
   "id": "8ed0c3a2-e9b8-4f7a-962d-e7b089d7380f",
   "metadata": {},
   "outputs": [
    {
     "name": "stdout",
     "output_type": "stream",
     "text": [
      "category\n",
      "Misinterpretation of #Question#            627\n",
      "Incomplete Information                     150\n",
      "Mechanism and Pathway Misattribution        32\n",
      "Methodological and Evidence Fabrication      3\n",
      "Name: count, dtype: int64\n",
      "category\n",
      "Misinterpretation of #Question#         125\n",
      "Incomplete Information                   62\n",
      "Mechanism and Pathway Misattribution      1\n",
      "Name: count, dtype: int64\n"
     ]
    }
   ],
   "source": [
    "print(tp_category_counts)\n",
    "print(fn_category_counts)\n",
    "# notice how for the fn_category_counts, one of the categories is missing ; for that category we had no false negatives ;\n",
    "# beware of NaNs showing up later because of this"
   ]
  },
  {
   "cell_type": "code",
   "execution_count": 20,
   "id": "3e6e3fc4-5410-4e5d-8afb-da945ca9126e",
   "metadata": {},
   "outputs": [
    {
     "name": "stdout",
     "output_type": "stream",
     "text": [
      "category\n",
      "Incomplete Information                     0.707547\n",
      "Mechanism and Pathway Misattribution       0.969697\n",
      "Methodological and Evidence Fabrication    1.000000\n",
      "Misinterpretation of #Question#            0.833777\n",
      "Name: count, dtype: float64\n"
     ]
    },
    {
     "data": {
      "text/plain": [
       "Text(0, 0.5, 'true positive rate')"
      ]
     },
     "execution_count": 20,
     "metadata": {},
     "output_type": "execute_result"
    },
    {
     "data": {
      "image/png": "[encoded data removed]",
      "text/plain": [
       "<Figure size 640x480 with 1 Axes>"
      ]
     },
     "metadata": {},
     "output_type": "display_data"
    }
   ],
   "source": [
    "# --- Plot TPR Category ---\n",
    "print(tpr_category)\n",
    "plt.bar([rename_hallucination_cat[x] for x in tpr_category.index], tpr_category)\n",
    "plt.title('True Positive (hit) rate for hallucinated answer classification, organized by category')\n",
    "plt.ylabel('true positive rate')"
   ]
  },
  {
   "cell_type": "code",
   "execution_count": 21,
   "id": "2502eb38-b01a-456f-ab5d-3c61b6371913",
   "metadata": {},
   "outputs": [
    {
     "data": {
      "text/plain": [
       "([0, 1, 2, 3, 4, 5, 6],\n",
       " [Text(0, 0, 'hard'),\n",
       "  Text(1, 0, 'medium'),\n",
       "  Text(2, 0, 'easy'),\n",
       "  Text(3, 0, 'Inc. Inf.'),\n",
       "  Text(4, 0, 'M&PM'),\n",
       "  Text(5, 0, 'M&E Fab.'),\n",
       "  Text(6, 0, 'MisinterpretQ')])"
      ]
     },
     "execution_count": 21,
     "metadata": {},
     "output_type": "execute_result"
    },
    {
     "data": {
      "image/png": "[encoded data removed]",
      "text/plain": [
       "<Figure size 640x480 with 1 Axes>"
      ]
     },
     "metadata": {},
     "output_type": "display_data"
    }
   ],
   "source": [
    "# --- Combined TPR Plot ---\n",
    "plt.bar(tpr_difficulty.index, tpr_difficulty)\n",
    "plt.bar([rename_hallucination_cat[x] for x in tpr_category.index], tpr_category)\n",
    "plt.title('True Positive (hit) rate for hallucation answer classification, organized by difficulty, category')\n",
    "plt.legend(['difficulty', 'category'])\n",
    "plt.ylabel('true positive rate')\n",
    "plt.xticks(rotation=30)"
   ]
  },
  {
   "cell_type": "code",
   "execution_count": null,
   "id": "71a3bdfb-5db3-453d-a235-9b21762a733d",
   "metadata": {},
   "outputs": [],
   "source": [
    "fig, axs = plt.subplots(2,2)\n",
    "\n",
    "axs[0,0].plot()\n",
    "axs[0,0].set_title\n",
    "\n",
    "axs[0,1].plot()\n",
    "axs[0,1].set_title\n",
    "\n",
    "axs[1,0].plot()\n",
    "axs[1,0].set_title\n",
    "\n",
    "axs[1,1].plot()\n",
    "axs[1,1].set_title\n",
    "\n",
    "\n",
    "fig.savefig('a.png')\n",
    "plot.show()"
   ]
  },
  {
   "cell_type": "code",
   "execution_count": 39,
   "id": "99bb2b70-c928-46bb-bdcc-00376dd9cb9d",
   "metadata": {},
   "outputs": [
    {
     "name": "stdout",
     "output_type": "stream",
     "text": [
      "category\n",
      "Misinterpretation of #Question#         125\n",
      "Incomplete Information                   62\n",
      "Mechanism and Pathway Misattribution      1\n",
      "Name: count, dtype: int64\n",
      "category\n",
      "Misinterpretation of #Question#            627\n",
      "Incomplete Information                     150\n",
      "Mechanism and Pathway Misattribution        32\n",
      "Methodological and Evidence Fabrication      3\n",
      "Name: count, dtype: int64\n"
     ]
    }
   ],
   "source": [
    "print(fn_category_counts)\n",
    "print(tp_category_counts)"
   ]
  },
  {
   "cell_type": "code",
   "execution_count": 34,
   "id": "3cd73728-0e3b-4f44-8597-7d14e47e3008",
   "metadata": {},
   "outputs": [
    {
     "data": {
      "text/plain": [
       "'/workspace/medical-llm-hallucination-thesis'"
      ]
     },
     "execution_count": 34,
     "metadata": {},
     "output_type": "execute_result"
    }
   ],
   "source": [
    "os.getcwd()"
   ]
  },
  {
   "cell_type": "code",
   "execution_count": 65,
   "id": "2f6889e1-df84-42fc-9979-7893512f8736",
   "metadata": {},
   "outputs": [
    {
     "data": {
      "text/plain": [
       "[111, 51, 26]"
      ]
     },
     "execution_count": 65,
     "metadata": {},
     "output_type": "execute_result"
    }
   ],
   "source": [
    "list(fn_difficulty_counts)"
   ]
  },
  {
   "cell_type": "code",
   "execution_count": 91,
   "id": "ee90e207-4815-4ba6-b390-ef2eccda59c5",
   "metadata": {},
   "outputs": [
    {
     "data": {
      "text/plain": [
       "(0.0, 1.0)"
      ]
     },
     "execution_count": 91,
     "metadata": {},
     "output_type": "execute_result"
    },
    {
     "data": {
      "image/png": "[encoded data removed]",
      "text/plain": [
       "<Figure size 1200x500 with 2 Axes>"
      ]
     },
     "metadata": {},
     "output_type": "display_data"
    }
   ],
   "source": [
    "#plt.bar([rename_hallucination_cat[x] for x in tpr_category.index], tpr_category)\n",
    "# tpr, fnr, category\n",
    "fig, axes = plt.subplots(1, 2, figsize=(12,5))\n",
    "fig.suptitle(\"Performance by Hallucination Difficulty\")\n",
    "axes[0].bar([rename_hallucination_categories[x] for x in fnr_category.index], fnr_category)\n",
    "axes[0].set_title('False negative (miss) rate')\n",
    "axes[0].set_ylim(0,1) # both plots should have same yticks for easier visual comparison\n",
    "\n",
    "axes[1].bar([rename_hallucination_categories[x] for x in tpr_category.index], tpr_category)\n",
    "axes[1].set_title('True Positive (hit) rate')\n",
    "axes[1].set_ylim(0,1)\n",
    "\n",
    "#plt.tight_layout()"
   ]
  },
  {
   "cell_type": "code",
   "execution_count": 92,
   "id": "951ff92b-2c3a-4d53-9768-661c485cb2ce",
   "metadata": {},
   "outputs": [
    {
     "data": {
      "text/plain": [
       "(0.0, 1.0)"
      ]
     },
     "execution_count": 92,
     "metadata": {},
     "output_type": "execute_result"
    },
    {
     "data": {
      "image/png": "[encoded data removed]",
      "text/plain": [
       "<Figure size 1200x500 with 2 Axes>"
      ]
     },
     "metadata": {},
     "output_type": "display_data"
    }
   ],
   "source": [
    "fn_difficulty_counts\n",
    "\n",
    "fig, axes = plt.subplots(1, 2, figsize=(12, 5)) # 1 row, by 2 cols, width=12,height=5\n",
    "fig.suptitle('Performance by Hallucination Difficulty')\n",
    "# FNR Difficulty\n",
    "# display fn_difficulty_counts on easy, med, hard bars\n",
    "fnr_diff = metrics_dict['fnr_difficulty']\n",
    "a = axes[0].bar(fnr_diff.index, fnr_diff.values, color='salmon')\n",
    "axes[0].bar_label(a)\n",
    "axes[0].set_title('False Negative Rate (Miss Rate)')\n",
    "axes[0].set_ylabel('False Negative Rate')\n",
    "axes[0].set_xlabel('Difficulty')\n",
    "axes[0].set_ylim(0, 1) # Standard scale for rates"
   ]
  },
  {
   "cell_type": "code",
   "execution_count": 111,
   "id": "64d5ab05-b66e-4fba-bfce-1116177a945d",
   "metadata": {},
   "outputs": [
    {
     "name": "stdout",
     "output_type": "stream",
     "text": [
      "['hard', 'medium', 'easy']\n",
      "['hard', 'medium', 'easy']\n",
      "['Misinterpretation of #Question#',\n",
      " 'Incomplete Information',\n",
      " 'Mechanism and Pathway Misattribution',\n",
      " 'Methodological and Evidence Fabrication']\n",
      "['Misinterpretation of #Question#',\n",
      " 'Incomplete Information',\n",
      " 'Mechanism and Pathway Misattribution',\n",
      " 'Methodological and Evidence Fabrication']\n",
      "\n"
     ]
    }
   ],
   "source": [
    "difficulty_keys = ['hard', 'medium', 'easy']\n",
    "category_keys = ['Incomplete Information',\n",
    "                 'Mechanism and Pathway Misattribution',\n",
    "                 'Misinterpretation of #Question#',\n",
    "                 'Methodological and Evidence Fabrication']\n",
    "# ensure all categories/difficulties are included in their correpsonding dictionary ; avoid NaN values\n",
    "\n",
    "pprint.pp(list(metrics_dict['fn_difficulty_counts'].keys()))\n",
    "pprint.pp(list(metrics_dict['tp_difficulty_counts'].keys()))\n",
    "pprint.pp(list(metrics_dict['fn_category_counts'].keys()))\n",
    "pprint.pp(list(metrics_dict['tp_category_counts'].keys()))\n",
    "\n",
    "# ensure all difficulties are represented in the difficulty dicts, categories in the category dicts\n",
    "for k in difficulty_keys:\n",
    "    if k not in metrics_dict['fn_difficulty_counts'].keys():\n",
    "        metrics_dict['fn_difficulty_counts'][k] = 0\n",
    "    elif k not in metrics_dict['tp_difficulty_counts'].keys():\n",
    "        metrics_dict['tp_difficulty_counts'][k] = 0\n",
    "for k in category_keys:\n",
    "    if k not in metrics_dict['fn_category_counts'].keys():\n",
    "        metrics_dict['fn_category_counts'][k] = 0\n",
    "    elif k not in metrics_dict['tp_category_counts'].keys():\n",
    "        metrics_dicts['tp_category_counts'][k] = 0\n"
   ]
  },
  {
   "cell_type": "code",
   "execution_count": 134,
   "id": "c82e57c4-a7d5-4a13-b7c9-3c13c9026d86",
   "metadata": {},
   "outputs": [
    {
     "name": "stdout",
     "output_type": "stream",
     "text": [
      "# UNSORTED #\n",
      "category\n",
      "Incomplete Information                     0.292453\n",
      "Mechanism and Pathway Misattribution       0.030303\n",
      "Methodological and Evidence Fabrication    0.000000\n",
      "Misinterpretation of #Question#            0.166223\n",
      "Name: count, dtype: float64\n",
      "\n",
      "category\n",
      "Misinterpretation of #Question#            125\n",
      "Incomplete Information                      62\n",
      "Mechanism and Pathway Misattribution         1\n",
      "Methodological and Evidence Fabrication      0\n",
      "Name: count, dtype: int64\n",
      "\n",
      "# SORTED #\n",
      "category\n",
      "Incomplete Information                     0.292453\n",
      "Mechanism and Pathway Misattribution       0.030303\n",
      "Methodological and Evidence Fabrication    0.000000\n",
      "Misinterpretation of #Question#            0.166223\n",
      "Name: count, dtype: float64\n",
      "\n",
      "category\n",
      "Incomplete Information                      62\n",
      "Mechanism and Pathway Misattribution         1\n",
      "Methodological and Evidence Fabrication      0\n",
      "Misinterpretation of #Question#            125\n",
      "Name: count, dtype: int64\n"
     ]
    },
    {
     "data": {
      "text/plain": [
       "pandas.core.series.Series"
      ]
     },
     "execution_count": 134,
     "metadata": {},
     "output_type": "execute_result"
    }
   ],
   "source": [
    "# sort_index() is important !! otherwise the fnr_category and fn_category_counts may not be both listed in the same order\n",
    "print(\"# UNSORTED #\")\n",
    "print(fnr_category)#.sort_index())\n",
    "print()\n",
    "print(fn_category_counts)#.sort_index())\n",
    "print()\n",
    "\n",
    "print(\"# SORTED #\")\n",
    "print(fnr_category.sort_index())\n",
    "print()\n",
    "print(fn_category_counts.sort_index())\n",
    "\n",
    "type(fnr_category)"
   ]
  },
  {
   "cell_type": "code",
   "execution_count": 158,
   "id": "3d818522-89b8-4c14-8547-c118345ac2c5",
   "metadata": {},
   "outputs": [],
   "source": [
    "output_dir = os.path.join(os.getcwd(), 'plots', 'qwen_uncompressed_pqa_labeled')"
   ]
  },
  {
   "cell_type": "code",
   "execution_count": 159,
   "id": "968ddffc-01f4-4783-ae46-2aa94f92cc76",
   "metadata": {},
   "outputs": [
    {
     "name": "stdout",
     "output_type": "stream",
     "text": [
      "/workspace/medical-llm-hallucination-thesis/plots/qwen_uncompressed_pqa_labeled\n"
     ]
    }
   ],
   "source": [
    "\n",
    "#os.path.join(output_dir, f\"confusion_matrix_{experiment_name}.png\")\n",
    "print(output_dir)"
   ]
  },
  {
   "cell_type": "code",
   "execution_count": 162,
   "id": "00fe238f-a3c3-48ae-b4e0-f52e67f15bf5",
   "metadata": {},
   "outputs": [
    {
     "name": "stdout",
     "output_type": "stream",
     "text": [
      "Saved plot: /workspace/medical-llm-hallucination-thesis/plots/qwen_uncompressed_pqa_labeled/perf_by_difficulty_qwen_uncompressed_pqa_labeled.png\n",
      "Saved plot: /workspace/medical-llm-hallucination-thesis/plots/qwen_uncompressed_pqa_labeled/perf_by_category_qwen_uncompressed_pqa_labeled.png\n",
      "Saved plot: /workspace/medical-llm-hallucination-thesis/plots/qwen_uncompressed_pqa_labeled/confusion_matrix_qwen_uncompressed_pqa_labeled.png\n"
     ]
    }
   ],
   "source": [
    "# show the category/difficulty count above each bar in the plot\n",
    "output_dir = os.getcwd()\n",
    "experiment_name = \"qwen_uncompressed_pqa_labeled\"\n",
    "metrics_dict = {\n",
    "    'cm': cm,\n",
    "    'accuracy': accuracy,\n",
    "    'recall': recall,\n",
    "    'f1-score': f1,\n",
    "    'support': support,\n",
    "    'abstention_rate': abstention_rate,\n",
    "    'fn_difficulty_counts': fn_difficulty_counts,\n",
    "    'fn_category_counts': fn_category_counts,\n",
    "    'tp_difficulty_counts': tp_difficulty_counts,\n",
    "    'tp_category_counts': tp_category_counts,\n",
    "    'fnr_difficulty': fnr_difficulty,\n",
    "    'fnr_category': fnr_category,\n",
    "    'tpr_difficulty': tpr_difficulty,\n",
    "    'tpr_category': tpr_category, \n",
    "}\n",
    "rename_hallucination_categories = {\n",
    "    'Incomplete Information': 'Inc. Inf.',\n",
    "    'Mechanism and Pathway Misattribution': 'M&PM',\n",
    "    'Misinterpretation of #Question#': 'MisinterpretQ',\n",
    "    'Methodological and Evidence Fabrication': 'M&E Fab.'\n",
    "}\n",
    "def create_and_save_plots(experiment_name: str, metrics_dict: dict):\n",
    "    \"\"\"\n",
    "    medical-llm-hallucination-thesis/\n",
    "      ...\n",
    "      plots/\n",
    "        qwen_uncompressed_pqa_labeled/\n",
    "          confusion_matrix_qwen_uncompressed_pqa_labeled.png\n",
    "          perf_by_category_qwen_uncompressed_pqa_labeled.png\n",
    "          perf_by_difficulty_qwen_uncompressed_pqa_labeled.png\n",
    "    \"\"\"\n",
    "    output_dir = os.path.join(os.getcwd(), 'plots', f'{experiment_name}')\n",
    "    os.makedirs((output_dir),exist_ok=True)\n",
    "    \n",
    "    # --- Plot 1: FNR/TPR by Diffictuly ---\n",
    "    try:\n",
    "        fig1, axes1 = plt.subplots(1, 2, figsize=(12, 5)) # 1 row, by 2 cols, width=12,height=5\n",
    "        fig1.suptitle('Performance by Hallucination Difficulty')\n",
    "    \n",
    "        # FNR Difficulty\n",
    "        # display fn_difficulty_counts on easy, med, hard bars\n",
    "        fnr_diff = metrics_dict['fnr_difficulty'].sort_index()\n",
    "        fn_dcounts = metrics_dict['fn_difficulty_counts'].sort_index()\n",
    "        fnr_bars = axes1[0].bar(fnr_diff.index, fnr_diff.values, color='salmon')\n",
    "        axes1[0].bar_label(fnr_bars, labels=[f'n={c}' for c in fn_dcounts], fontsize=10, padding=3)\n",
    "        #axes1[0].bar_label(fn_difficulty_counts)\n",
    "        axes1[0].set_title('False Negative Rate (Miss Rate)', pad=15)\n",
    "        axes1[0].set_ylabel('Rate')\n",
    "        axes1[0].set_xlabel('Difficulty')\n",
    "        axes1[0].set_ylim(0, 1) # Standard scale for rates\n",
    "    \n",
    "        # TPR Difficulty\n",
    "        # display tp_difficulty_counts on easy, med, hard bars\n",
    "        tpr_diff = metrics_dict['tpr_difficulty'].sort_index()\n",
    "        tp_dcounts = metrics_dict['tp_difficulty_counts'].sort_index()\n",
    "        tpr_bars = axes1[1].bar(tpr_diff.index, tpr_diff.values, color='lightblue')\n",
    "        axes1[1].bar_label(tpr_bars, labels=[f'n={c}' for c in tp_dcounts], fontsize=10, padding=3)\n",
    "        axes1[1].set_title('True Positive Rate (Recall)', pad=15)\n",
    "        axes1[1].set_ylabel('Rate')\n",
    "        axes1[1].set_xlabel('Difficulty')\n",
    "        axes1[1].set_ylim(0, 1)\n",
    "    \n",
    "        plt.tight_layout()\n",
    "        save_path1 = os.path.join(output_dir, f\"perf_by_difficulty_{experiment_name}.png\")    \n",
    "        plt.savefig(save_path1)\n",
    "        print(f\"Saved plot: {save_path1}\")\n",
    "        plt.close(fig1) # Close the figure\n",
    "    except Exception as e:\n",
    "        print(f\"Failed to create/save difficulty plot: {e}\")\n",
    "    \n",
    "    \n",
    "    # --- Plot 2: FNR/TPR by Category ---\n",
    "    try:\n",
    "        fig2, axes2 = plt.subplots(1, 2, figsize=(12, 5)) # Wider for category labels\n",
    "        fig2.suptitle('Performance by Hallucination Category')\n",
    "    \n",
    "        # FNR Category\n",
    "        # display fn_category_counts on each bar\n",
    "        fnr_cat = metrics_dict['fnr_category'].sort_index()\n",
    "        fn_ccounts = metrics_dict['fn_category_counts'].sort_index()\n",
    "        fnr_bars = axes2[0].bar([rename_hallucination_categories[x] for x in fnr_cat.index], fnr_cat.values, color='salmon')\n",
    "        axes2[0].bar_label(fnr_bars, labels=[f'n={c}' for c in fn_ccounts], fontsize=10, padding=3)\n",
    "        axes2[0].set_title('False Negative Rate (Miss Rate)', pad=15) # in case fnr=1 for one of the categories; prevent overlap\n",
    "        axes2[0].set_ylabel('Rate')\n",
    "        axes2[0].set_xlabel('Category')\n",
    "        axes2[0].tick_params(axis='x', rotation=30)\n",
    "        axes2[0].set_ylim(0, 1)\n",
    "    \n",
    "        # TPR Category\n",
    "        # display tp_category_counts on each bar\n",
    "        tpr_cat = metrics_dict['tpr_category'].sort_index()\n",
    "        tp_ccounts = metrics_dict['tp_category_counts'].sort_index()\n",
    "        tpr_bars = axes2[1].bar([rename_hallucination_categories[x] for x in tpr_cat.index], tpr_cat.values, color='lightblue')\n",
    "        axes2[1].bar_label(tpr_bars, labels=[f'n={c}' for c in tp_ccounts], fontsize=10, padding=3)\n",
    "        axes2[1].set_title('True Positive Rate (Recall)', pad=15)\n",
    "        axes2[1].set_ylabel('Rate')\n",
    "        axes2[1].set_xlabel('Category')\n",
    "        axes2[1].tick_params(axis='x', rotation=30)\n",
    "        axes2[1].set_ylim(0, 1)\n",
    "    \n",
    "        plt.tight_layout()\n",
    "        save_path2 = os.path.join(output_dir, f\"perf_by_category_{experiment_name}.png\")        \n",
    "        plt.savefig(save_path2)\n",
    "        print(f\"Saved plot: {save_path2}\")\n",
    "        plt.close(fig2)\n",
    "    except Exception as e:\n",
    "        print(f\"Failed to create/save category plot: {e}\")\n",
    "    \n",
    "    \n",
    "    # --- Plot 3: Confusion Matrix ---\n",
    "    try:\n",
    "        cm = metrics_dict.get('cm')\n",
    "        if cm is not None:\n",
    "            fig3, ax3 = plt.subplots(figsize=(6, 5))\n",
    "            disp = ConfusionMatrixDisplay(confusion_matrix=cm, display_labels=[0, 1]) # Assuming labels are 0 (Factual), 1 (Hallucinated)\n",
    "            disp.plot(ax=ax3, cmap=plt.cm.Blues)\n",
    "            ax3.set_title('Confusion Matrix')\n",
    "            # Improve labels if needed\n",
    "            ax3.set_xlabel(\"Predicted Label\\n(0: Factual, 1: Hallucination)\")\n",
    "            ax3.set_ylabel(\"True Label\\n(0: Factual, 1: Hallucination)\")\n",
    "    \n",
    "            save_path3 = os.path.join(output_dir, f\"confusion_matrix_{experiment_name}.png\")\n",
    "            plt.tight_layout()        \n",
    "            plt.savefig(save_path3)\n",
    "            print(f\"Saved plot: {save_path3}\")\n",
    "            plt.close(fig3)\n",
    "        else:\n",
    "            print(\"Confusion matrix data not found, skipping plot.\")\n",
    "    except Exception as e:\n",
    "        print(f\"Failed to create/save confusion matrix plot: {e}\")\n",
    "\n",
    "\n",
    "create_and_save_plots(experiment_name, metrics_dict)"
   ]
  },
  {
   "cell_type": "markdown",
   "id": "d0a74577-0742-49d1-952a-c7593c5b2788",
   "metadata": {
    "jp-MarkdownHeadingCollapsed": true
   },
   "source": [
    "### (alt. way of) Generating Hallucination Analysis Plots [deprecated]"
   ]
  },
  {
   "cell_type": "code",
   "execution_count": 22,
   "id": "e3e52cbc-adfd-4736-b00f-a413bf6416e4",
   "metadata": {},
   "outputs": [
    {
     "name": "stdout",
     "output_type": "stream",
     "text": [
      "# prior hallucination counts by difficulty\n"
     ]
    },
    {
     "ename": "NameError",
     "evalue": "name 'raw_df' is not defined",
     "output_type": "error",
     "traceback": [
      "\u001b[0;31m---------------------------------------------------------------------------\u001b[0m",
      "\u001b[0;31mNameError\u001b[0m                                 Traceback (most recent call last)",
      "Cell \u001b[0;32mIn[22], line 11\u001b[0m\n\u001b[1;32m      1\u001b[0m \u001b[38;5;66;03m# critical for hallucinations: TPs (catch all hals) and FNs (avoid missing any hals)\u001b[39;00m\n\u001b[1;32m      2\u001b[0m \u001b[38;5;66;03m# TPR <-> FNR are linked ; a higher TPR => a lower FNR\u001b[39;00m\n\u001b[1;32m      3\u001b[0m \u001b[38;5;66;03m# TPR : TP / (TP + FN)\u001b[39;00m\n\u001b[0;32m   (...)\u001b[0m\n\u001b[1;32m      8\u001b[0m \u001b[38;5;66;03m# in our case, because the data-domain is very closely linked with medicine, we choose to \u001b[39;00m\n\u001b[1;32m      9\u001b[0m \u001b[38;5;66;03m# focus on error rates\u001b[39;00m\n\u001b[1;32m     10\u001b[0m \u001b[38;5;28mprint\u001b[39m(\u001b[38;5;124m\"\u001b[39m\u001b[38;5;124m# prior hallucination counts by difficulty\u001b[39m\u001b[38;5;124m\"\u001b[39m)\n\u001b[0;32m---> 11\u001b[0m \u001b[38;5;28mprint\u001b[39m(\u001b[38;5;124mf\u001b[39m\u001b[38;5;124m\"\u001b[39m\u001b[38;5;132;01m{\u001b[39;00m\u001b[43mraw_df\u001b[49m[\u001b[38;5;124m'\u001b[39m\u001b[38;5;124mhallucination_difficulty\u001b[39m\u001b[38;5;124m'\u001b[39m]\u001b[38;5;241m.\u001b[39mvalue_counts()\u001b[38;5;132;01m}\u001b[39;00m\u001b[38;5;130;01m\\n\u001b[39;00m\u001b[38;5;124m\"\u001b[39m)\n\u001b[1;32m     12\u001b[0m \u001b[38;5;28mprint\u001b[39m(\u001b[38;5;124m\"\u001b[39m\u001b[38;5;124mFN counts\u001b[39m\u001b[38;5;124m\"\u001b[39m)\n\u001b[1;32m     13\u001b[0m \u001b[38;5;28mprint\u001b[39m(\u001b[38;5;124mf\u001b[39m\u001b[38;5;124m\"\u001b[39m\u001b[38;5;132;01m{\u001b[39;00mvalid_df\u001b[38;5;241m.\u001b[39miloc[FN_idxs][\u001b[38;5;124m'\u001b[39m\u001b[38;5;124mdifficulty\u001b[39m\u001b[38;5;124m'\u001b[39m]\u001b[38;5;241m.\u001b[39mvalue_counts()\u001b[38;5;132;01m}\u001b[39;00m\u001b[38;5;130;01m\\n\u001b[39;00m\u001b[38;5;124m\"\u001b[39m)\n",
      "\u001b[0;31mNameError\u001b[0m: name 'raw_df' is not defined"
     ]
    }
   ],
   "source": [
    "# critical for hallucinations: TPs (catch all hals) and FNs (avoid missing any hals)\n",
    "# TPR <-> FNR are linked ; a higher TPR => a lower FNR\n",
    "# TPR : TP / (TP + FN)\n",
    "# FNR : FN / (TP + FN) = 1 - TPR\n",
    "# => so, recording both TP and FN may be redundant, as info about one tells us about the other\n",
    "# => different convention in different fields; i.e. in medicine focus is on FNR (alpha error),\n",
    "# whereas in information retrieval, focus is on TPR (recall), though both are complementary measures.\n",
    "# in our case, because the data-domain is very closely linked with medicine, we choose to \n",
    "# focus on error rates\n",
    "print(\"# prior hallucination counts by difficulty\")\n",
    "print(f\"{raw_df['hallucination_difficulty'].value_counts()}\\n\")\n",
    "print(\"FN counts\")\n",
    "print(f\"{valid_df.iloc[FN_idxs]['difficulty'].value_counts()}\\n\")\n",
    "print(\"TP counts\")\n",
    "print(f\"{valid_df.iloc[TP_idxs]['difficulty'].value_counts()}\\n\")\n",
    "\n",
    "print(\"# prior hallucination counts by category\")\n",
    "print(f\"{raw_df['hallucination_category'].value_counts()}\\n\")\n",
    "print(\"FN counts\")\n",
    "print(f\"{valid_df.iloc[FN_idxs]['category'].value_counts()}\\n\")\n",
    "print(\"TP counts\")\n",
    "print(f\"{valid_df.iloc[TP_idxs]['category'].value_counts()}\\n\")"
   ]
  },
  {
   "cell_type": "code",
   "execution_count": null,
   "id": "0816b830-9d35-47d1-9cc8-bc4051054239",
   "metadata": {},
   "outputs": [],
   "source": [
    "# --- Alternate method (the first) we used to do hallucination classification analysis ---\n",
    "# --- we may deprecate this, because it seems more complicated than just using pandas df.value_counts()\n",
    "fn_difficulty_group = valid_df.iloc[FN_idxs][['gt', 'difficulty']].groupby(\"difficulty\")['gt'].sum() # same result as value_counts()?\n",
    "fn_category_group = valid_df.iloc[FN_idxs][['gt', 'category']].groupby(\"category\")['gt'].sum()\n",
    "tp_difficulty_group = valid_df.iloc[TP_idxs][['gt', 'difficulty']].groupby(\"difficulty\")['gt'].sum()\n",
    "tp_category_group = valid_df.iloc[TP_idxs][['gt', 'category']].groupby(\"category\")['gt'].sum()\n",
    "hal_tp_analysis = {'tp_difficulty': tp_difficulty_group.to_dict(), 'tp_category': tp_category_group.to_dict()}\n",
    "hal_fn_analysis = {'fn_difficulty': fn_difficulty_group.to_dict(), 'fn_category': fn_category_group.to_dict()}"
   ]
  },
  {
   "cell_type": "code",
   "execution_count": null,
   "id": "057b68e4-50a1-4fb5-afcb-6d61e5f378d1",
   "metadata": {},
   "outputs": [],
   "source": [
    "pprint.pp(hal_tp_analysis) # add to results_dict?\n",
    "pprint.pp(hal_fn_analysis)"
   ]
  },
  {
   "cell_type": "code",
   "execution_count": null,
   "id": "57663c8f-1e9d-41f0-bd9b-4481b8f18c17",
   "metadata": {},
   "outputs": [],
   "source": [
    "# --- Plot FN Distributions (counts) ---\n",
    "plt.title('Distribution of Hallucination Type in FNs [count]')\n",
    "plt.bar(hal_fn_analysis['fn_difficulty'].keys(), hal_fn_analysis['fn_difficulty'].values())\n",
    "#plt.show()\n",
    "rename_hal_types = {'Incomplete Information': 'Inc. Inf.',\n",
    "                    'Mechanism and Pathway Misattribution': 'M&PM',\n",
    "                    'Misinterpretation of #Question#': 'MisinterpretQ',\n",
    "                    'Methodological and Evidence Fabrication': 'M&E Fab.'}\n",
    "plt.bar([rename_hal_types[k] for k in hal_fn_analysis['fn_category'].keys()],\n",
    "        hal_fn_analysis['fn_category'].values())\n",
    "plt.xticks(rotation=30)"
   ]
  },
  {
   "cell_type": "code",
   "execution_count": null,
   "id": "a78db749-e34f-4b11-953a-5159efd61ae3",
   "metadata": {},
   "outputs": [],
   "source": [
    "# --- Plot TP Distributions (counts) ---\n",
    "plt.title('Distribution of Hallucination Type in TPs [counts]')\n",
    "plt.bar(hal_tp_analysis['tp_difficulty'].keys(), hal_tp_analysis['tp_difficulty'].values())\n",
    "#plt.show()\n",
    "rename_hal_types = {'Incomplete Information': 'Inc. Inf.',\n",
    "                    'Mechanism and Pathway Misattribution': 'M&PM',\n",
    "                    'Misinterpretation of #Question#': 'MisinterpretQ',\n",
    "                    'Methodological and Evidence Fabrication': 'M&E Fab.'}\n",
    "plt.bar([rename_hal_types[k] for k in hal_tp_analysis['tp_category'].keys()],\n",
    "        hal_tp_analysis['tp_category'].values())\n",
    "plt.xticks(rotation=30)"
   ]
  },
  {
   "cell_type": "code",
   "execution_count": null,
   "id": "516c1896-cb90-4c49-bd4d-3fb8b60c9d6d",
   "metadata": {},
   "outputs": [],
   "source": [
    "plt.bar(fn_difficulty_group.to_dict().keys(), fn_difficulty_group.to_dict().values())\n",
    "plt.show()\n",
    "\n",
    "fn_category_group = valid_df.iloc[FN_idxs][['gt', 'category']].groupby(\"category\")['gt'].sum()\n",
    "print(list(fn_category_group.to_dict().keys()))\n",
    "fig, ax = plt.subplots()\n",
    "ax.bar(fn_category_group.to_dict().keys(), fn_category_group.to_dict().values())\n",
    "#plt.xticks(rotation=40)\n",
    "ax.tick_params(rotation=45)\n",
    "plt.show()\n",
    "#fn_category_group.astype(float).plot(kind='bar')"
   ]
  },
  {
   "cell_type": "code",
   "execution_count": null,
   "id": "73fbd991-126f-40cf-aa8a-08c93547564d",
   "metadata": {},
   "outputs": [],
   "source": [
    "valid_df.iloc[FN_idxs][['gt', 'category']].groupby(\"category\")['gt'].sum()\n",
    "#fn_category_group.astype(float).plot(kind='bar')"
   ]
  },
  {
   "cell_type": "code",
   "execution_count": null,
   "id": "bc7abc0e-e88c-497a-ad52-c47f424876b2",
   "metadata": {},
   "outputs": [],
   "source": [
    "# most important metric in hallucination detection in recall ; \n",
    "# false negatives are highly costly ; higher recall -> less FNs ; for all FNs we can look examine distribution of hallucination type/difficulty"
   ]
  },
  {
   "cell_type": "markdown",
   "id": "58682fcb-2221-40a9-a033-072be25bdd7e",
   "metadata": {},
   "source": [
    "## Save Results"
   ]
  },
  {
   "cell_type": "markdown",
   "id": "d57ba846-68f8-4c90-9d54-b7bb51eab48a",
   "metadata": {},
   "source": [
    "Currently, experiment tracking consists of writing the whole results dictionary to a txt file. This way of tracking results may make lead to lots of time wasted in trying to analyze results after multiple experiments have been done (i.e. for different quant levels, quant methods, models). By then, the txt file may be too messy to work with.\n",
    "\n",
    "**todo:** consider alternative method(s) of exp. tracking"
   ]
  },
  {
   "cell_type": "code",
   "execution_count": null,
   "id": "1b180273-3901-429e-ba8e-daed7044db58",
   "metadata": {},
   "outputs": [],
   "source": [
    "1+1"
   ]
  },
  {
   "cell_type": "code",
   "execution_count": null,
   "id": "c0515f3b-833d-4913-b52b-7fddfd86a815",
   "metadata": {},
   "outputs": [],
   "source": [
    "import json"
   ]
  },
  {
   "cell_type": "code",
   "execution_count": null,
   "id": "6f7e32c8-85f0-41aa-b2cd-1ecb2dcc6887",
   "metadata": {},
   "outputs": [],
   "source": [
    "#EXPERIMENT_NAME = f\n",
    "#EXPERIMENT_NAME#.split('/')[-1]\n",
    "#qwen['gguf_files']['4b']\n",
    "EXPERIMENT_NAME = f\"{qwen['gguf_files']['4b']}_{DATASET_CONFIG.lower()}\""
   ]
  },
  {
   "cell_type": "code",
   "execution_count": null,
   "id": "c1b8a5de-b3c5-499c-95a4-a7a121357b3c",
   "metadata": {
    "editable": true,
    "slideshow": {
     "slide_type": ""
    },
    "tags": []
   },
   "outputs": [],
   "source": [
    "# --- Save Results ---\n",
    "# can we write these results as a line in a text/csv/yaml file?\n",
    "# is there a better way to track results i.e. incl exp name, use a config file, use tool(s) like Hydra, W&B?\n",
    "EXPERIMENT_NAME = EXPERIMENT_NAME.split('/')[-1]\n",
    "results = {\n",
    "    'experiment_name': EXPERIMENT_NAME,\n",
    "    'metrics': {\n",
    "        'cm': cm.tolist(),\n",
    "        'accuracy': accuracy,\n",
    "        'precision': precision,\n",
    "        'recall': recall, \n",
    "        'f1': f1,\n",
    "        'abstention_rate': abstention_rate, \n",
    "        'gpu_peak_memory_gb': peak_memory_gb,\n",
    "        'fnr_difficulty': fnr_difficulty.to_dict(),\n",
    "        'fnr_category': fnr_category.to_dict(),\n",
    "        'tpr_difficulty': tpr_difficulty.to_dict(),\n",
    "        'tpr_category': tpr_category.to_dict()\n",
    "    }\n",
    "}\n",
    "\n",
    "def write_results_to_json(results: dict = results):\n",
    "    out_file = f\"results_{EXPERIMENT_NAME}.json\"\n",
    "    print(f\"Saving results to {out_file}.\")\n",
    "    with open(out_file, 'w') as f:\n",
    "        json.dump(results, f, indent=4)\n",
    "    print(\"Save complete.\")\n",
    "    \n",
    "def write_results_to_txt(results: dict = results):\n",
    "    pprint.pp((results_df))\n",
    "    with open('results.txt', 'w') as results_file:\n",
    "        results_file.write(str(results_df))\n",
    "\n",
    "write_results_to_json()"
   ]
  },
  {
   "cell_type": "code",
   "execution_count": null,
   "id": "36e55047-349a-48bf-8ded-25ad3e38decc",
   "metadata": {},
   "outputs": [],
   "source": [
    "pd.Series(fnr_category.to_dict())"
   ]
  },
  {
   "cell_type": "code",
   "execution_count": null,
   "id": "9a4fd6a3-d656-441e-82f7-fb15dd96e64e",
   "metadata": {},
   "outputs": [],
   "source": [
    "dp = ConfusionMatrixDisplay(cm)\n",
    "dp.plot()\n",
    "plt.show()"
   ]
  },
  {
   "cell_type": "code",
   "execution_count": null,
   "id": "1faf71e9-a0b7-4e77-bf63-a91c70dab8be",
   "metadata": {},
   "outputs": [],
   "source": [
    "cm.tolist()"
   ]
  },
  {
   "cell_type": "code",
   "execution_count": null,
   "id": "0d838517-b8b9-4442-9467-1e4d5ce9712a",
   "metadata": {},
   "outputs": [],
   "source": [
    "t.tensor(list(zip(all_ground_truths, predictions))).shape"
   ]
  },
  {
   "cell_type": "code",
   "execution_count": null,
   "id": "f565f3aa-7e60-469e-a59d-1a676dce2b4a",
   "metadata": {},
   "outputs": [],
   "source": [
    "tokenizer.encode('!')"
   ]
  },
  {
   "cell_type": "markdown",
   "id": "5a66025c-41d5-45b0-aa28-9b63655261c4",
   "metadata": {},
   "source": [
    "## Tests"
   ]
  },
  {
   "cell_type": "code",
   "execution_count": null,
   "id": "48335133-43b8-4c0c-9175-41d86b897e87",
   "metadata": {},
   "outputs": [],
   "source": [
    "def check_dataset():\n",
    "  print(ds['train'])\n",
    "  i = 0\n",
    "  for row in ds['train']:\n",
    "    if i == 4:\n",
    "      break\n",
    "    question = row['Question']\n",
    "    hallucinated_answer = row['Hallucinated Answer']\n",
    "    ground_truth_answer = row['Ground Truth']\n",
    "    hal_difficulty = row[\"Difficulty Level\"]\n",
    "    hal_category = row[\"Category of Hallucination\"]\n",
    "    print(hal_difficulty, hal_category)\n",
    "    i += 1\n",
    "check_dataset()"
   ]
  },
  {
   "cell_type": "code",
   "execution_count": null,
   "id": "e2660a76-8d7a-4325-a794-796b2ec87dec",
   "metadata": {},
   "outputs": [],
   "source": [
    "def test_confusion_matrix_calculation():\n",
    "    # test 1\n",
    "    test_gt_pred_pairs = [(1,1), (1,1), (1, 1), (0,1), (0,0), (0,0), (1,0), (1,0), (1,0), (1,0), (1,0)]\n",
    "    TP, FP, TN, FN, TP_idxs, FP_idxs, TN_idxs, FN_idxs = compute_confusion_matrix_vals(test_gt_pred_pairs)\n",
    "    assert TP == 3 and FP == 1 and TN == 2 and FN == 5\n",
    "    \n",
    "    print(\"Test Passed (confusion matrix)\")\n",
    "test_confusion_matrix_calculation()"
   ]
  },
  {
   "cell_type": "markdown",
   "id": "bc38889e-c607-46ee-b0f5-5247c8a0af53",
   "metadata": {},
   "source": [
    "## Misc. Comments"
   ]
  },
  {
   "cell_type": "code",
   "execution_count": null,
   "id": "25d887d5-7396-4779-b96d-d0ccd1f20a59",
   "metadata": {},
   "outputs": [],
   "source": [
    "\n",
    "# --- quantization-performance degradation profile between families of models\n",
    "# note: model quantization-performance degradation profile/trends might vary across model families\n",
    "# [HarmBench Paper]: although their focus is different (also concerned with LLM safety, but measuring\n",
    "# a different dimension: robustness to adversarial attacks at different model sizes across different families)\n",
    "# they found that LLaMa models had the lowest (=best) attack success rate (ASR) across all model sizes, whereas for example\n",
    "# Mistral models had the highest (=worst) attack success rate (ASR) across all model sizes\n",
    "# the rankings of models according to ASR remained about the same even across varying model size\n",
    "# their conclusion was that the difference in underlying training data and algorithms between the model families\n",
    "# is a more significant causal explanation for their overall ASR perfomrance difference i.e. (model) size doesn't have as much of an effect as expected.\n",
    "# relevance to us: maybe across different quantization levels, the 'pecking order' of performance amongst model families\n",
    "# may be unchanged? or, perhaps the 'behaviour' of degradation various between families. (some don't have much\n",
    "# performance degradation, some see positive trend in performance, some see steep negative trend, etc.)\n",
    "\n",
    "# for each model, let's say we do a sweep of runs from [2,3,4,5,6,8]b quantizations\n",
    "# I'll need to specify all the different filenames for each option\n",
    "# use hydra hierarchical cfg to make it easier to organize and execute these runs?\n",
    "\n",
    "# for gguf, we need to initialize the tokenizer and model diffeerently\n",
    "# todo: just add gguf_file to model_kwargs?\n",
    "\n",
    "\n",
    "# --- Metrics\n",
    "# something to think about.. what is the goal here? if we have an assistant AI answering medical questions,\n",
    "# if we verify answers with an LLM-checker, we'd want that LLM-checker to be compact so deployment is easy\n",
    "# and we'd want it to be good and identifying the hallucinations so we can weed them out\n",
    "# and protect relevant stakeholders (i.e. doctors, laypeople) from misleading information\n",
    "# for developers, if we can get insights into types of answers/hallucinations that compressed models work best/worst with\n",
    "# this could help them inform strategies for deploying an LLM-checker\n",
    "# i.e. \"for our use case, it's most important to avoid B type hallucinations, or that's the most commong type that \n",
    "# could come up in our work ; we have X physical constraints for the device we have access to\"\n",
    "# so for them, perhaps we'd go with 1B awq_4bit quantized model. granted, model's move fast i.e.\n",
    "# what's new today is old tomorrow ; so at the very least, we'd be contributed a codebase that\n",
    "# developers can use to easily swap in different models, to quickly test what's best for their use case"
   ]
  },
  {
   "cell_type": "code",
   "execution_count": null,
   "id": "ea6452bd-651e-48a7-98e5-39293f12f679",
   "metadata": {},
   "outputs": [],
   "source": [
    "# misc. code\n",
    "\"\"\"\n",
    "    exp_names = ['qwen-base_gguf_8b', # runs for gguf quantization\n",
    "                 'qwen-base_gguf_6b',\n",
    "                 'qwen-base_gguf_5b',\n",
    "                 'qwen-base_gguf_4b',\n",
    "                 'qwen-base_gguf_3b',\n",
    "                 'qwen-base_gguf_2b',\n",
    "                 'llama3-med_gguf_8b',\n",
    "                 'llama3-med_gguf_6b',\n",
    "                 'llama3-med_gguf_5b',\n",
    "                 'llama3-med_gguf_4b',\n",
    "                 'llama3-med_gguf_3b',\n",
    "                 'llama3-med_gguf_2b',\n",
    "                 'qwen-base_bnb_8b', # quantization via bits and bytes ; fewer quant options\n",
    "                 'qwen-base_bnb_4b',\n",
    "                 'llama3-med_bnb_8b',\n",
    "                 'llama3-med_gguf_4b'] # add more quant methods (e.g., awq) if time permits?\n",
    "    for exp in exp_names:\n",
    "        self.model_family, self.quantization_method, self.q_level = exp.split('_') #cfg.exp_name.split('_')\n",
    "\n",
    "    cfg_model_to_download_pth = {\n",
    "        \"qwen-base\": \"Qwen/Qwen2.5-7B-Instruct\",\n",
    "        \"qwen-base-gguf\": \"bartowski/Qwen2.5-7B-Instruct-GGUF\",\n",
    "        \"llama3-med-base\": \"m42-health/Llama3-Med42-8B\",\n",
    "        \"llama3-med-gguf\": \"mradermacher/Llama3-Med42-8B-GGUF\"\n",
    "    }\n",
    "    self.model_path = cfg_model_to_download_pth[self.model_family] # param #1 in AutoModelForCausalML()\n",
    "\n",
    "    # only for gguf quantization ; not useful for other quants (e.g., awq, gpqa)\n",
    "    # maybe remove/replace with accessing values in a cfg file?\n",
    "    model_path_to_gguf = {\n",
    "    \"Qwen/Qwen2.5-7B-Instruct\": None,\n",
    "    \"bartowski/Qwen2.5-7B-Instruct-GGUF\": {\n",
    "            '8b': \"Qwen2.5-7B-Instruct-Q8_0.gguf\",\n",
    "            '6b': {'Q6_K_L': 'Qwen2.5-7B-Instruct-Q6_K_L.gguf', # 6.52GB\n",
    "                   'Q6_K': 'Qwen2.5-7B-Instruct-Q6_K.gguf'},    # 6.25GB\n",
    "            '5b': \"Qwen2.5-7B-Instruct-Q5_K_S.gguf\",\n",
    "            '4b': \"Qwen2.5-7B-Instruct-Q4_K_M.gguf\",\n",
    "            '3b': \"Qwen2.5-7B-Instruct-Q3_K_XL.gguf\",\n",
    "            '2b': \"Qwen2.5-7B-Instruct-Q2_K.gguf\"\n",
    "        },\n",
    "     \"mradermacher/Llama3-Med42-8B-GGUF\": {\n",
    "         '8b': None,\n",
    "         '6b': None,\n",
    "         '5b': None,\n",
    "         '4b': None,\n",
    "         '3b': None,\n",
    "         '2b': None,\n",
    "     }\n",
    "    }\n",
    "    self.gguf_path = model_path_to_gguf[self.model_path][self.q_level] # problem: some q_levels have multiple ggufs\n",
    "\"\"\""
   ]
  }
 ],
 "metadata": {
  "kernelspec": {
   "display_name": "Python3 (ipykernel)",
   "language": "python",
   "name": "python3"
  },
  "language_info": {
   "codemirror_mode": {
    "name": "ipython",
    "version": 3
   },
   "file_extension": ".py",
   "mimetype": "text/x-python",
   "name": "python",
   "nbconvert_exporter": "python",
   "pygments_lexer": "ipython3",
   "version": "3.10.12"
  }
 },
 "nbformat": 4,
 "nbformat_minor": 5
}
