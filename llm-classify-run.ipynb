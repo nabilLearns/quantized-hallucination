{
 "cells": [
  {
   "cell_type": "code",
   "execution_count": 202,
   "id": "ddb2d9fc-0f56-4582-b75c-8403cdd30022",
   "metadata": {},
   "outputs": [
    {
     "name": "stdout",
     "output_type": "stream",
     "text": [
      "Tue Apr  8 17:03:31 2025       \n",
      "+-----------------------------------------------------------------------------------------+\n",
      "| NVIDIA-SMI 565.57.01              Driver Version: 565.57.01      CUDA Version: 12.7     |\n",
      "|-----------------------------------------+------------------------+----------------------+\n",
      "| GPU  Name                 Persistence-M | Bus-Id          Disp.A | Volatile Uncorr. ECC |\n",
      "| Fan  Temp   Perf          Pwr:Usage/Cap |           Memory-Usage | GPU-Util  Compute M. |\n",
      "|                                         |                        |               MIG M. |\n",
      "|=========================================+========================+======================|\n",
      "|   0  Tesla V100-SXM2-32GB           On  |   00000000:42:00.0 Off |                    0 |\n",
      "| N/A   36C    P0             40W /  250W |   14905MiB /  32768MiB |      0%      Default |\n",
      "|                                         |                        |                  N/A |\n",
      "+-----------------------------------------+------------------------+----------------------+\n",
      "                                                                                         \n",
      "+-----------------------------------------------------------------------------------------+\n",
      "| Processes:                                                                              |\n",
      "|  GPU   GI   CI        PID   Type   Process name                              GPU Memory |\n",
      "|        ID   ID                                                               Usage      |\n",
      "|=========================================================================================|\n",
      "+-----------------------------------------------------------------------------------------+\n"
     ]
    }
   ],
   "source": [
    "!nvidia-smi"
   ]
  },
  {
   "cell_type": "code",
   "execution_count": 203,
   "id": "d153ff6e-55f6-466c-8d50-d91ba5eaae22",
   "metadata": {},
   "outputs": [],
   "source": [
    "!pip install --upgrade transformers accelerate datasets optimum peft auto-gptq bitsandbytes scikit-learn torch matplotlib tqdm --quiet\n",
    "!pip install flash-attn --no-build-isolation --quiet # for qwen2, newer nvidia gpus i.e. ampere and above"
   ]
  },
  {
   "cell_type": "code",
   "execution_count": 204,
   "id": "a96cea69-0725-40d6-891c-56327701f300",
   "metadata": {},
   "outputs": [
    {
     "name": "stdout",
     "output_type": "stream",
     "text": [
      "Loading UTAustin-AIHealth/MedHallu dataset (pqa_labeled)...\n",
      "Limiting dataset to 1000 samples for testing.\n",
      "Loading tokenizer for Qwen/Qwen2.5-7B-Instruct...\n",
      "Setting up Qwen/Qwen2.5-7B-Instruct with quantization: None...\n",
      "Loading uncompressed model\n",
      "Loading model: Qwen/Qwen2.5-7B-Instruct\n"
     ]
    },
    {
     "data": {
      "application/vnd.jupyter.widget-view+json": {
       "model_id": "9523d4442d734065b337cc7feb7e72a4",
       "version_major": 2,
       "version_minor": 0
      },
      "text/plain": [
       "Loading checkpoint shards:   0%|          | 0/4 [00:00<?, ?it/s]"
      ]
     },
     "metadata": {},
     "output_type": "display_data"
    },
    {
     "name": "stderr",
     "output_type": "stream",
     "text": [
      "Device set to use cuda:0\n"
     ]
    },
    {
     "name": "stdout",
     "output_type": "stream",
     "text": [
      "Qwen/Qwen2.5-7B-Instruct model loaded successfully!\n",
      "Preparing prompts\n",
      "Prompts are prepared.\n"
     ]
    }
   ],
   "source": [
    "import os\n",
    "import pandas as pd\n",
    "import torch\n",
    "from datasets import load_dataset\n",
    "from transformers import AutoModelForCausalLM, AutoTokenizer, pipeline, GPTQConfig, BitsAndBytesConfig\n",
    "from sklearn.metrics import accuracy_score, precision_recall_fscore_support, ConfusionMatrixDisplay #,confusion_matrix\n",
    "import matplotlib.pyplot as plt\n",
    "import numpy as np\n",
    "import gc # garbage collector interface\n",
    "import pprint\n",
    "from typing import List, Tuple\n",
    "from tqdm import tqdm\n",
    "import math\n",
    "\n",
    "# --- Configuration ---\n",
    "MODEL_NAME = 'Qwen/Qwen2.5-7B-Instruct' # try different models later\n",
    "DATASET_NAME = 'UTAustin-AIHealth/MedHallu'\n",
    "DATASET_CONFIG = 'pqa_labeled' # try adding pqa_artiifcal later\n",
    "BATCH_SIZE = 8\n",
    "MAX_SAMPLES = 1000\n",
    "QUANTIZATION_MODE = None\n",
    "OUTPUT_FILENAME = f'hallucination_results_{MODEL_NAME}_{QUANTIZATION_MODE}_{DATASET_CONFIG}.csv'\n",
    "\n",
    "# --- Load Dataset ---\n",
    "print(f'Loading {DATASET_NAME} dataset ({DATASET_CONFIG})...')\n",
    "ds = load_dataset(DATASET_NAME, DATASET_CONFIG)\n",
    "dataset = ds['train'] # use train split which has 1k labelled samples\n",
    "\n",
    "if MAX_SAMPLES is not None:\n",
    "    print(f'Limiting dataset to {MAX_SAMPLES} samples for testing.')\n",
    "    dataset = dataset.select(range(MAX_SAMPLES)) # for N rows, there are 2*N answers for hallucination-detection LLM to classify (1 gt, 1 hallucinated answers)\n",
    "\n",
    "# --- Setup Model and Tokenizer\n",
    "print(f'Loading tokenizer for {MODEL_NAME}...')\n",
    "tokenizer = AutoTokenizer.from_pretrained(MODEL_NAME, trust_remote_code=True, padding_side=\"left\") # was getting an error when trying to run inference on inputs with default padding_side = right\n",
    "if tokenizer.pad_token is None:\n",
    "    tokenizer.pad_token = tokenizer.eos_token # set pad token for batching if not present\n",
    "\n",
    "# --- Quantization Setup --- need to test this, and clean it up (^^ゞ\n",
    "print(f'Setting up {MODEL_NAME} with quantization: {QUANTIZATION_MODE}...')\n",
    "\n",
    "quantization_config = None\n",
    "if QUANTIZATION_MODE == '8bit_bnb':\n",
    "    quantization_config = BitsAndBytesConfig(load_in_8bit=True)\n",
    "elif QUANTIZATION_MODE == '4bit_bnb':\n",
    "    quantization_config = BitsAndBytesConfig(\n",
    "        load_in_4bit=True,\n",
    "        bnb_4bit_quant_type=\"nf4\",\n",
    "        bnb_4bit_use_double_quant=True,\n",
    "        bnb_4bit_compute_dtype=torch.bfloat16\n",
    "    )\n",
    "elif QUANTIZATION_MODE == '4bit_gptq':\n",
    "    quantization_config = GPTQConfig(bits=4, dataset='c4', tokenizer=tokenizer)\n",
    "else:\n",
    "    print(\"Loading uncompressed model\")\n",
    "\n",
    "model_kwargs = {\n",
    "    \"quantization_config\": quantization_config,\n",
    "    \"device_map\": \"auto\",\n",
    "    \"attn_implementation\": \"eager\", #\"flash_attention_2\", ; doesn't work on Volta GPU (old) ; so ignoring this for now ; may revisit if I need to speed up inference\n",
    "    \"torch_dtype\": torch.float16, # torch.bfloat16 for ampere, maybe not best on older Volta GPU\n",
    "    \"trust_remote_code\": True\n",
    "}\n",
    "\n",
    "if QUANTIZATION_MODE == None:\n",
    "    model_kwargs.pop(\"quantization_config\")\n",
    "elif QUANTIZATION_MODE == \"4bit_gptq\":\n",
    "    model_kwards.pop(\"torch_dtype\")\n",
    "\n",
    "# --- Instantiate Model ---\n",
    "try:\n",
    "    if 'model' in globals():\n",
    "        print(\"Deleting existing global 'model' variable.\")\n",
    "        del globals()['model']\n",
    "    if 'classifier' in globals():\n",
    "        print(\"Deleting existing bloal 'classifier' variable.\")\n",
    "        del globals()['classifier']\n",
    "    gc.collect()\n",
    "    torch.cuda.empty_cache()\n",
    "\n",
    "    print(f\"Loading model: {MODEL_NAME}\")\n",
    "    model = AutoModelForCausalLM.from_pretrained(MODEL_NAME, **model_kwargs)\n",
    "    print(f\"{MODEL_NAME} model loaded successfully!\")\n",
    "    #print(model.hf_device_map)\n",
    "\n",
    "except Exception as e:\n",
    "    print(f\"Failed to load model: {e}\")\n",
    "    raise e\n",
    "\n",
    "\n",
    "# --- Setup Pipeline ---\n",
    "classifier = pipeline(\n",
    "    'text-generation',\n",
    "    model=model,\n",
    "    tokenizer=tokenizer,\n",
    "    device_map=\"auto\"\n",
    ")\n",
    "\n",
    "# --- Define Prompting Function ---\n",
    "# used in the paper\n",
    "original_system_prompt = \"\"\"\n",
    "You are an AI assistant with extensive knowledge in the field of medicine. I want you act as an answer judge. Given a question and an\n",
    "answer, your objective is to determine if the provided answer contains non-factual or hallucinated information. You SHOULD give your judgement based\n",
    "on the following hallucination types and the world knowledge.\n",
    "\n",
    "You are trying to determine if there is a factual contradiction between the answer and the world knowledge.\n",
    "Some information in the answer might be fabricated. Answer '0' if the answer is factual and '1' if the answer is hallucinated.\n",
    "You can categorize the answer as hallucinated if it falls in either of the category:\n",
    "\n",
    "Type: Misinterpretation of #Question#: These are hallucinated answers that misunderstands the question, leading to an off-topic or\n",
    "irrelevant response.\n",
    "Type: Incomplete Information: These are hallucinated answers that Point out what is not true without providing correct information.\n",
    "Type: Mechanism and Pathway Misattribution - These are hallucinated answer that falsely attribution of biological mechanisms,\n",
    "molecular pathways, or disease processes that contradicts established medical knowledge\n",
    "Type: Methodological and Evidence Fabrication - Inventing false research methods, statistical data, or specific clinical outcomes\n",
    "\n",
    "Do not return anything else, just the answer.\n",
    "Return just an integer value, '0' if the answer is factual and '1' if the answer is hallucinated. No letter or word, just the integer value.\n",
    "\"\"\"\n",
    "\n",
    "# modification on our part to allow model to refrain from making a classification if it is not sure\n",
    "not_sure_system_prompt = \"\"\"\n",
    "You are an AI assistant with extensive knowledge in the field of medicine. I want you act as an answer judge. Given a question, an\n",
    "answer, and relevant World Knowledge, determine if the provided answer is factual or contains hallucinated information based on the knowledge provided and established medical facts.\n",
    "\n",
    "- If the answer is factual and consistent with world knowledge, return '0'.\n",
    "- If the answer contains non-factual, hallucinated, or contradictory information based on the knowledge provided or established medical facts (e.g., Misinterpretation, Incomplete Info, Mechanism Misattribution, Fabrication), return '1'.\n",
    "- If you are genuinely uncertain or cannot make a definitive judgement based on the provided context and your medical knowledge, return '2'.\n",
    "\n",
    "Do not return anything else, just the integer value.\n",
    "\n",
    "Return '0' for factual, '1' for hallucinated, '2' for not sure.\n",
    "\n",
    "You can categorize the answer as hallucinated if it falls in either of the category:\n",
    "\n",
    "Type: Misinterpretation of #Question#: These are hallucinated answers that misunderstands the question, leading to an off-topic or\n",
    "irrelevant response.\n",
    "Type: Incomplete Information: These are hallucinated answers that Point out what is not true without providing correct information.\n",
    "Type: Mechanism and Pathway Misattribution - These are hallucinated answer that falsely attribution of biological mechanisms,\n",
    "molecular pathways, or disease processes that contradicts established medical knowledge\n",
    "Type: Methodological and Evidence Fabrication - Inventing false research methods, statistical data, or specific clinical outcomes\n",
    "\n",
    "Do not return anything else, just the answer.\n",
    "Return just an integer value, '0' if the answer is factual, '1' if the answer is hallucinated, '2' if not sure. No letter or word, just the integer value.\n",
    "\"\"\"\n",
    "\n",
    "not_sure_system_prompt2 = \"\"\"\n",
    "You are an AI judge with extensive knowledge in the field of medicine. I want you act as an answer judge. Given World Knowledge, a Question, and an Answer:\n",
    "- Return '0' if the Answer is factual based on the Knowledge and your understanding of medicine.\n",
    "- Return '1' if the Answer is hallucinated based on the Knowledge and/or your understanding of medicine.\n",
    "- Return '2' if you are unsure.\n",
    "\n",
    "You SHOULD give your judgement based on the following hallucination types and the world knowledge.\n",
    "You are trying to determine if there is a factual contradiction between the answer and the world knowledge.\n",
    "Some information in the answer might be fabricated. Answer '0' if the answer is factual, '1' if the answer is hallucinated, '2' if you are unsure.\n",
    "\n",
    "Output only the single digit 0, 1, or 2 and nothing else.\n",
    "\n",
    "You can categorize the answer as hallucinated if it falls in either of the category:\n",
    "\n",
    "Type: Misinterpretation of #Question#: These are hallucinated answers that misunderstands the question, leading to an off-topic or\n",
    "irrelevant response.\n",
    "Type: Incomplete Information: These are hallucinated answers that Point out what is not true without providing correct information.\n",
    "Type: Mechanism and Pathway Misattribution - These are hallucinated answer that falsely attribution of biological mechanisms,\n",
    "molecular pathways, or disease processes that contradicts established medical knowledge\n",
    "Type: Methodological and Evidence Fabrication - Inventing false research methods, statistical data, or specific clinical outcomes\n",
    "\n",
    "Do not return anything else, just the answer.\n",
    "Return just an integer value, '0' if the answer is factual, '1' if the answer is hallucinated, or '2'. No letter or word, just the integer value.\n",
    "\"\"\"\n",
    "\n",
    "def format_prompt_chatml(knowledge: str, question: str, answer: str) -> List[dict]:\n",
    "    few_shot_not_sure_user_content = f\"\"\"\n",
    "    World Knowledge: [Example Knowledge Snippet]\n",
    "    Question: [Example Question]\n",
    "    Answer: [Example Factual Answer]\n",
    "    Your Judgement: 0\n",
    "    \n",
    "    World Knowledge: [Example Knowledge Snippet 2]\n",
    "    Question: [Example Question 2]\n",
    "    Answer: [Example Hallucinated Answer]\n",
    "    Your Judgement: 1\n",
    "    \n",
    "    World Knowledge: [Example Knowledge Snippet 3 - where answer might be ambiguous or knowledge insufficient]\n",
    "    Question: [Example Question 3]\n",
    "    Answer: [Example Ambiguous Answer or Answer unrelated to Knowledge]\n",
    "    Your Judgement: 2\n",
    "    \n",
    "    --- Now your turn ---\n",
    "    World Knowledge: {knowledge}\n",
    "    Question: {question}\n",
    "    Answer: {answer}\n",
    "    \n",
    "    Return just '0' (factual), '1' (hallucinated), or '2' (not sure).\n",
    "    Your Judgement:\"\"\"\n",
    "\n",
    "    original_user_content = f\"\"\"\"\n",
    "    World Knowledge: {knowledge}\n",
    "    Question: {question}\n",
    "    Answer: {answer}\n",
    "\n",
    "    Return just an integer value, '0' if the answer is factual, and '1' if the answer is hallucinated. No letter or word, just the integer value.\n",
    "    \n",
    "    Your Judgement:\"\"\"\n",
    "    \n",
    "    messages = [\n",
    "        {\"role\": \"system\", \"content\": original_system_prompt.strip()}, # remove leading/trailing whitespaces with .strip()\n",
    "        {\"role\": \"user\", \"content\": original_user_content.strip()} # original meaning, from the MedHallu paper\n",
    "    ]\n",
    "    return messages\n",
    "\n",
    "# --- Prompt Creation ---\n",
    "def prepare_prompts(dataset):\n",
    "    all_prompts = [] # all string prompts\n",
    "    #all_ground_truths = [] # corresponding labels for each prompt (0: truth, 1: hallucinated)\n",
    "    \n",
    "    print(\"Preparing prompts\")\n",
    "    for i, row in enumerate(dataset):\n",
    "        knowledge = row[\"Knowledge\"]\n",
    "        question = row[\"Question\"]\n",
    "        hallucinated_answer = row[\"Hallucinated Answer\"]\n",
    "        ground_truth_answer = row[\"Ground Truth\"]\n",
    "    \n",
    "        # create prompts for hallucinated and ground truth answers\n",
    "        prompt_hallucinated = format_prompt_chatml(knowledge, question, hallucinated_answer)\n",
    "        prompt_truth = format_prompt_chatml(knowledge, question, ground_truth_answer)\n",
    "    \n",
    "        all_prompts.append(prompt_hallucinated)\n",
    "        #all_ground_truths.append(1)\n",
    "        all_prompts.append(prompt_truth)\n",
    "        #all_ground_truths.append(0)\n",
    "    print(\"Prompts are prepared.\")\n",
    "    return all_prompts\n",
    "\n",
    "all_prompts = prepare_prompts(dataset)"
   ]
  },
  {
   "cell_type": "code",
   "execution_count": 208,
   "id": "dcb01657-9015-4704-b362-41bae760bf1f",
   "metadata": {},
   "outputs": [
    {
     "name": "stdout",
     "output_type": "stream",
     "text": [
      "Starting batch inference on 2000 prompts...\n"
     ]
    },
    {
     "name": "stderr",
     "output_type": "stream",
     "text": [
      "Classifying Batches: 100%|██████████| 250/250 [06:58<00:00,  1.67s/batch]"
     ]
    },
    {
     "name": "stdout",
     "output_type": "stream",
     "text": [
      "Inference complete.\n"
     ]
    },
    {
     "name": "stderr",
     "output_type": "stream",
     "text": [
      "\n"
     ]
    }
   ],
   "source": [
    "# -- Inference ---\n",
    "# during inference, how much GPU RAM is used? can we measure peak/avg/min RAM usage? i.e. as in work by Ji Lin (MIT HAN Lab) on fitting CNNs in tiny MCUs\n",
    "def classify_med_answers(prompts):\n",
    "    print(f\"Starting batch inference on {len(prompts)} prompts...\")\n",
    "    outputs = []\n",
    "    num_batches=math.ceil(len(prompts) / BATCH_SIZE)\n",
    "    with torch.no_grad():\n",
    "        # show inference progress bar with tqdm\n",
    "        for batch_idx in tqdm(range(num_batches), desc=\"Classifying Batches\", unit=\"batch\"):\n",
    "            start_idx = batch_idx * BATCH_SIZE\n",
    "            end_idx = min(start_idx + BATCH_SIZE,len(all_prompts))\n",
    "            batch_prompts = prompts[start_idx:end_idx]\n",
    "            batch_output = classifier(batch_prompts,\n",
    "                                      batch_size=BATCH_SIZE,\n",
    "                                      max_new_tokens=3, # should this be a hyperparam we include in a cfg file?\n",
    "                                      pad_token_id=tokenizer.pad_token_id,\n",
    "                                      eos_token_id=tokenizer.eos_token_id,\n",
    "                                      do_sample=False,\n",
    "                                      repetition_penalty=1.2) \n",
    "            outputs.extend(batch_output)\n",
    "    \n",
    "        # all at once\n",
    "        #outputs = classifier(\n",
    "        #    all_prompts,\n",
    "        #    max_new_tokens=3,\n",
    "        #    batch_size=BATCH_SIZE,\n",
    "        #    pad_token_id=tokenizer.pad_token_id,\n",
    "        #    eos_token_id=tokenizer.eos_token_id,\n",
    "        #    do_sample=False,\n",
    "        #    repetition_penalty=1.2\n",
    "        #)\n",
    "    print(\"Inference complete.\")\n",
    "    return outputs\n",
    "outputs = classify_med_answers(all_prompts)"
   ]
  },
  {
   "cell_type": "code",
   "execution_count": 209,
   "id": "f3c4de22-5def-48b1-ba9b-568457dc5830",
   "metadata": {},
   "outputs": [
    {
     "name": "stdout",
     "output_type": "stream",
     "text": [
      "Processing Results.\n",
      "Results Processed.\n"
     ]
    }
   ],
   "source": [
    "# -- Process LLM Outputs -- \n",
    "predictions = []\n",
    "raw_outputs = []\n",
    "\n",
    "def parse_prediction(generated_text):\n",
    "    \"\"\"Extract the '0' or '1' from generated text, in case model does not listen to instructions and adds other tokens\"\"\"\n",
    "    text = generated_text.strip()\n",
    "    text_start = text[-10:]\n",
    "    #print(\"text start: \", text_start)\n",
    "    if '0' in text_start:\n",
    "        return 0\n",
    "    elif '1' in text_start:\n",
    "        return 1\n",
    "    elif '2' in text_start:\n",
    "        return 2\n",
    "    else:\n",
    "        #print(f\"Could not parse '0' or '1' from model output: {text}\")\n",
    "        return -1\n",
    "\n",
    "def extract_binary_predictions(outputs):\n",
    "    \"\"\"iterate through each output, filter out original prompt, extract binary prediction, and append to lists for predictions and raw model outputs\"\"\"\n",
    "    predictions = []\n",
    "    raw_outputs = []\n",
    "    print(\"Processing Results.\")\n",
    "    for i, output in enumerate(outputs):\n",
    "        full_chat = output[0]['generated_text'] # this INCLUDES the prompt ; we only want newly generated text\n",
    "        assistant_response_dict = full_chat[-1]\n",
    "        #print(assistant_response_dict)\n",
    "        model_response = None\n",
    "        if assistant_response_dict['role'] == 'assistant':\n",
    "            model_response = assistant_response_dict['content']\n",
    "        \n",
    "        pred = parse_prediction(model_response)\n",
    "        predictions.append(pred)\n",
    "        raw_outputs.append(model_response) # store the raw '!!!!!' or '0' or '1'\n",
    "    print(\"Results Processed.\")\n",
    "    return predictions, raw_outputs\n",
    "\n",
    "predictions, raw_outputs = extract_binary_predictions(outputs)"
   ]
  },
  {
   "cell_type": "code",
   "execution_count": 210,
   "id": "5c138d55-a7ab-4c24-bd36-02466b6c1b4c",
   "metadata": {},
   "outputs": [],
   "source": [
    "def filter_invalid_pairs(pairs: list[tuple[int, int]]):\n",
    "    \"\"\"filter out any results where the model did not produce a valid output (i.e. anything other than 0 or 1)\"\"\"\n",
    "    valid_pairs = []\n",
    "    for pair in pairs:\n",
    "        if pair[1] == -1:\n",
    "            pass\n",
    "        else:\n",
    "            valid_pairs.append(pair)\n",
    "    return valid_pairs\n",
    "\n",
    "# --- Assemble final results ---\n",
    "all_ground_truths = [1,0] * dataset.num_rows # in prepare_prompts(), we alternate between adding prompts with hallucination and gt answers\n",
    "raw_gt_pred_pairs = list(zip(all_ground_truths, predictions))\n",
    "gt_pred_pairs = filter_invalid_pairs(raw_gt_pred_pairs)\n",
    "\n",
    "def compute_confusion_matrix_vals(gt_pred_pairs: list[tuple[int,int]]):\n",
    "    \"\"\"compute and return TP, FP, TN, FN from a list of (ground truth, prediction) pairs\"\"\"\n",
    "    TP = 0\n",
    "    FP = 0\n",
    "    TN = 0\n",
    "    FN = 0\n",
    "    for (gt,pred) in gt_pred_pairs:\n",
    "        if pred == 1 and gt == 1:\n",
    "            TP += 1\n",
    "        elif pred == 1 and gt == 0:\n",
    "            FP += 1\n",
    "        elif pred == 0 and gt == 0:\n",
    "            TN += 1\n",
    "        elif pred == 0 and gt == 1:\n",
    "            FN += 1\n",
    "    return TP, FP, TN, FN\n",
    "    \n",
    "# --- Calculate Metrics ---\n",
    "accuracy = None\n",
    "precision = None\n",
    "recall = None\n",
    "f1 = None\n",
    "abstention_rate = None\n",
    "cm = None\n",
    "\n",
    "if len(gt_pred_pairs) > 0:\n",
    "    TP, FP, TN, FN = compute_confusion_matrix_vals(gt_pred_pairs)\n",
    "    cm = np.array([[TN, FP], [FN, TP]])\n",
    "    #cm = confusion_matrix(valid_gts, valid_preds, labels=[0,1])\n",
    "\n",
    "    # what proportion of answers did the LLM NOT classify?\n",
    "    total_valid_preds = len(gt_pred_pairs)\n",
    "    invalid_count = len(raw_gt_pred_pairs) - total_valid_preds\n",
    "    abstention_rate = invalid_count / len(raw_gt_pred_pairs)\n",
    "\n",
    "    # TBD: of the missed classifications, what proportion were easy/med/hard hallucinations? what proportion were type 1/2/3/4 hallucinations?\n",
    "\n",
    "    # TBD: of the classified answers, how did the LLM perform on easy/med/hard, type 1/2/3/4 hallucinations?\n",
    "\n",
    "    # accuracy, precision, recall, f1 score\n",
    "    accuracy = (TP + TN) / (TP + TN + FP + FN)\n",
    "    valid_gts = [gt for (gt,pred) in gt_pred_pairs]\n",
    "    valid_preds = [pred for (gt,pred) in gt_pred_pairs]\n",
    "    precision, recall, f1, support = precision_recall_fscore_support(\n",
    "        valid_gts, valid_preds, average='binary', pos_label=1, zero_division=0\n",
    "    )\n",
    "else:\n",
    "    print(\"No valid predictions were made, skipping metric calculations.\")\n",
    "\n",
    "# --- Save Results ---\n",
    "results_df = []\n",
    "results_df.append({\n",
    "    'Baseline': {'accuracy': accuracy, 'precision': precision, 'recall': recall, 'f1': f1, 'abstention_rate': abstention_rate}\n",
    "})"
   ]
  },
  {
   "cell_type": "code",
   "execution_count": 211,
   "id": "d45fcc76-ed11-40c8-9b61-e4cf4be391f3",
   "metadata": {
    "scrolled": true
   },
   "outputs": [
    {
     "data": {
      "text/plain": [
       "[(0, 0), (0, 0), (0, 0), (1, 1), (0, 0), (0, 1), (0, 0), (0, 0), (1, 1)]"
      ]
     },
     "execution_count": 211,
     "metadata": {},
     "output_type": "execute_result"
    }
   ],
   "source": [
    "gt_pred_pairs[:9]"
   ]
  },
  {
   "cell_type": "code",
   "execution_count": 212,
   "id": "c1b8a5de-b3c5-499c-95a4-a7a121357b3c",
   "metadata": {},
   "outputs": [
    {
     "name": "stdout",
     "output_type": "stream",
     "text": [
      "[{'Baseline': {'accuracy': 0.8023715415019763, 'precision': 0.6081081081081081, 'recall': 0.6818181818181818, 'f1': 0.6428571428571429, 'abstention_rate': 0.8735}}]\n"
     ]
    }
   ],
   "source": [
    "# can we write these results as a line in a text/csv/yaml file? is there a better way to track results i.e. incl exp name, use a config file, use tool(s) like Hydra, W&B?\n",
    "print(str(results_df))\n",
    "with open('results.txt', 'a') as results_file:\n",
    "    results_file.write(str(results_df))"
   ]
  },
  {
   "cell_type": "code",
   "execution_count": 213,
   "id": "9a4fd6a3-d656-441e-82f7-fb15dd96e64e",
   "metadata": {},
   "outputs": [
    {
     "data": {
      "image/png": "[encoded data removed]",
      "text/plain": [
       "<Figure size 640x480 with 2 Axes>"
      ]
     },
     "metadata": {},
     "output_type": "display_data"
    }
   ],
   "source": [
    "dp = ConfusionMatrixDisplay(cm)\n",
    "dp.plot()\n",
    "plt.show()"
   ]
  },
  {
   "cell_type": "code",
   "execution_count": 214,
   "id": "f565f3aa-7e60-469e-a59d-1a676dce2b4a",
   "metadata": {},
   "outputs": [
    {
     "data": {
      "text/plain": [
       "[0]"
      ]
     },
     "execution_count": 214,
     "metadata": {},
     "output_type": "execute_result"
    }
   ],
   "source": [
    "tokenizer.encode('!')"
   ]
  },
  {
   "cell_type": "markdown",
   "id": "5a66025c-41d5-45b0-aa28-9b63655261c4",
   "metadata": {},
   "source": [
    "## Tests"
   ]
  },
  {
   "cell_type": "code",
   "execution_count": 215,
   "id": "48335133-43b8-4c0c-9175-41d86b897e87",
   "metadata": {},
   "outputs": [
    {
     "name": "stdout",
     "output_type": "stream",
     "text": [
      "Dataset({\n",
      "    features: ['Question', 'Knowledge', 'Ground Truth', 'Difficulty Level', 'Hallucinated Answer', 'Category of Hallucination'],\n",
      "    num_rows: 1000\n",
      "})\n",
      "medium Mechanism and Pathway Misattribution\n",
      "hard Incomplete Information\n",
      "hard Misinterpretation of #Question#\n",
      "easy Misinterpretation of #Question#\n"
     ]
    }
   ],
   "source": [
    "def check_dataset():\n",
    "  print(ds['train'])\n",
    "  i = 0\n",
    "  for row in ds['train']:\n",
    "    if i == 4:\n",
    "      break\n",
    "    question = row['Question']\n",
    "    hallucinated_answer = row['Hallucinated Answer']\n",
    "    ground_truth_answer = row['Ground Truth']\n",
    "    hal_difficulty = row[\"Difficulty Level\"]\n",
    "    hal_category = row[\"Category of Hallucination\"]\n",
    "    print(hal_difficulty, hal_category)\n",
    "    i += 1\n",
    "check_dataset()"
   ]
  },
  {
   "cell_type": "code",
   "execution_count": null,
   "id": "cb349efe-52b0-4659-92e7-0005c5b39113",
   "metadata": {},
   "outputs": [],
   "source": [
    "# --- Experimenting with how I'd extract information related to the hallucination type and difficulty of answers in the dataset\n",
    "# --- the idea would be to correspond this information with raw_gt_pred_pairs and gt_pred_pairs so I can get more insights into (un)compressed model performance\n",
    "# --- i.e. not just summary info like acc.,prec.,rec.f1-score, but more detailed insights into how it performs with varying types/\"difficulty\" of hallucination\n",
    "\n",
    "#from datasets import Dataset\n",
    "#d = Dataset.from_dict({\"a\": [0, 1, 2], \"b\": [1, 1, 1], \"c\": [4, 4, 5]})\n",
    "#def p(example):\n",
    "#    example['gt_prompt'] = example['a'] + example['b']\n",
    "#d = d.map(p)\n",
    "#print(d)\n",
    "\n",
    "hal_difficulty = dataset['Difficulty Level']\n",
    "hal_category = dataset['Category of Hallucination']\n",
    "print(hal_difficulty[:3], hal_category[:3])\n",
    "\n",
    "hds = [None]*12\n",
    "hcs = [None]*12\n",
    "\n",
    "for idx, val in enumerate([1,0]*6):\n",
    "    print(idx, val)\n",
    "    if val == 1:\n",
    "        hds[idx] = dataset['Difficulty Level'][idx//2]\n",
    "        hcs[idx] = dataset['Category of Hallucination'][idx//2]\n",
    "print(hds, hcs)"
   ]
  },
  {
   "cell_type": "code",
   "execution_count": null,
   "id": "2371eb95-d865-40ff-bd13-74f841a758ea",
   "metadata": {},
   "outputs": [],
   "source": [
    "[None] * 2 * 4"
   ]
  },
  {
   "cell_type": "code",
   "execution_count": null,
   "id": "e2660a76-8d7a-4325-a794-796b2ec87dec",
   "metadata": {},
   "outputs": [],
   "source": [
    "def test_confusion_matrix_calculation():\n",
    "    # test 1\n",
    "    test_gt_pred_pairs = [(1,1), (1,1), (1, 1), (0,1), (0,0), (0,0), (1,0), (1,0), (1,0), (1,0), (1,0)]\n",
    "    TP, FP, TN, FN = compute_confusion_matrix_vals(test_gt_pred_pairs)\n",
    "    assert TP == 3 and FP == 1 and TN == 2 and FN == 5\n",
    "    \n",
    "    print(\"Test Passed (confusion matrix)\")\n",
    "test_confusion_matrix_calculation()"
   ]
  }
 ],
 "metadata": {
  "kernelspec": {
   "display_name": "Python3 (main venv)",
   "language": "python",
   "name": "main"
  },
  "language_info": {
   "codemirror_mode": {
    "name": "ipython",
    "version": 3
   },
   "file_extension": ".py",
   "mimetype": "text/x-python",
   "name": "python",
   "nbconvert_exporter": "python",
   "pygments_lexer": "ipython3",
   "version": "3.10.12"
  }
 },
 "nbformat": 4,
 "nbformat_minor": 5
}
