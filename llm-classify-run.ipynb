{
 "cells": [
  {
   "cell_type": "code",
   "execution_count": 19,
   "id": "ddb2d9fc-0f56-4582-b75c-8403cdd30022",
   "metadata": {},
   "outputs": [
    {
     "name": "stdout",
     "output_type": "stream",
     "text": [
      "Wed Apr  9 14:35:33 2025       \n",
      "+-----------------------------------------------------------------------------------------+\n",
      "| NVIDIA-SMI 565.57.01              Driver Version: 565.57.01      CUDA Version: 12.7     |\n",
      "|-----------------------------------------+------------------------+----------------------+\n",
      "| GPU  Name                 Persistence-M | Bus-Id          Disp.A | Volatile Uncorr. ECC |\n",
      "| Fan  Temp   Perf          Pwr:Usage/Cap |           Memory-Usage | GPU-Util  Compute M. |\n",
      "|                                         |                        |               MIG M. |\n",
      "|=========================================+========================+======================|\n",
      "|   0  Tesla V100-SXM2-32GB           On  |   00000000:42:00.0 Off |                    0 |\n",
      "| N/A   35C    P0             40W /  250W |   16615MiB /  32768MiB |      0%      Default |\n",
      "|                                         |                        |                  N/A |\n",
      "+-----------------------------------------+------------------------+----------------------+\n",
      "                                                                                         \n",
      "+-----------------------------------------------------------------------------------------+\n",
      "| Processes:                                                                              |\n",
      "|  GPU   GI   CI        PID   Type   Process name                              GPU Memory |\n",
      "|        ID   ID                                                               Usage      |\n",
      "|=========================================================================================|\n",
      "+-----------------------------------------------------------------------------------------+\n"
     ]
    }
   ],
   "source": [
    "!nvidia-smi"
   ]
  },
  {
   "cell_type": "code",
   "execution_count": 20,
   "id": "d153ff6e-55f6-466c-8d50-d91ba5eaae22",
   "metadata": {},
   "outputs": [],
   "source": [
    "!pip install --upgrade transformers accelerate datasets optimum peft auto-gptq bitsandbytes scikit-learn torch matplotlib tqdm --quiet\n",
    "!pip install flash-attn --no-build-isolation --quiet # for qwen2, newer nvidia gpus i.e. ampere and above"
   ]
  },
  {
   "cell_type": "code",
   "execution_count": 21,
   "id": "a96cea69-0725-40d6-891c-56327701f300",
   "metadata": {},
   "outputs": [
    {
     "name": "stdout",
     "output_type": "stream",
     "text": [
      "Loading UTAustin-AIHealth/MedHallu dataset (pqa_labeled)...\n",
      "Limiting dataset to 1000 samples for testing.\n",
      "Loading tokenizer for Qwen/Qwen2.5-7B-Instruct...\n",
      "Setting up Qwen/Qwen2.5-7B-Instruct with quantization: None...\n",
      "Loading uncompressed model\n",
      "Deleting existing global 'model' variable.\n",
      "Deleting existing bloal 'classifier' variable.\n",
      "Loading model: Qwen/Qwen2.5-7B-Instruct\n"
     ]
    },
    {
     "data": {
      "application/vnd.jupyter.widget-view+json": {
       "model_id": "1ae65d5141c242c3a1cb49bd355c6950",
       "version_major": 2,
       "version_minor": 0
      },
      "text/plain": [
       "Loading checkpoint shards:   0%|          | 0/4 [00:00<?, ?it/s]"
      ]
     },
     "metadata": {},
     "output_type": "display_data"
    },
    {
     "name": "stderr",
     "output_type": "stream",
     "text": [
      "Device set to use cuda:0\n"
     ]
    },
    {
     "name": "stdout",
     "output_type": "stream",
     "text": [
      "Qwen/Qwen2.5-7B-Instruct model loaded successfully!\n",
      "Preparing prompts\n",
      "Prompts are prepared.\n"
     ]
    }
   ],
   "source": [
    "import os\n",
    "import pandas as pd\n",
    "import torch as t\n",
    "from datasets import load_dataset\n",
    "from transformers import AutoModelForCausalLM, AutoTokenizer, pipeline, GPTQConfig, BitsAndBytesConfig\n",
    "from sklearn.metrics import accuracy_score, precision_recall_fscore_support, ConfusionMatrixDisplay #,confusion_matrix\n",
    "import matplotlib.pyplot as plt\n",
    "import numpy as np\n",
    "import gc # garbage collector interface\n",
    "import pprint\n",
    "from typing import List, Tuple\n",
    "from tqdm import tqdm\n",
    "import math\n",
    "\n",
    "# --- Configuration ---\n",
    "MODEL_NAME = 'Qwen/Qwen2.5-7B-Instruct' # try different models later\n",
    "DATASET_NAME = 'UTAustin-AIHealth/MedHallu'\n",
    "DATASET_CONFIG = 'pqa_labeled'\n",
    "BATCH_SIZE = 8\n",
    "MAX_SAMPLES = 1000\n",
    "QUANTIZATION_MODE = None\n",
    "OUTPUT_FILENAME = f'hallucination_results_{MODEL_NAME}_{QUANTIZATION_MODE}_{DATASET_CONFIG}.csv'\n",
    "\n",
    "# --- Load Dataset ---\n",
    "print(f'Loading {DATASET_NAME} dataset ({DATASET_CONFIG})...')\n",
    "ds = load_dataset(DATASET_NAME, DATASET_CONFIG)\n",
    "dataset = ds['train'] # use train split which has 1k labelled samples\n",
    "\n",
    "if MAX_SAMPLES is not None:\n",
    "    print(f'Limiting dataset to {MAX_SAMPLES} samples for testing.')\n",
    "    dataset = dataset.select(range(MAX_SAMPLES)) # for N rows, there are 2*N answers for hallucination-detection LLM to classify (1 gt, 1 hallucinated answers)\n",
    "\n",
    "# --- Setup Model and Tokenizer\n",
    "print(f'Loading tokenizer for {MODEL_NAME}...')\n",
    "tokenizer = AutoTokenizer.from_pretrained(MODEL_NAME, trust_remote_code=True, padding_side=\"left\") # was getting an error when trying to run inference on inputs with default padding_side = right\n",
    "if tokenizer.pad_token is None:\n",
    "    tokenizer.pad_token = tokenizer.eos_token # set pad token for batching if not present\n",
    "\n",
    "# --- Quantization Setup --- need to test this, and clean it up (^^ゞ\n",
    "print(f'Setting up {MODEL_NAME} with quantization: {QUANTIZATION_MODE}...')\n",
    "\n",
    "# get quantization config\n",
    "quantization_config = None\n",
    "if QUANTIZATION_MODE == '8bit_bnb':\n",
    "    quantization_config = BitsAndBytesConfig(load_in_8bit=True)\n",
    "elif QUANTIZATION_MODE == '4bit_bnb':\n",
    "    quantization_config = BitsAndBytesConfig(\n",
    "        load_in_4bit=True,\n",
    "        bnb_4bit_quant_type=\"nf4\",\n",
    "        bnb_4bit_use_double_quant=True,\n",
    "        bnb_4bit_compute_dtype=t.bfloat16\n",
    "    )\n",
    "elif QUANTIZATION_MODE == 'awq':\n",
    "    pass\n",
    "elif QUANTIZATION_MODE == '4bit_gptq':\n",
    "    quantization_config = GPTQConfig(bits=4, dataset='c4', tokenizer=tokenizer) # is the dataset ok to use? would it be better to use a medical dataset?\n",
    "else:\n",
    "    print(\"Loading uncompressed model\")\n",
    "\n",
    "# hyperparameters\n",
    "model_kwargs = {\n",
    "    \"quantization_config\": quantization_config,\n",
    "    \"device_map\": \"auto\",\n",
    "    \"attn_implementation\": \"eager\", #\"flash_attention_2\", ; doesn't work on Volta GPU (old) ; so ignoring this for now ; may revisit if I need to speed up inference\n",
    "    \"torch_dtype\": t.float16, # torch.bfloat16 for ampere, maybe not best on older Volta GPU\n",
    "    \"trust_remote_code\": True\n",
    "}\n",
    "\n",
    "if QUANTIZATION_MODE == None:\n",
    "    model_kwargs.pop(\"quantization_config\")\n",
    "elif QUANTIZATION_MODE == \"4bit_gptq\":\n",
    "    model_kwards.pop(\"torch_dtype\")\n",
    "\n",
    "# --- Instantiate Model ---\n",
    "model = None\n",
    "try:\n",
    "    if 'model' in globals():\n",
    "        print(\"Deleting existing global 'model' variable.\")\n",
    "        del globals()['model']\n",
    "    if 'classifier' in globals():\n",
    "        print(\"Deleting existing bloal 'classifier' variable.\")\n",
    "        del globals()['classifier']\n",
    "    gc.collect()\n",
    "    t.cuda.empty_cache()\n",
    "\n",
    "    print(f\"Loading model: {MODEL_NAME}\")\n",
    "    model = AutoModelForCausalLM.from_pretrained(MODEL_NAME, **model_kwargs)\n",
    "    print(f\"{MODEL_NAME} model loaded successfully!\")\n",
    "    #print(model.hf_device_map)\n",
    "\n",
    "except Exception as e:\n",
    "    print(f\"Failed to load model: {e}\")\n",
    "    raise e\n",
    "\n",
    "\n",
    "# --- Setup Pipeline ---\n",
    "classifier = pipeline(\n",
    "    'text-generation',\n",
    "    model=model,\n",
    "    tokenizer=tokenizer,\n",
    "    device_map=\"auto\"\n",
    ")\n",
    "\n",
    "# --- Define Prompting Function ---\n",
    "# used in the paper\n",
    "original_system_prompt = \"\"\"\n",
    "You are an AI assistant with extensive knowledge in the field of medicine. I want you act as an answer judge. Given a question and an\n",
    "answer, your objective is to determine if the provided answer contains non-factual or hallucinated information. You SHOULD give your judgement based\n",
    "on the following hallucination types and the world knowledge.\n",
    "\n",
    "You are trying to determine if there is a factual contradiction between the answer and the world knowledge.\n",
    "Some information in the answer might be fabricated. Answer '0' if the answer is factual and '1' if the answer is hallucinated.\n",
    "You can categorize the answer as hallucinated if it falls in either of the category:\n",
    "\n",
    "Type: Misinterpretation of #Question#: These are hallucinated answers that misunderstands the question, leading to an off-topic or\n",
    "irrelevant response.\n",
    "Type: Incomplete Information: These are hallucinated answers that Point out what is not true without providing correct information.\n",
    "Type: Mechanism and Pathway Misattribution - These are hallucinated answer that falsely attribution of biological mechanisms,\n",
    "molecular pathways, or disease processes that contradicts established medical knowledge\n",
    "Type: Methodological and Evidence Fabrication - Inventing false research methods, statistical data, or specific clinical outcomes\n",
    "\n",
    "Do not return anything else, just the answer.\n",
    "Return just an integer value, '0' if the answer is factual and '1' if the answer is hallucinated. No letter or word, just the integer value.\n",
    "\"\"\"\n",
    "\n",
    "# modification on our part to allow model to refrain from making a classification if it is not sure\n",
    "not_sure_system_prompt = \"\"\"\n",
    "You are an AI assistant with extensive knowledge in the field of medicine. I want you act as an answer judge. Given a question, an\n",
    "answer, and relevant World Knowledge, determine if the provided answer is factual or contains hallucinated information based on the knowledge provided and established medical facts.\n",
    "\n",
    "- If the answer is factual and consistent with world knowledge, return '0'.\n",
    "- If the answer contains non-factual, hallucinated, or contradictory information based on the knowledge provided or established medical facts (e.g., Misinterpretation, Incomplete Info, Mechanism Misattribution, Fabrication), return '1'.\n",
    "- If you are genuinely uncertain or cannot make a definitive judgement based on the provided context and your medical knowledge, return '2'.\n",
    "\n",
    "Do not return anything else, just the integer value.\n",
    "\n",
    "Return '0' for factual, '1' for hallucinated, '2' for not sure.\n",
    "\n",
    "You can categorize the answer as hallucinated if it falls in either of the category:\n",
    "\n",
    "Type: Misinterpretation of #Question#: These are hallucinated answers that misunderstands the question, leading to an off-topic or\n",
    "irrelevant response.\n",
    "Type: Incomplete Information: These are hallucinated answers that Point out what is not true without providing correct information.\n",
    "Type: Mechanism and Pathway Misattribution - These are hallucinated answer that falsely attribution of biological mechanisms,\n",
    "molecular pathways, or disease processes that contradicts established medical knowledge\n",
    "Type: Methodological and Evidence Fabrication - Inventing false research methods, statistical data, or specific clinical outcomes\n",
    "\n",
    "Do not return anything else, just the answer.\n",
    "Return just an integer value, '0' if the answer is factual, '1' if the answer is hallucinated, '2' if not sure. No letter or word, just the integer value.\n",
    "\"\"\"\n",
    "\n",
    "not_sure_system_prompt2 = \"\"\"\n",
    "You are an AI judge with extensive knowledge in the field of medicine. I want you act as an answer judge. Given World Knowledge, a Question, and an Answer:\n",
    "- Return '0' if the Answer is factual based on the Knowledge and your understanding of medicine.\n",
    "- Return '1' if the Answer is hallucinated based on the Knowledge and/or your understanding of medicine.\n",
    "- Return '2' if you are unsure.\n",
    "\n",
    "You SHOULD give your judgement based on the following hallucination types and the world knowledge.\n",
    "You are trying to determine if there is a factual contradiction between the answer and the world knowledge.\n",
    "Some information in the answer might be fabricated. Answer '0' if the answer is factual, '1' if the answer is hallucinated, '2' if you are unsure.\n",
    "\n",
    "Output only the single digit 0, 1, or 2 and nothing else.\n",
    "\n",
    "You can categorize the answer as hallucinated if it falls in either of the category:\n",
    "\n",
    "Type: Misinterpretation of #Question#: These are hallucinated answers that misunderstands the question, leading to an off-topic or\n",
    "irrelevant response.\n",
    "Type: Incomplete Information: These are hallucinated answers that Point out what is not true without providing correct information.\n",
    "Type: Mechanism and Pathway Misattribution - These are hallucinated answer that falsely attribution of biological mechanisms,\n",
    "molecular pathways, or disease processes that contradicts established medical knowledge\n",
    "Type: Methodological and Evidence Fabrication - Inventing false research methods, statistical data, or specific clinical outcomes\n",
    "\n",
    "Do not return anything else, just the answer.\n",
    "Return just an integer value, '0' if the answer is factual, '1' if the answer is hallucinated, or '2'. No letter or word, just the integer value.\n",
    "\"\"\"\n",
    "\n",
    "def format_prompt_chatml(knowledge: str, question: str, answer: str, prompt_style=\"original\") -> List[dict]:\n",
    "    \"\"\"Put together world knowledge, a medical question, and a medical answer together in a prompt according to requested prompt_style\"\"\"\n",
    "    \n",
    "    few_shot_not_sure_user_content = f\"\"\"\n",
    "    World Knowledge: [Example Knowledge Snippet]\n",
    "    Question: [Example Question]\n",
    "    Answer: [Example Factual Answer]\n",
    "    Your Judgement: 0\n",
    "    \n",
    "    World Knowledge: [Example Knowledge Snippet 2]\n",
    "    Question: [Example Question 2]\n",
    "    Answer: [Example Hallucinated Answer]\n",
    "    Your Judgement: 1\n",
    "    \n",
    "    World Knowledge: [Example Knowledge Snippet 3 - where answer might be ambiguous or knowledge insufficient]\n",
    "    Question: [Example Question 3]\n",
    "    Answer: [Example Ambiguous Answer or Answer unrelated to Knowledge]\n",
    "    Your Judgement: 2\n",
    "    \n",
    "    --- Now your turn ---\n",
    "    World Knowledge: {knowledge}\n",
    "    Question: {question}\n",
    "    Answer: {answer}\n",
    "    \n",
    "    Return just '0' (factual), '1' (hallucinated), or '2' (not sure).\n",
    "    Your Judgement:\"\"\"\n",
    "\n",
    "    original_user_content = f\"\"\"\"\n",
    "    World Knowledge: {knowledge}\n",
    "    Question: {question}\n",
    "    Answer: {answer}\n",
    "\n",
    "    Return just an integer value, '0' if the answer is factual, and '1' if the answer is hallucinated. No letter or word, just the integer value.\n",
    "    \n",
    "    Your Judgement:\"\"\"\n",
    "\n",
    "    user_prompt = None\n",
    "    if prompt_style == \"few_shot_not_sure\":\n",
    "        user_prompt = few_shot_not_sure_user_content\n",
    "    elif prompt_style == \"original\":\n",
    "        user_prompt = original_user_content\n",
    "    \n",
    "    messages = [\n",
    "        {\"role\": \"system\", \"content\": original_system_prompt.strip()}, # remove leading/trailing whitespaces with .strip()\n",
    "        {\"role\": \"user\", \"content\": original_user_content.strip()} # original meaning, from the MedHallu paper\n",
    "    ]\n",
    "    return messages\n",
    "\n",
    "# --- Prompt Creation ---\n",
    "def prepare_prompts(dataset):\n",
    "    all_prompts = [] # all string prompts\n",
    "    #all_ground_truths = [] # corresponding labels for each prompt (0: truth, 1: hallucinated)\n",
    "    \n",
    "    print(\"Preparing prompts\")\n",
    "    for i, row in enumerate(dataset):\n",
    "        knowledge = row[\"Knowledge\"]\n",
    "        question = row[\"Question\"]\n",
    "        hallucinated_answer = row[\"Hallucinated Answer\"]\n",
    "        ground_truth_answer = row[\"Ground Truth\"]\n",
    "    \n",
    "        # create prompts for hallucinated and ground truth answers\n",
    "        prompt_hallucinated = format_prompt_chatml(knowledge, question, hallucinated_answer)\n",
    "        prompt_truth = format_prompt_chatml(knowledge, question, ground_truth_answer)\n",
    "    \n",
    "        all_prompts.append(prompt_hallucinated)\n",
    "        #all_ground_truths.append(1)\n",
    "        all_prompts.append(prompt_truth)\n",
    "        #all_ground_truths.append(0)\n",
    "    print(\"Prompts are prepared.\")\n",
    "    return all_prompts\n",
    "\n",
    "all_prompts = prepare_prompts(dataset)"
   ]
  },
  {
   "cell_type": "code",
   "execution_count": 22,
   "id": "dcb01657-9015-4704-b362-41bae760bf1f",
   "metadata": {},
   "outputs": [
    {
     "name": "stdout",
     "output_type": "stream",
     "text": [
      "Starting batch inference on 2000 prompts...\n"
     ]
    },
    {
     "name": "stderr",
     "output_type": "stream",
     "text": [
      "/venv/main/lib/python3.10/site-packages/transformers/generation/configuration_utils.py:631: UserWarning: `do_sample` is set to `False`. However, `temperature` is set to `0.7` -- this flag is only used in sample-based generation modes. You should set `do_sample=True` or unset `temperature`.\n",
      "  warnings.warn(\n",
      "/venv/main/lib/python3.10/site-packages/transformers/generation/configuration_utils.py:636: UserWarning: `do_sample` is set to `False`. However, `top_p` is set to `0.8` -- this flag is only used in sample-based generation modes. You should set `do_sample=True` or unset `top_p`.\n",
      "  warnings.warn(\n",
      "/venv/main/lib/python3.10/site-packages/transformers/generation/configuration_utils.py:653: UserWarning: `do_sample` is set to `False`. However, `top_k` is set to `20` -- this flag is only used in sample-based generation modes. You should set `do_sample=True` or unset `top_k`.\n",
      "  warnings.warn(\n",
      "Classifying Batches: 100%|██████████| 250/250 [07:23<00:00,  1.77s/batch]"
     ]
    },
    {
     "name": "stdout",
     "output_type": "stream",
     "text": [
      "Inference complete.\n"
     ]
    },
    {
     "name": "stderr",
     "output_type": "stream",
     "text": [
      "\n"
     ]
    }
   ],
   "source": [
    "# -- Inference ---\n",
    "# during inference, how much GPU RAM is used? can we measure peak/avg/min RAM usage? i.e. as in work by Ji Lin (MIT HAN Lab) on fitting CNNs in tiny MCUs\n",
    "def classify_med_answers(prompts):\n",
    "    print(f\"Starting batch inference on {len(prompts)} prompts...\")\n",
    "    outputs = []\n",
    "    num_batches=math.ceil(len(prompts) / BATCH_SIZE)\n",
    "    with t.no_grad():\n",
    "        # show inference progress bar with tqdm\n",
    "        for batch_idx in tqdm(range(num_batches), desc=\"Classifying Batches\", unit=\"batch\"):\n",
    "            start_idx = batch_idx * BATCH_SIZE\n",
    "            end_idx = min(start_idx + BATCH_SIZE,len(all_prompts))\n",
    "            batch_prompts = prompts[start_idx:end_idx]\n",
    "            batch_output = classifier(batch_prompts,\n",
    "                                      #batch_size=BATCH_SIZE # redundant\n",
    "                                      max_new_tokens=3, # should this be a hyperparam we include in a cfg file?\n",
    "                                      pad_token_id=tokenizer.pad_token_id,\n",
    "                                      eos_token_id=tokenizer.eos_token_id,\n",
    "                                      do_sample=False,\n",
    "                                      repetition_penalty=1.2) \n",
    "            outputs.extend(batch_output)\n",
    "    \n",
    "        # all at once\n",
    "        #outputs = classifier(\n",
    "        #    all_prompts,\n",
    "        #    max_new_tokens=3,\n",
    "        #    batch_size=BATCH_SIZE,\n",
    "        #    pad_token_id=tokenizer.pad_token_id,\n",
    "        #    eos_token_id=tokenizer.eos_token_id,\n",
    "        #    do_sample=False,\n",
    "        #    repetition_penalty=1.2\n",
    "        #)\n",
    "    print(\"Inference complete.\")\n",
    "    return outputs\n",
    "\n",
    "gc.collect()\n",
    "t.cuda.empty_cache()\n",
    "t.cuda.reset_peak_memory_stats()\n",
    "outputs = classify_med_answers(all_prompts)"
   ]
  },
  {
   "cell_type": "code",
   "execution_count": 23,
   "id": "d9eae3d5-c366-42f5-b692-09d4d51af687",
   "metadata": {},
   "outputs": [
    {
     "name": "stdout",
     "output_type": "stream",
     "text": [
      "Peak GPU Memory Allocated: 14.80930471420288 GB\n"
     ]
    }
   ],
   "source": [
    "## --- Profiling GPU Usage ---\n",
    "peak_memory_bytes = t.cuda.max_memory_allocated()\n",
    "peak_memory_gb = peak_memory_bytes / (2**30) # 2^30B in one GB\n",
    "print(f\"Peak GPU Memory Allocated: {peak_memory_gb} GB\")"
   ]
  },
  {
   "cell_type": "code",
   "execution_count": 24,
   "id": "6c8352f8-fa06-4df9-9234-54129e5ac7d6",
   "metadata": {},
   "outputs": [
    {
     "name": "stdout",
     "output_type": "stream",
     "text": [
      "14.193126201629639\n",
      "14.80930471420288\n",
      "28.45703125\n"
     ]
    }
   ],
   "source": [
    "print(t.cuda.memory_allocated() / 2**30)\n",
    "print(t.cuda.max_memory_allocated() / 2**30)\n",
    "print(t.cuda.memory_reserved() / 2**30)"
   ]
  },
  {
   "cell_type": "code",
   "execution_count": 147,
   "id": "f3c4de22-5def-48b1-ba9b-568457dc5830",
   "metadata": {},
   "outputs": [
    {
     "name": "stdout",
     "output_type": "stream",
     "text": [
      "Processing Results.\n",
      "Results Processed.\n"
     ]
    }
   ],
   "source": [
    "# -- Process LLM Outputs -- \n",
    "predictions = []\n",
    "raw_outputs = []\n",
    "\n",
    "def parse_prediction(generated_text):\n",
    "    \"\"\"Extract the '0' or '1' from generated text, in case model does not listen to instructions and adds other tokens\"\"\"\n",
    "    text = generated_text.strip()\n",
    "    text_start = text[-10:]\n",
    "    #print(\"text start: \", text_start)\n",
    "    if '0' in text_start:\n",
    "        return 0\n",
    "    elif '1' in text_start:\n",
    "        return 1\n",
    "    elif '2' in text_start:\n",
    "        return 2\n",
    "    else:\n",
    "        #print(f\"Could not parse '0' or '1' from model output: {text}\")\n",
    "        return -1\n",
    "\n",
    "def extract_binary_predictions(outputs):\n",
    "    \"\"\"iterate through each output, filter out original prompt, extract binary prediction, and append to lists for predictions and raw model outputs\"\"\"\n",
    "    predictions = []\n",
    "    raw_outputs = []\n",
    "    print(\"Processing Results.\")\n",
    "    for i, output in enumerate(outputs):\n",
    "        model_response = None\n",
    "        try:\n",
    "            full_chat = output[0]['generated_text'] # this INCLUDES the prompt ; we only want newly generated text\n",
    "            assistant_response_dict = full_chat[-1] # full_chat[0]: system, full_chat[1]: user, full_chat[2]: assistant\n",
    "            #print(assistant_response_dict)\n",
    "            model_response = None\n",
    "            if assistant_response_dict['role'] == 'assistant':\n",
    "                model_response = assistant_response_dict['content']\n",
    "        except:\n",
    "            pass\n",
    "        \n",
    "        pred = parse_prediction(model_response)\n",
    "        predictions.append(pred)\n",
    "        raw_outputs.append(model_response) # store the raw '!!!!!' or '0' or '1'\n",
    "    print(\"Results Processed.\")\n",
    "    return predictions, raw_outputs\n",
    "\n",
    "predictions, raw_outputs = extract_binary_predictions(outputs)"
   ]
  },
  {
   "cell_type": "code",
   "execution_count": 148,
   "id": "5c138d55-a7ab-4c24-bd36-02466b6c1b4c",
   "metadata": {
    "editable": true,
    "slideshow": {
     "slide_type": ""
    },
    "tags": []
   },
   "outputs": [],
   "source": [
    "# something to think about.. what is the goal here? if we have an assistant AI answering medical questions,\n",
    "# if we verify answers with an LLM-checker, we'd want that LLM-checker to be compact so deployment is easy\n",
    "# and we'd want it to be good and identifying the hallucinations so we can weed them out\n",
    "# and protect relevant stakeholders (i.e. doctors, laypeople) from misleading information\n",
    "# for developers, if we can get insights into types of answers/hallucinations that compressed models work best/worst with\n",
    "# this could help them inform strategies for deploying an LLM-checker\n",
    "# i.e. \"for our use case, it's most important to avoid B type hallucinations, or that's the most commong type that \n",
    "# could come up in our work ; we have X physical constraints for the device we have access to\"\n",
    "# so for them, perhaps we'd go with 1B awq_4bit quantized model. granted, model's move fast i.e.\n",
    "# what's new today is old tomorrow ; so at the very least, we'd be contributed a codebase that\n",
    "# developers can use to easily swap in different models, to quickly test what's best for their use case\n",
    "\n",
    "from dataclasses import dataclass\n",
    "from typing import Dict, Optional\n",
    "@dataclass\n",
    "class HallucinationMetrics:\n",
    "    difficulty_metrics: Dict[str, float]\n",
    "    category_metrics: Dict[str, float]\n",
    "    overall_metrics: Dict[str, float]\n",
    "    abstention_analysis: Dict[str, float]\n",
    "\n",
    "def get_hallucination_info(info_type: str, dataset):\n",
    "    \"\"\"\n",
    "    construct lists for the type and difficulty of hallucinated answers in all_prompts\n",
    "    all_ground_truths:        [    1,     0,        1,    0, ...]\n",
    "    hallucination_difficulty: [\"easy\", None, \"medium\", None, ...]\n",
    "    \"\"\"\n",
    "    hallucination_difficulty = [None]*dataset.num_rows*2\n",
    "    hallucination_category = [None]*dataset.num_rows*2\n",
    "    for idx, val in enumerate(all_ground_truths):\n",
    "        if val == 1:\n",
    "            hallucination_difficulty[idx] = dataset['Difficulty Level'][idx//2]\n",
    "            hallucination_category[idx] = dataset['Category of Hallucination'][idx//2]\n",
    "\n",
    "    if info_type == \"difficulty\":\n",
    "        return hallucination_difficulty\n",
    "    elif info_type == \"category\":\n",
    "        return hallucination_category\n",
    "\n",
    "# --- Assemble final results ---\n",
    "# example\n",
    "# all_ground_truths:              [    1,     0,     1,     0]\n",
    "# raw_gt_pred_pairs:             [(1,0), (0,-1), (1,1), (0,0)]\n",
    "# raw_hallucination_difficulty: [\"hard\",   None,\"easy\",  None]\n",
    "# raw_hallucination_category:  [   \"A\",    None,   \"B\",  None]\n",
    "\n",
    "# valid_idxs: [0,2,3] (explicit) ; [1, 0, 1, 1] (boolean mask) ; we'll go with the explicit version\n",
    "# gt_pred_pairs:         [(1,0),  (1,1),   (0,0)]\n",
    "# valid_hal_difficulty: [\"hard\", \"easy\",   None]\n",
    "# valid_hal_category:  [    \"A\",   \"B\",   None]\n",
    "\n",
    "all_ground_truths = [1,0] * dataset.num_rows # in prepare_prompts(), we alternate between adding prompts with hallucination and gt answers\n",
    "raw_gt_pred_pairs = t.tensor(list(zip(all_ground_truths, predictions))) # tensor allows for easy selection from a list of desired idxs\n",
    "raw_hallucination_difficulty = get_hallucination_info(\"difficulty\", dataset) # can't convert to tensor b/c has strings\n",
    "raw_hallucination_category = get_hallucination_info(\"category\", dataset)\n",
    "\n",
    "#raw_results_df = pd.DataFrame({\n",
    "#    'gt': all_ground_truths,\n",
    "#    'predictions': predictions,\n",
    "#    'difficulty': raw_hallucination_difficulty,\n",
    "#    'category': raw_hallucination_category\n",
    "#})\n",
    "#raw_results_df['is_valid'] = raw_results_df[raw_results_df['predictions'] != -1]\n",
    "\n",
    "valid_idxs = [idx for idx, (gt,pred) in enumerate(raw_gt_pred_pairs) if pred != -1] # explicit [0, 2, 3, 4, 7, 110]\n",
    "gt_pred_pairs = raw_gt_pred_pairs[valid_idxs] #filter_invalid_pairs(raw_gt_pred_pairs)\n",
    "valid_hal_difficulty = [raw_hallucination_difficulty[valid_idx] for valid_idx in valid_idxs]\n",
    "valid_hal_category = [raw_hallucination_category[valid_idx] for valid_idx in valid_idxs]\n",
    "\n",
    "valid_df = pd.DataFrame({\n",
    "    'gt': [gt for (gt,pred) in gt_pred_pairs],\n",
    "    'predictions': [pred for (gt,pred) in gt_pred_pairs],\n",
    "    'difficulty': valid_hal_difficulty,\n",
    "    'category': valid_hal_category\n",
    "})\n",
    "\n",
    "def compute_confusion_matrix_vals(gt_pred_pairs: list[tuple[int,int]]):\n",
    "    \"\"\"compute and return TP, FP, TN, FN from a list of (ground truth, prediction) pairs\"\"\"\n",
    "    TP = 0\n",
    "    FP = 0\n",
    "    TN = 0\n",
    "    FN = 0\n",
    "\n",
    "    # used for analysis later\n",
    "    TP_idxs = [] \n",
    "    FN_idxs = []\n",
    "    \n",
    "    for idx, (gt,pred) in enumerate(gt_pred_pairs):\n",
    "        if pred == 1 and gt == 1:\n",
    "            TP += 1\n",
    "            TP_idxs.append(idx)\n",
    "        elif pred == 1 and gt == 0:\n",
    "            FP += 1\n",
    "        elif pred == 0 and gt == 0:\n",
    "            TN += 1\n",
    "        elif pred == 0 and gt == 1:\n",
    "            FN += 1\n",
    "            FN_idxs.append(idx)\n",
    "    return TP, FP, TN, FN, TP_idxs, FN_idxs\n",
    "    \n",
    "# --- Calculate Metrics ---\n",
    "accuracy = None\n",
    "precision = None\n",
    "recall = None\n",
    "f1 = None\n",
    "abstention_rate = None\n",
    "cm = None\n",
    "\n",
    "if len(gt_pred_pairs) > 0:\n",
    "    TP, FP, TN, FN, TP_idxs, FN_idxs = compute_confusion_matrix_vals(gt_pred_pairs)\n",
    "    cm = np.array([[TN, FP], [FN, TP]])\n",
    "    #cm = confusion_matrix(valid_gts, valid_preds, labels=[0,1])\n",
    "\n",
    "    # what proportion of answers did the LLM NOT classify?\n",
    "    total_valid_preds = len(gt_pred_pairs)\n",
    "    invalid_count = len(raw_gt_pred_pairs) - total_valid_preds\n",
    "    abstention_rate = invalid_count / len(raw_gt_pred_pairs)\n",
    "\n",
    "    # of the FNs (or TPs) ; what does the distribution look like for different hallucination types?\n",
    "    fn_difficulty_group = valid_df.iloc[FN_idxs][['gt', 'difficulty']].groupby(\"difficulty\")['gt'].sum()\n",
    "    fn_category_group = valid_df.iloc[FN_idxs][['gt', 'category']].groupby(\"category\")['gt'].sum()\n",
    "\n",
    "    tp_difficulty_group = valid_df.iloc[TP_idxs][['gt', 'difficulty']].groupby(\"difficulty\")['gt'].sum()\n",
    "    tp_category_group = valid_df.iloc[TP_idxs][['gt', 'category']].groupby(\"category\")['gt'].sum()\n",
    "    \n",
    "    # accuracy, precision, recall, f1 score\n",
    "    accuracy = (TP + TN) / (TP + TN + FP + FN)\n",
    "    valid_gts = [gt for (gt,pred) in gt_pred_pairs]\n",
    "    valid_preds = [pred for (gt,pred) in gt_pred_pairs]\n",
    "    precision, recall, f1, support = precision_recall_fscore_support(\n",
    "        valid_gts, valid_preds, average='binary', pos_label=1, zero_division=0\n",
    "    )\n",
    "else:\n",
    "    print(\"No valid predictions were made, skipping metric calculations.\")"
   ]
  },
  {
   "cell_type": "code",
   "execution_count": 159,
   "id": "0816b830-9d35-47d1-9cc8-bc4051054239",
   "metadata": {},
   "outputs": [],
   "source": [
    "hal_tp_analysis = {'tp_difficulty': tp_difficulty_group.to_dict(), 'tp_category': tp_category_group.to_dict()}\n",
    "hal_fn_analysis = {'fn_difficulty': fn_difficulty_group.to_dict(), 'fn_category': fn_category_group.to_dict()}"
   ]
  },
  {
   "cell_type": "code",
   "execution_count": 186,
   "id": "057b68e4-50a1-4fb5-afcb-6d61e5f378d1",
   "metadata": {},
   "outputs": [
    {
     "name": "stdout",
     "output_type": "stream",
     "text": [
      "{'tp_difficulty': {'easy': tensor(248),\n",
      "                   'hard': tensor(297),\n",
      "                   'medium': tensor(267)},\n",
      " 'tp_category': {'Incomplete Information': tensor(150),\n",
      "                 'Mechanism and Pathway Misattribution': tensor(32),\n",
      "                 'Methodological and Evidence Fabrication': tensor(3),\n",
      "                 'Misinterpretation of #Question#': tensor(627)}}\n",
      "{'fn_difficulty': {'easy': tensor(26),\n",
      "                   'hard': tensor(111),\n",
      "                   'medium': tensor(51)},\n",
      " 'fn_category': {'Incomplete Information': tensor(62),\n",
      "                 'Mechanism and Pathway Misattribution': tensor(1),\n",
      "                 'Misinterpretation of #Question#': tensor(125)}}\n"
     ]
    }
   ],
   "source": [
    "pprint.pp(hal_tp_analysis) # add to results_dict?\n",
    "pprint.pp(hal_fn_analysis)"
   ]
  },
  {
   "cell_type": "code",
   "execution_count": 175,
   "id": "57663c8f-1e9d-41f0-bd9b-4481b8f18c17",
   "metadata": {},
   "outputs": [
    {
     "data": {
      "text/plain": [
       "([0, 1, 2, 3, 4, 5],\n",
       " [Text(0, 0, 'easy'),\n",
       "  Text(1, 0, 'hard'),\n",
       "  Text(2, 0, 'medium'),\n",
       "  Text(3, 0, 'Inc. Inf.'),\n",
       "  Text(4, 0, 'M&PM'),\n",
       "  Text(5, 0, 'MisinterpretQ')])"
      ]
     },
     "execution_count": 175,
     "metadata": {},
     "output_type": "execute_result"
    },
    {
     "data": {
      "image/png": "[encoded data removed]",
      "text/plain": [
       "<Figure size 640x480 with 1 Axes>"
      ]
     },
     "metadata": {},
     "output_type": "display_data"
    }
   ],
   "source": [
    "# --- Plot FN Distributions ---\n",
    "plt.title('Distribution of Hallucination Type in FNs')\n",
    "plt.bar(hal_fn_analysis['fn_difficulty'].keys(), hal_fn_analysis['fn_difficulty'].values())\n",
    "#plt.show()\n",
    "rename_hal_types = {'Incomplete Information': 'Inc. Inf.',\n",
    "                    'Mechanism and Pathway Misattribution': 'M&PM',\n",
    "                    'Misinterpretation of #Question#': 'MisinterpretQ',\n",
    "                    'Methodological and Evidence Fabrication': 'M&E Fab.'}\n",
    "plt.bar([rename_hal_types[k] for k in hal_fn_analysis['fn_category'].keys()],\n",
    "        hal_fn_analysis['fn_category'].values())\n",
    "plt.xticks(rotation=30)"
   ]
  },
  {
   "cell_type": "code",
   "execution_count": 176,
   "id": "a78db749-e34f-4b11-953a-5159efd61ae3",
   "metadata": {},
   "outputs": [
    {
     "data": {
      "text/plain": [
       "([0, 1, 2, 3, 4, 5, 6],\n",
       " [Text(0, 0, 'easy'),\n",
       "  Text(1, 0, 'hard'),\n",
       "  Text(2, 0, 'medium'),\n",
       "  Text(3, 0, 'Inc. Inf.'),\n",
       "  Text(4, 0, 'M&PM'),\n",
       "  Text(5, 0, 'M&E Fab.'),\n",
       "  Text(6, 0, 'MisinterpretQ')])"
      ]
     },
     "execution_count": 176,
     "metadata": {},
     "output_type": "execute_result"
    },
    {
     "data": {
      "image/png": "[encoded data removed]",
      "text/plain": [
       "<Figure size 640x480 with 1 Axes>"
      ]
     },
     "metadata": {},
     "output_type": "display_data"
    }
   ],
   "source": [
    "# --- Plot TP Distributions ---\n",
    "plt.title('Distribution of Hallucination Type in TPs')\n",
    "plt.bar(hal_tp_analysis['tp_difficulty'].keys(), hal_tp_analysis['tp_difficulty'].values())\n",
    "#plt.show()\n",
    "rename_hal_types = {'Incomplete Information': 'Inc. Inf.',\n",
    "                    'Mechanism and Pathway Misattribution': 'M&PM',\n",
    "                    'Misinterpretation of #Question#': 'MisinterpretQ',\n",
    "                    'Methodological and Evidence Fabrication': 'M&E Fab.'}\n",
    "plt.bar([rename_hal_types[k] for k in hal_tp_analysis['tp_category'].keys()],\n",
    "        hal_tp_analysis['tp_category'].values())\n",
    "plt.xticks(rotation=30)"
   ]
  },
  {
   "cell_type": "code",
   "execution_count": 146,
   "id": "516c1896-cb90-4c49-bd4d-3fb8b60c9d6d",
   "metadata": {},
   "outputs": [
    {
     "data": {
      "image/png": "[encoded data removed]",
      "text/plain": [
       "<Figure size 640x480 with 1 Axes>"
      ]
     },
     "metadata": {},
     "output_type": "display_data"
    },
    {
     "name": "stdout",
     "output_type": "stream",
     "text": [
      "['Incomplete Information', 'Mechanism and Pathway Misattribution', 'Misinterpretation of #Question#']\n"
     ]
    },
    {
     "data": {
      "image/png": "[encoded data removed]",
      "text/plain": [
       "<Figure size 640x480 with 1 Axes>"
      ]
     },
     "metadata": {},
     "output_type": "display_data"
    }
   ],
   "source": [
    "plt.bar(fn_difficulty_group.to_dict().keys(), fn_difficulty_group.to_dict().values())\n",
    "plt.show()\n",
    "\n",
    "fn_category_group = valid_df.iloc[FN_idxs][['gt', 'category']].groupby(\"category\")['gt'].sum()\n",
    "print(list(fn_category_group.to_dict().keys()))\n",
    "fig, ax = plt.subplots()\n",
    "ax.bar(fn_category_group.to_dict().keys(), fn_category_group.to_dict().values())\n",
    "#plt.xticks(rotation=40)\n",
    "ax.tick_params(rotation=45)\n",
    "plt.show()\n",
    "#fn_category_group.astype(float).plot(kind='bar')"
   ]
  },
  {
   "cell_type": "code",
   "execution_count": 123,
   "id": "73fbd991-126f-40cf-aa8a-08c93547564d",
   "metadata": {},
   "outputs": [
    {
     "data": {
      "text/plain": [
       "category\n",
       "Incomplete Information                   tensor(62)\n",
       "Mechanism and Pathway Misattribution      tensor(1)\n",
       "Misinterpretation of #Question#         tensor(125)\n",
       "Name: gt, dtype: object"
      ]
     },
     "execution_count": 123,
     "metadata": {},
     "output_type": "execute_result"
    }
   ],
   "source": [
    "valid_df.iloc[FN_idxs][['gt', 'category']].groupby(\"category\")['gt'].sum()\n",
    "#fn_category_group.astype(float).plot(kind='bar')"
   ]
  },
  {
   "cell_type": "code",
   "execution_count": 77,
   "id": "bc7abc0e-e88c-497a-ad52-c47f424876b2",
   "metadata": {},
   "outputs": [],
   "source": [
    "# most important metric in hallucination detection in recall ; \n",
    "# false negatives are highly costly ; higher recall -> less FNs ; for all FNs we can look examine distribution of hallucination type/difficulty"
   ]
  },
  {
   "cell_type": "code",
   "execution_count": 27,
   "id": "c1b8a5de-b3c5-499c-95a4-a7a121357b3c",
   "metadata": {
    "editable": true,
    "slideshow": {
     "slide_type": ""
    },
    "tags": []
   },
   "outputs": [
    {
     "name": "stdout",
     "output_type": "stream",
     "text": [
      "[{'Baseline': {'accuracy': 0.8215, 'precision': 0.8277268093781855, 'recall': 0.812, 'f1': 0.8197879858657244, 'abstention_rate': 0.0, 'gpu_peak_memory_gb': 14.80930471420288}}]\n"
     ]
    }
   ],
   "source": [
    "# --- Save Results ---\n",
    "# can we write these results as a line in a text/csv/yaml file?\n",
    "# is there a better way to track results i.e. incl exp name, use a config file, use tool(s) like Hydra, W&B?\n",
    "results_df = []\n",
    "results_df.append({\n",
    "    'Baseline': {'accuracy': accuracy, \n",
    "                 'precision': precision,\n",
    "                 'recall': recall, \n",
    "                 'f1': f1,\n",
    "                 'abstention_rate': abstention_rate, \n",
    "                 'gpu_peak_memory_gb': peak_memory_gb}\n",
    "})\n",
    "\n",
    "print(str(results_df))\n",
    "with open('results.txt', 'w') as results_file:\n",
    "    results_file.write(str(results_df))"
   ]
  },
  {
   "cell_type": "code",
   "execution_count": 80,
   "id": "9a4fd6a3-d656-441e-82f7-fb15dd96e64e",
   "metadata": {},
   "outputs": [
    {
     "data": {
      "image/png": "[encoded data removed]",
      "text/plain": [
       "<Figure size 640x480 with 2 Axes>"
      ]
     },
     "metadata": {},
     "output_type": "display_data"
    }
   ],
   "source": [
    "dp = ConfusionMatrixDisplay(cm)\n",
    "dp.plot()\n",
    "plt.show()"
   ]
  },
  {
   "cell_type": "code",
   "execution_count": 29,
   "id": "921e3467-bb34-40ad-8799-92972452f5f0",
   "metadata": {},
   "outputs": [],
   "source": [
    "# --- DEPRECATED; NOT GOING TO COMPLETE B/C IT SEEMS TOO COMPLICATED ---\n",
    "# --- Further Analysis of Classifications on Hallucinated Answers --- \n",
    "def calculate_metrics_for_subset(gts, preds, pos_label=1, zero_division=0):\n",
    "    \"\"\"calculate metrics for a given set of ground truth and prediction labels\"\"\"\n",
    "    if len(gts) == 0:\n",
    "        return {'accuracy': 0, 'precision': 0, 'recall': 0, 'f1': 0, 'support': 0}\n",
    "\n",
    "    gt_pred_pairs = list(zip(gts, preds))\n",
    "    TP, FP, TN, FN = compute_confusion_matrix_vals(gt_pred_pairs)\n",
    "    accuracy = (TP + TN) / (TP + TN + FP + FN)\n",
    "\n",
    "    precision, recall, f1, support = precision_recall_f1_support(\n",
    "        gts, preds, average='binary', pos_label=pos_label, zero_division=zero_divison\n",
    "    )\n",
    "    return {\n",
    "        'accuracy': accuracy,\n",
    "        'precision': precision,\n",
    "        'recall': recall,\n",
    "        'f1': f1,\n",
    "        'support': len(gts)\n",
    "    }\n",
    "\n",
    "# practically, there's not much we can do if the LLM does not produce a classification\n",
    "# BUT, if we have a group of LLMs, and we know certain abstain from certain types/difficulties,\n",
    "# that could inform a decision to go with a certain LLM\n",
    "\n",
    "# type_1_matrics = calculate_metrics_for_subset() # and then for each type, we could look at proportion of easy/med/hard answers?\n",
    "# type_2_metrics = calculate_metrics_for_subset()\n",
    "# type_3_metrics = calculate_metrics_for_subset()\n",
    "# type_4_metrics = calculate_metrics_for_subset()\n",
    "\n",
    "def analyze_abstentions(invalid_idxs, raw_difficulty, raw_category):\n",
    "    # what kinds of medical answers were skipped?\n",
    "    # are we avoiding difficult cases? specific categories?\n",
    "    num_abstained = len(invalid_idxs)\n",
    "    abstained_gts = None\n",
    "    abstained_difficulties = None\n",
    "    abstained_categories = None\n",
    "\n",
    "def analyze_performance_by_group(valid_gts, valid_preds, grouping_factor, group_type_name=\"group\"):\n",
    "    pass\n",
    "\n",
    "    results = {}\n",
    "    df = pd.DataFrame({\n",
    "        'gts': valid_gts,\n",
    "        'preds': valid_preds,\n",
    "        'group': grouping_factor\n",
    "    })\n",
    "    results['overall'] = calculate_metrics_for_subset(df['gts'].to_list(), df['preds'].to_list())\n",
    "\n",
    "    # now focus on the hallucinated answers\n",
    "    hal_df = df[df['gts'] == 1].copy() # deep copy ; changes to copy do not affect original\n",
    "    hal_types = hal_df['group'].unique()\n",
    "    hal_types = [t for t in hal_types if t is not None]\n",
    "    grouped_metrics = {}\n",
    "    for group_name in hal_types:\n",
    "        group_df = hal_df[hal_df['group'] == group_name]\n",
    "        if not group_df.empty:\n",
    "            group_gts = group_df['gts'].to_list()\n",
    "            group_preds = group_df['preds'].to_list()\n",
    "            grouped_metrics[group_name] = calculate_metrics_for_subset(group_gts, group_preds)\n",
    "        else:\n",
    "            grouped_metrics[group_name] = calculate_metrics_for_subset([], [])\n",
    "    results[f'hallucination_performance_by_{group_name}'] = grouped_metrics\n",
    "    \n",
    "    \n",
    "    return results"
   ]
  },
  {
   "cell_type": "code",
   "execution_count": 40,
   "id": "11320c24-0b9d-427a-aabd-dbbdabd59ea6",
   "metadata": {},
   "outputs": [
    {
     "data": {
      "text/plain": [
       "[0, 1, 2, 3, 4, 5, 6, 7, 8, 9]"
      ]
     },
     "execution_count": 40,
     "metadata": {},
     "output_type": "execute_result"
    }
   ],
   "source": [
    "[idx for idx, (gt,pred) in enumerate(raw_gt_pred_pairs) if pred != -1][:10]"
   ]
  },
  {
   "cell_type": "code",
   "execution_count": 31,
   "id": "23e88f8c-7a71-4eb7-9a15-c46217e12e6b",
   "metadata": {},
   "outputs": [
    {
     "name": "stdout",
     "output_type": "stream",
     "text": [
      "[0, 1, 2, 3, 4, 5, 6, 7, 8, 9]\n",
      "['medium', None, 'hard', None, 'hard', None, 'easy', None, 'hard', None]\n"
     ]
    }
   ],
   "source": [
    "print(valid_idxs[:10])\n",
    "vhd = [raw_hallucination_difficulty[valid_idx] for valid_idx in valid_idxs]\n",
    "print(vhd[:10])"
   ]
  },
  {
   "cell_type": "code",
   "execution_count": 32,
   "id": "c93ea5ec-93b0-4f32-a518-e33de90e9595",
   "metadata": {},
   "outputs": [
    {
     "data": {
      "text/plain": [
       "tensor([10., 40., 50.])"
      ]
     },
     "execution_count": 32,
     "metadata": {},
     "output_type": "execute_result"
    }
   ],
   "source": [
    "a = t.tensor([10., 20., 30., 40., 50., 60.])\n",
    "a[[0, 3, 4]]"
   ]
  },
  {
   "cell_type": "code",
   "execution_count": 33,
   "id": "0d838517-b8b9-4442-9467-1e4d5ce9712a",
   "metadata": {},
   "outputs": [
    {
     "data": {
      "text/plain": [
       "torch.Size([2000, 2])"
      ]
     },
     "execution_count": 33,
     "metadata": {},
     "output_type": "execute_result"
    }
   ],
   "source": [
    "t.tensor(list(zip(all_ground_truths, predictions))).shape"
   ]
  },
  {
   "cell_type": "code",
   "execution_count": 34,
   "id": "d45fcc76-ed11-40c8-9b61-e4cf4be391f3",
   "metadata": {
    "scrolled": true
   },
   "outputs": [
    {
     "data": {
      "text/plain": [
       "tensor([[1, 1],\n",
       "        [0, 0],\n",
       "        [1, 1],\n",
       "        [0, 0],\n",
       "        [1, 1],\n",
       "        [0, 0],\n",
       "        [1, 1],\n",
       "        [0, 1],\n",
       "        [1, 1]])"
      ]
     },
     "execution_count": 34,
     "metadata": {},
     "output_type": "execute_result"
    }
   ],
   "source": [
    "gt_pred_pairs[:9]"
   ]
  },
  {
   "cell_type": "code",
   "execution_count": 35,
   "id": "f565f3aa-7e60-469e-a59d-1a676dce2b4a",
   "metadata": {},
   "outputs": [
    {
     "data": {
      "text/plain": [
       "[0]"
      ]
     },
     "execution_count": 35,
     "metadata": {},
     "output_type": "execute_result"
    }
   ],
   "source": [
    "tokenizer.encode('!')"
   ]
  },
  {
   "cell_type": "markdown",
   "id": "5a66025c-41d5-45b0-aa28-9b63655261c4",
   "metadata": {},
   "source": [
    "## Tests"
   ]
  },
  {
   "cell_type": "code",
   "execution_count": 36,
   "id": "48335133-43b8-4c0c-9175-41d86b897e87",
   "metadata": {},
   "outputs": [
    {
     "name": "stdout",
     "output_type": "stream",
     "text": [
      "Dataset({\n",
      "    features: ['Question', 'Knowledge', 'Ground Truth', 'Difficulty Level', 'Hallucinated Answer', 'Category of Hallucination'],\n",
      "    num_rows: 1000\n",
      "})\n",
      "medium Mechanism and Pathway Misattribution\n",
      "hard Incomplete Information\n",
      "hard Misinterpretation of #Question#\n",
      "easy Misinterpretation of #Question#\n"
     ]
    }
   ],
   "source": [
    "def check_dataset():\n",
    "  print(ds['train'])\n",
    "  i = 0\n",
    "  for row in ds['train']:\n",
    "    if i == 4:\n",
    "      break\n",
    "    question = row['Question']\n",
    "    hallucinated_answer = row['Hallucinated Answer']\n",
    "    ground_truth_answer = row['Ground Truth']\n",
    "    hal_difficulty = row[\"Difficulty Level\"]\n",
    "    hal_category = row[\"Category of Hallucination\"]\n",
    "    print(hal_difficulty, hal_category)\n",
    "    i += 1\n",
    "check_dataset()"
   ]
  },
  {
   "cell_type": "code",
   "execution_count": 37,
   "id": "cb349efe-52b0-4659-92e7-0005c5b39113",
   "metadata": {},
   "outputs": [
    {
     "name": "stdout",
     "output_type": "stream",
     "text": [
      "['medium', 'hard', 'hard'] ['Mechanism and Pathway Misattribution', 'Incomplete Information', 'Misinterpretation of #Question#']\n",
      "0 1\n",
      "1 0\n",
      "2 1\n",
      "3 0\n",
      "4 1\n",
      "5 0\n",
      "6 1\n",
      "7 0\n",
      "8 1\n",
      "9 0\n",
      "10 1\n",
      "11 0\n",
      "['medium', None, 'hard', None, 'hard', None, 'easy', None, 'hard', None, 'medium', None] ['Mechanism and Pathway Misattribution', None, 'Incomplete Information', None, 'Misinterpretation of #Question#', None, 'Misinterpretation of #Question#', None, 'Incomplete Information', None, 'Misinterpretation of #Question#', None]\n"
     ]
    }
   ],
   "source": [
    "# --- Experimenting with how I'd extract information related to the hallucination type and difficulty of answers in the dataset\n",
    "# --- the idea would be to correspond this information with raw_gt_pred_pairs and gt_pred_pairs so I can get more insights into (un)compressed model performance\n",
    "# --- i.e. not just summary info like acc.,prec.,rec.f1-score, but more detailed insights into how it performs with varying types/\"difficulty\" of hallucination\n",
    "\n",
    "#from datasets import Dataset\n",
    "#d = Dataset.from_dict({\"a\": [0, 1, 2], \"b\": [1, 1, 1], \"c\": [4, 4, 5]})\n",
    "#def p(example):\n",
    "#    example['gt_prompt'] = example['a'] + example['b']\n",
    "#d = d.map(p)\n",
    "#print(d)\n",
    "\n",
    "hal_difficulty = dataset['Difficulty Level']\n",
    "hal_category = dataset['Category of Hallucination']\n",
    "print(hal_difficulty[:3], hal_category[:3])\n",
    "\n",
    "hds = [None]*12\n",
    "hcs = [None]*12\n",
    "\n",
    "for idx, val in enumerate([1,0]*6):\n",
    "    print(idx, val)\n",
    "    if val == 1:\n",
    "        hds[idx] = dataset['Difficulty Level'][idx//2]\n",
    "        hcs[idx] = dataset['Category of Hallucination'][idx//2]\n",
    "print(hds, hcs)"
   ]
  },
  {
   "cell_type": "code",
   "execution_count": 38,
   "id": "2371eb95-d865-40ff-bd13-74f841a758ea",
   "metadata": {},
   "outputs": [
    {
     "data": {
      "text/plain": [
       "[None, None, None, None, None, None, None, None]"
      ]
     },
     "execution_count": 38,
     "metadata": {},
     "output_type": "execute_result"
    }
   ],
   "source": [
    "[None] * 2 * 4"
   ]
  },
  {
   "cell_type": "code",
   "execution_count": 39,
   "id": "e2660a76-8d7a-4325-a794-796b2ec87dec",
   "metadata": {},
   "outputs": [
    {
     "name": "stdout",
     "output_type": "stream",
     "text": [
      "Test Passed (confusion matrix)\n"
     ]
    }
   ],
   "source": [
    "def test_confusion_matrix_calculation():\n",
    "    # test 1\n",
    "    test_gt_pred_pairs = [(1,1), (1,1), (1, 1), (0,1), (0,0), (0,0), (1,0), (1,0), (1,0), (1,0), (1,0)]\n",
    "    TP, FP, TN, FN = compute_confusion_matrix_vals(test_gt_pred_pairs)\n",
    "    assert TP == 3 and FP == 1 and TN == 2 and FN == 5\n",
    "    \n",
    "    print(\"Test Passed (confusion matrix)\")\n",
    "test_confusion_matrix_calculation()"
   ]
  }
 ],
 "metadata": {
  "kernelspec": {
   "display_name": "Python3 (main venv)",
   "language": "python",
   "name": "main"
  },
  "language_info": {
   "codemirror_mode": {
    "name": "ipython",
    "version": 3
   },
   "file_extension": ".py",
   "mimetype": "text/x-python",
   "name": "python",
   "nbconvert_exporter": "python",
   "pygments_lexer": "ipython3",
   "version": "3.10.12"
  }
 },
 "nbformat": 4,
 "nbformat_minor": 5
}
