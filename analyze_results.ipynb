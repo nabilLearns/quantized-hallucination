{
 "cells": [
  {
   "cell_type": "code",
   "execution_count": 221,
   "id": "3c854b0c-3824-4663-9282-3ca93e0b7fe1",
   "metadata": {},
   "outputs": [],
   "source": [
    "import os\n",
    "import json\n",
    "from pprint import pp\n",
    "import matplotlib.pyplot as plt\n",
    "import seaborn as sns"
   ]
  },
  {
   "cell_type": "code",
   "execution_count": 449,
   "id": "5e41b681-6be3-4988-ad97-88a6f6cab618",
   "metadata": {},
   "outputs": [
    {
     "data": {
      "text/plain": [
       "['qwen2.5-1.5b-it_gguf_q3_k_m_ollama_pqa_labeled',\n",
       " 'llama3-med_gguf_q6_k_ollama_pqa_labeled',\n",
       " 'gemma3-12b-it_gguf_q5_k_m_ollama_pqa_labeled',\n",
       " 'qwen2.5-1.5b-it_gguf_q4_k_m_ollama_pqa_labeled',\n",
       " 'biomistral-7b_gguf_q6_k_ollama_pqa_labeled',\n",
       " 'biomistral-7b_gguf_q4_k_m_ollama_pqa_labeled',\n",
       " 'qwen2.5-0.5b-it_gguf_q5_k_m_ollama_pqa_labeled',\n",
       " 'qwen2.5-0.5b-it_gguf_q2_k_ollama_pqa_labeled',\n",
       " 'gemma3-1b-it_gguf_q8_0_ollama_pqa_labeled',\n",
       " 'qwen2.5-3b-it_gguf_q5_k_m_ollama_pqa_labeled',\n",
       " 'biomistral-7b_gguf_q2_k_ollama_pqa_labeled',\n",
       " 'qwen2.5-3b-it_gguf_q2_k_ollama_pqa_labeled',\n",
       " 'llama3-med_gguf_q4_k_m_ollama_pqa_labeled',\n",
       " 'biomistral-7b_gguf_q8_0_ollama_pqa_labeled',\n",
       " 'qwen2.5-1.5b-it_gguf_q5_k_m_ollama_pqa_labeled',\n",
       " 'gemma3-4b-it_gguf_q2_k_ollama_pqa_labeled',\n",
       " 'qwen2.5-3b-it_gguf_q4_k_m_ollama_pqa_labeled',\n",
       " 'qwen2.5-7b-it_gguf_q6_k_ollama_pqa_labeled',\n",
       " 'qwen2.5-0.5b-it_gguf_q6_k_ollama_pqa_labeled',\n",
       " 'qwen2.5-7b-it_gguf_q5_k_m_ollama_pqa_labeled',\n",
       " 'llama3-med_gguf_q3_k_m_ollama_pqa_labeled',\n",
       " 'qwen2.5-7b-it_gguf_q3_k_m_ollama_pqa_labeled',\n",
       " 'qwen2.5-3b-it_gguf_q6_k_ollama_pqa_labeled',\n",
       " 'gemma3-4b-it_gguf_q4_k_m_ollama_pqa_labeled',\n",
       " 'gemma3-4b-it_gguf_q5_k_m_ollama_pqa_labeled',\n",
       " 'llama3-med_gguf_q8_0_ollama_pqa_labeled',\n",
       " 'gemma3-1b-it_gguf_q6_k_ollama_pqa_labeled',\n",
       " 'qwen2.5-0.5b-it_gguf_q3_k_m_ollama_pqa_labeled',\n",
       " 'gemma3-12b-it_gguf_q2_k_ollama_pqa_labeled',\n",
       " 'gemma3-12b-it_gguf_q4_k_m_ollama_pqa_labeled',\n",
       " 'gemma3-4b-it_gguf_q3_k_m_ollama_pqa_labeled',\n",
       " 'gemma3-4b-it_gguf_q6_k_ollama_pqa_labeled',\n",
       " 'qwen2.5-0.5b-it_gguf_q4_k_m_ollama_pqa_labeled',\n",
       " 'qwen2.5-1.5b-it_gguf_q8_0_ollama_pqa_labeled',\n",
       " 'qwen2.5-0.5b-it_gguf_q8_0_ollama_pqa_labeled',\n",
       " 'gemma3-1b-it_gguf_q2_k_ollama_pqa_labeled',\n",
       " 'llama3-med_gguf_q5_k_m_ollama_pqa_labeled',\n",
       " 'qwen2.5-3b-it_gguf_q3_k_m_ollama_pqa_labeled',\n",
       " 'biomistral-7b_gguf_q5_k_m_ollama_pqa_labeled',\n",
       " 'qwen2.5-1.5b-it_gguf_q2_k_ollama_pqa_labeled',\n",
       " 'qwen2.5-3b-it_gguf_q8_0_ollama_pqa_labeled',\n",
       " 'gemma3-12b-it_gguf_q6_k_ollama_pqa_labeled',\n",
       " 'gemma3-1b-it_gguf_q3_k_m_ollama_pqa_labeled',\n",
       " 'qwen2.5-7b-it_gguf_q4_k_m_ollama_pqa_labeled',\n",
       " 'qwen2.5-7b-it_gguf_q8_0_ollama_pqa_labeled',\n",
       " 'gemma3-4b-it_gguf_q8_0_ollama_pqa_labeled',\n",
       " 'gemma3-1b-it_gguf_q4_k_m_ollama_pqa_labeled',\n",
       " 'gemma3-12b-it_gguf_q3_k_m_ollama_pqa_labeled',\n",
       " 'gemma3-12b-it_gguf_q8_0_ollama_pqa_labeled',\n",
       " 'qwen2.5-7b-it_gguf_q2_k_ollama_pqa_labeled',\n",
       " 'qwen2.5-1.5b-it_gguf_q6_k_ollama_pqa_labeled',\n",
       " 'biomistral-7b_gguf_q3_k_m_ollama_pqa_labeled',\n",
       " 'gemma3-1b-it_gguf_q5_k_m_ollama_pqa_labeled']"
      ]
     },
     "execution_count": 449,
     "metadata": {},
     "output_type": "execute_result"
    }
   ],
   "source": [
    "#os.listdir('results')\n",
    "os.listdir(os.path.join(os.getcwd(), 'results'))"
   ]
  },
  {
   "cell_type": "markdown",
   "id": "d713d4e5-5016-40b0-8a5d-888b892764a6",
   "metadata": {},
   "source": [
    "**Goal:** Process *.json files from model results folders, and produce plots"
   ]
  },
  {
   "cell_type": "code",
   "execution_count": 164,
   "id": "1562263f-bf4c-4a65-b515-ed5cdfb786d9",
   "metadata": {},
   "outputs": [
    {
     "name": "stdout",
     "output_type": "stream",
     "text": [
      "# Results folders to process: 53\n"
     ]
    }
   ],
   "source": [
    "print(f\"# Results folders to process: {len(os.listdir('results'))}\")"
   ]
  },
  {
   "cell_type": "code",
   "execution_count": 34,
   "id": "b674e5db-0029-4638-8fc5-5b1ad4ab9279",
   "metadata": {},
   "outputs": [
    {
     "name": "stdout",
     "output_type": "stream",
     "text": [
      "{'biomistral': [], 'llama3': [], 'gemma3': [], 'qwen2.5': []}\n"
     ]
    }
   ],
   "source": [
    "model_keys = list(set([r.split('-')[0] for r in os.listdir('results')]))\n",
    "model_idxs = {m:[] for m in model_keys}\n",
    "print(m_idxs_dict)"
   ]
  },
  {
   "cell_type": "code",
   "execution_count": 441,
   "id": "a77af881-7628-460f-babb-289abfad71f3",
   "metadata": {},
   "outputs": [],
   "source": [
    "model_families = list(set([r.split('-')[0] for r in os.listdir('results')]))\n",
    "family_x_idx_pairs=[(r.split('-')[0], idx) for idx, r in enumerate(os.listdir('results'))]\n",
    "models = {m:[] for m in model_families}\n",
    "for (m,i) in family_x_idx_pairs:\n",
    "    models[m].append(os.listdir('results')[i])"
   ]
  },
  {
   "cell_type": "code",
   "execution_count": 442,
   "id": "67f4a8b4-5fda-4e92-ad9c-816575096e20",
   "metadata": {},
   "outputs": [
    {
     "data": {
      "text/plain": [
       "{'biomistral': ['biomistral-7b_gguf_q6_k_ollama_pqa_labeled',\n",
       "  'biomistral-7b_gguf_q4_k_m_ollama_pqa_labeled',\n",
       "  'biomistral-7b_gguf_q2_k_ollama_pqa_labeled',\n",
       "  'biomistral-7b_gguf_q8_0_ollama_pqa_labeled',\n",
       "  'biomistral-7b_gguf_q5_k_m_ollama_pqa_labeled',\n",
       "  'biomistral-7b_gguf_q3_k_m_ollama_pqa_labeled'],\n",
       " 'llama3': ['llama3-med_gguf_q6_k_ollama_pqa_labeled',\n",
       "  'llama3-med_gguf_q4_k_m_ollama_pqa_labeled',\n",
       "  'llama3-med_gguf_q3_k_m_ollama_pqa_labeled',\n",
       "  'llama3-med_gguf_q8_0_ollama_pqa_labeled',\n",
       "  'llama3-med_gguf_q5_k_m_ollama_pqa_labeled'],\n",
       " 'gemma3': ['gemma3-12b-it_gguf_q5_k_m_ollama_pqa_labeled',\n",
       "  'gemma3-1b-it_gguf_q8_0_ollama_pqa_labeled',\n",
       "  'gemma3-4b-it_gguf_q2_k_ollama_pqa_labeled',\n",
       "  'gemma3-4b-it_gguf_q4_k_m_ollama_pqa_labeled',\n",
       "  'gemma3-4b-it_gguf_q5_k_m_ollama_pqa_labeled',\n",
       "  'gemma3-1b-it_gguf_q6_k_ollama_pqa_labeled',\n",
       "  'gemma3-12b-it_gguf_q2_k_ollama_pqa_labeled',\n",
       "  'gemma3-12b-it_gguf_q4_k_m_ollama_pqa_labeled',\n",
       "  'gemma3-4b-it_gguf_q3_k_m_ollama_pqa_labeled',\n",
       "  'gemma3-4b-it_gguf_q6_k_ollama_pqa_labeled',\n",
       "  'gemma3-1b-it_gguf_q2_k_ollama_pqa_labeled',\n",
       "  'gemma3-12b-it_gguf_q6_k_ollama_pqa_labeled',\n",
       "  'gemma3-1b-it_gguf_q3_k_m_ollama_pqa_labeled',\n",
       "  'gemma3-4b-it_gguf_q8_0_ollama_pqa_labeled',\n",
       "  'gemma3-1b-it_gguf_q4_k_m_ollama_pqa_labeled',\n",
       "  'gemma3-12b-it_gguf_q3_k_m_ollama_pqa_labeled',\n",
       "  'gemma3-12b-it_gguf_q8_0_ollama_pqa_labeled',\n",
       "  'gemma3-1b-it_gguf_q5_k_m_ollama_pqa_labeled'],\n",
       " 'qwen2.5': ['qwen2.5-1.5b-it_gguf_q3_k_m_ollama_pqa_labeled',\n",
       "  'qwen2.5-1.5b-it_gguf_q4_k_m_ollama_pqa_labeled',\n",
       "  'qwen2.5-0.5b-it_gguf_q5_k_m_ollama_pqa_labeled',\n",
       "  'qwen2.5-0.5b-it_gguf_q2_k_ollama_pqa_labeled',\n",
       "  'qwen2.5-3b-it_gguf_q5_k_m_ollama_pqa_labeled',\n",
       "  'qwen2.5-3b-it_gguf_q2_k_ollama_pqa_labeled',\n",
       "  'qwen2.5-1.5b-it_gguf_q5_k_m_ollama_pqa_labeled',\n",
       "  'qwen2.5-3b-it_gguf_q4_k_m_ollama_pqa_labeled',\n",
       "  'qwen2.5-7b-it_gguf_q6_k_ollama_pqa_labeled',\n",
       "  'qwen2.5-0.5b-it_gguf_q6_k_ollama_pqa_labeled',\n",
       "  'qwen2.5-7b-it_gguf_q5_k_m_ollama_pqa_labeled',\n",
       "  'qwen2.5-7b-it_gguf_q3_k_m_ollama_pqa_labeled',\n",
       "  'qwen2.5-3b-it_gguf_q6_k_ollama_pqa_labeled',\n",
       "  'qwen2.5-0.5b-it_gguf_q3_k_m_ollama_pqa_labeled',\n",
       "  'qwen2.5-0.5b-it_gguf_q4_k_m_ollama_pqa_labeled',\n",
       "  'qwen2.5-1.5b-it_gguf_q8_0_ollama_pqa_labeled',\n",
       "  'qwen2.5-0.5b-it_gguf_q8_0_ollama_pqa_labeled',\n",
       "  'qwen2.5-3b-it_gguf_q3_k_m_ollama_pqa_labeled',\n",
       "  'qwen2.5-1.5b-it_gguf_q2_k_ollama_pqa_labeled',\n",
       "  'qwen2.5-3b-it_gguf_q8_0_ollama_pqa_labeled',\n",
       "  'qwen2.5-7b-it_gguf_q4_k_m_ollama_pqa_labeled',\n",
       "  'qwen2.5-7b-it_gguf_q8_0_ollama_pqa_labeled',\n",
       "  'qwen2.5-7b-it_gguf_q2_k_ollama_pqa_labeled',\n",
       "  'qwen2.5-1.5b-it_gguf_q6_k_ollama_pqa_labeled']}"
      ]
     },
     "execution_count": 442,
     "metadata": {},
     "output_type": "execute_result"
    }
   ],
   "source": [
    "models"
   ]
  },
  {
   "cell_type": "code",
   "execution_count": 93,
   "id": "ace965f3-43d8-4ae8-8b45-680fdba9ccd4",
   "metadata": {},
   "outputs": [
    {
     "data": {
      "text/plain": [
       "[('qwen2.5', 0),\n",
       " ('llama3', 1),\n",
       " ('gemma3', 2),\n",
       " ('qwen2.5', 3),\n",
       " ('biomistral', 4),\n",
       " ('biomistral', 5),\n",
       " ('qwen2.5', 6),\n",
       " ('qwen2.5', 7),\n",
       " ('gemma3', 8),\n",
       " ('qwen2.5', 9),\n",
       " ('biomistral', 10),\n",
       " ('qwen2.5', 11),\n",
       " ('llama3', 12),\n",
       " ('biomistral', 13),\n",
       " ('qwen2.5', 14),\n",
       " ('gemma3', 15),\n",
       " ('qwen2.5', 16),\n",
       " ('qwen2.5', 17),\n",
       " ('qwen2.5', 18),\n",
       " ('qwen2.5', 19),\n",
       " ('llama3', 20),\n",
       " ('qwen2.5', 21),\n",
       " ('qwen2.5', 22),\n",
       " ('gemma3', 23),\n",
       " ('gemma3', 24),\n",
       " ('llama3', 25),\n",
       " ('gemma3', 26),\n",
       " ('qwen2.5', 27),\n",
       " ('gemma3', 28),\n",
       " ('gemma3', 29),\n",
       " ('gemma3', 30),\n",
       " ('gemma3', 31),\n",
       " ('qwen2.5', 32),\n",
       " ('qwen2.5', 33),\n",
       " ('qwen2.5', 34),\n",
       " ('gemma3', 35),\n",
       " ('llama3', 36),\n",
       " ('qwen2.5', 37),\n",
       " ('biomistral', 38),\n",
       " ('qwen2.5', 39),\n",
       " ('qwen2.5', 40),\n",
       " ('gemma3', 41),\n",
       " ('gemma3', 42),\n",
       " ('qwen2.5', 43),\n",
       " ('qwen2.5', 44),\n",
       " ('gemma3', 45),\n",
       " ('gemma3', 46),\n",
       " ('gemma3', 47),\n",
       " ('gemma3', 48),\n",
       " ('qwen2.5', 49),\n",
       " ('qwen2.5', 50),\n",
       " ('biomistral', 51),\n",
       " ('gemma3', 52)]"
      ]
     },
     "execution_count": 93,
     "metadata": {},
     "output_type": "execute_result"
    }
   ],
   "source": [
    "family_x_idx_pairs"
   ]
  },
  {
   "cell_type": "code",
   "execution_count": 94,
   "id": "18bebdb2-291a-4780-824f-ebea2abd821e",
   "metadata": {},
   "outputs": [
    {
     "data": {
      "text/plain": [
       "{'biomistral': ['biomistral-7b_gguf_q6_k_ollama_pqa_labeled',\n",
       "  'biomistral-7b_gguf_q4_k_m_ollama_pqa_labeled',\n",
       "  'biomistral-7b_gguf_q2_k_ollama_pqa_labeled',\n",
       "  'biomistral-7b_gguf_q8_0_ollama_pqa_labeled',\n",
       "  'biomistral-7b_gguf_q5_k_m_ollama_pqa_labeled',\n",
       "  'biomistral-7b_gguf_q3_k_m_ollama_pqa_labeled'],\n",
       " 'llama3': ['llama3-med_gguf_q6_k_ollama_pqa_labeled',\n",
       "  'llama3-med_gguf_q4_k_m_ollama_pqa_labeled',\n",
       "  'llama3-med_gguf_q3_k_m_ollama_pqa_labeled',\n",
       "  'llama3-med_gguf_q8_0_ollama_pqa_labeled',\n",
       "  'llama3-med_gguf_q5_k_m_ollama_pqa_labeled'],\n",
       " 'gemma3': ['gemma3-12b-it_gguf_q5_k_m_ollama_pqa_labeled',\n",
       "  'gemma3-1b-it_gguf_q8_0_ollama_pqa_labeled',\n",
       "  'gemma3-4b-it_gguf_q2_k_ollama_pqa_labeled',\n",
       "  'gemma3-4b-it_gguf_q4_k_m_ollama_pqa_labeled',\n",
       "  'gemma3-4b-it_gguf_q5_k_m_ollama_pqa_labeled',\n",
       "  'gemma3-1b-it_gguf_q6_k_ollama_pqa_labeled',\n",
       "  'gemma3-12b-it_gguf_q2_k_ollama_pqa_labeled',\n",
       "  'gemma3-12b-it_gguf_q4_k_m_ollama_pqa_labeled',\n",
       "  'gemma3-4b-it_gguf_q3_k_m_ollama_pqa_labeled',\n",
       "  'gemma3-4b-it_gguf_q6_k_ollama_pqa_labeled',\n",
       "  'gemma3-1b-it_gguf_q2_k_ollama_pqa_labeled',\n",
       "  'gemma3-12b-it_gguf_q6_k_ollama_pqa_labeled',\n",
       "  'gemma3-1b-it_gguf_q3_k_m_ollama_pqa_labeled',\n",
       "  'gemma3-4b-it_gguf_q8_0_ollama_pqa_labeled',\n",
       "  'gemma3-1b-it_gguf_q4_k_m_ollama_pqa_labeled',\n",
       "  'gemma3-12b-it_gguf_q3_k_m_ollama_pqa_labeled',\n",
       "  'gemma3-12b-it_gguf_q8_0_ollama_pqa_labeled',\n",
       "  'gemma3-1b-it_gguf_q5_k_m_ollama_pqa_labeled'],\n",
       " 'qwen2.5': ['qwen2.5-1.5b-it_gguf_q3_k_m_ollama_pqa_labeled',\n",
       "  'qwen2.5-1.5b-it_gguf_q4_k_m_ollama_pqa_labeled',\n",
       "  'qwen2.5-0.5b-it_gguf_q5_k_m_ollama_pqa_labeled',\n",
       "  'qwen2.5-0.5b-it_gguf_q2_k_ollama_pqa_labeled',\n",
       "  'qwen2.5-3b-it_gguf_q5_k_m_ollama_pqa_labeled',\n",
       "  'qwen2.5-3b-it_gguf_q2_k_ollama_pqa_labeled',\n",
       "  'qwen2.5-1.5b-it_gguf_q5_k_m_ollama_pqa_labeled',\n",
       "  'qwen2.5-3b-it_gguf_q4_k_m_ollama_pqa_labeled',\n",
       "  'qwen2.5-7b-it_gguf_q6_k_ollama_pqa_labeled',\n",
       "  'qwen2.5-0.5b-it_gguf_q6_k_ollama_pqa_labeled',\n",
       "  'qwen2.5-7b-it_gguf_q5_k_m_ollama_pqa_labeled',\n",
       "  'qwen2.5-7b-it_gguf_q3_k_m_ollama_pqa_labeled',\n",
       "  'qwen2.5-3b-it_gguf_q6_k_ollama_pqa_labeled',\n",
       "  'qwen2.5-0.5b-it_gguf_q3_k_m_ollama_pqa_labeled',\n",
       "  'qwen2.5-0.5b-it_gguf_q4_k_m_ollama_pqa_labeled',\n",
       "  'qwen2.5-1.5b-it_gguf_q8_0_ollama_pqa_labeled',\n",
       "  'qwen2.5-0.5b-it_gguf_q8_0_ollama_pqa_labeled',\n",
       "  'qwen2.5-3b-it_gguf_q3_k_m_ollama_pqa_labeled',\n",
       "  'qwen2.5-1.5b-it_gguf_q2_k_ollama_pqa_labeled',\n",
       "  'qwen2.5-3b-it_gguf_q8_0_ollama_pqa_labeled',\n",
       "  'qwen2.5-7b-it_gguf_q4_k_m_ollama_pqa_labeled',\n",
       "  'qwen2.5-7b-it_gguf_q8_0_ollama_pqa_labeled',\n",
       "  'qwen2.5-7b-it_gguf_q2_k_ollama_pqa_labeled',\n",
       "  'qwen2.5-1.5b-it_gguf_q6_k_ollama_pqa_labeled']}"
      ]
     },
     "execution_count": 94,
     "metadata": {},
     "output_type": "execute_result"
    }
   ],
   "source": [
    "models"
   ]
  },
  {
   "cell_type": "code",
   "execution_count": 95,
   "id": "cd1b5399-c053-4679-9563-3c0f85700237",
   "metadata": {},
   "outputs": [
    {
     "data": {
      "text/plain": [
       "['results_qwen2.5-0.5b-it_gguf_q5_k_m_ollama_pqa_labeled.json',\n",
       " 'valid_df_qwen2.5-0.5b-it_gguf_q5_k_m_ollama_pqa_labeled.csv']"
      ]
     },
     "execution_count": 95,
     "metadata": {},
     "output_type": "execute_result"
    }
   ],
   "source": [
    "os.listdir(os.path.join('results',models['qwen2.5'][2]))#[0].split('.')"
   ]
  },
  {
   "cell_type": "code",
   "execution_count": 455,
   "id": "f6107612-d775-4aa5-b9e6-53652b444ad5",
   "metadata": {},
   "outputs": [],
   "source": [
    "model_families = list(set([r.split('-')[0] for r in os.listdir('results')]))\n",
    "family_x_idx_pairs=[(r.split('-')[0], idx) for idx, r in enumerate(os.listdir('results'))]\n",
    "\n",
    "# GOAL: transform models as follows: models={model_family:list_of_directories} -> {model_family:list_of_json_files}\n",
    "\n",
    "# initialize models\n",
    "models = {m:[] for m in model_families}\n",
    "# add families as keys\n",
    "for (m,i) in family_x_idx_pairs:\n",
    "    models[m].append(os.listdir('results')[i])\n",
    "# transform values : path to model folder -> path to json results file\n",
    "for m in models.keys():\n",
    "    # models[m]: list of folder names corresponding to the the model family m\n",
    "    \n",
    "    # get json files from each folder\n",
    "    m_files = []\n",
    "    for idx, folder in enumerate(models[m]):\n",
    "        subfolder_files = os.listdir(os.path.join('results', models[m][idx])) # [*.csv, *.json]\n",
    "        for file in subfolder_files:\n",
    "            if 'json' in file:\n",
    "                m_files.append(os.path.join('results',models[m][idx],file))\n",
    "    models[m] = m_files"
   ]
  },
  {
   "cell_type": "code",
   "execution_count": 112,
   "id": "32b380aa-e022-4937-8d83-70d488eb4026",
   "metadata": {},
   "outputs": [
    {
     "data": {
      "text/plain": [
       "{'biomistral': ['results/biomistral-7b_gguf_q6_k_ollama_pqa_labeled/results_biomistral-7b_gguf_q6_k_ollama_pqa_labeled.json',\n",
       "  'results/biomistral-7b_gguf_q4_k_m_ollama_pqa_labeled/results_biomistral-7b_gguf_q4_k_m_ollama_pqa_labeled.json',\n",
       "  'results/biomistral-7b_gguf_q2_k_ollama_pqa_labeled/results_biomistral-7b_gguf_q2_k_ollama_pqa_labeled.json',\n",
       "  'results/biomistral-7b_gguf_q8_0_ollama_pqa_labeled/results_biomistral-7b_gguf_q8_0_ollama_pqa_labeled.json',\n",
       "  'results/biomistral-7b_gguf_q5_k_m_ollama_pqa_labeled/results_biomistral-7b_gguf_q5_k_m_ollama_pqa_labeled.json',\n",
       "  'results/biomistral-7b_gguf_q3_k_m_ollama_pqa_labeled/results_biomistral-7b_gguf_q3_k_m_ollama_pqa_labeled.json'],\n",
       " 'llama3': ['results/llama3-med_gguf_q6_k_ollama_pqa_labeled/results_llama3-med_gguf_q6_k_ollama_pqa_labeled.json',\n",
       "  'results/llama3-med_gguf_q4_k_m_ollama_pqa_labeled/results_llama3-med_gguf_q4_k_m_ollama_pqa_labeled.json',\n",
       "  'results/llama3-med_gguf_q3_k_m_ollama_pqa_labeled/results_llama3-med_gguf_q3_k_m_ollama_pqa_labeled.json',\n",
       "  'results/llama3-med_gguf_q8_0_ollama_pqa_labeled/results_llama3-med_gguf_q8_0_ollama_pqa_labeled.json',\n",
       "  'results/llama3-med_gguf_q5_k_m_ollama_pqa_labeled/results_llama3-med_gguf_q5_k_m_ollama_pqa_labeled.json'],\n",
       " 'gemma3': ['results/gemma3-12b-it_gguf_q5_k_m_ollama_pqa_labeled/results_gemma3-12b-it_gguf_q5_k_m_ollama_pqa_labeled.json',\n",
       "  'results/gemma3-1b-it_gguf_q8_0_ollama_pqa_labeled/results_gemma3-1b-it_gguf_q8_0_ollama_pqa_labeled.json',\n",
       "  'results/gemma3-4b-it_gguf_q2_k_ollama_pqa_labeled/results_gemma3-4b-it_gguf_q2_k_ollama_pqa_labeled.json',\n",
       "  'results/gemma3-4b-it_gguf_q4_k_m_ollama_pqa_labeled/results_gemma3-4b-it_gguf_q4_k_m_ollama_pqa_labeled.json',\n",
       "  'results/gemma3-4b-it_gguf_q5_k_m_ollama_pqa_labeled/results_gemma3-4b-it_gguf_q5_k_m_ollama_pqa_labeled.json',\n",
       "  'results/gemma3-1b-it_gguf_q6_k_ollama_pqa_labeled/results_gemma3-1b-it_gguf_q6_k_ollama_pqa_labeled.json',\n",
       "  'results/gemma3-12b-it_gguf_q2_k_ollama_pqa_labeled/results_gemma3-12b-it_gguf_q2_k_ollama_pqa_labeled.json',\n",
       "  'results/gemma3-12b-it_gguf_q4_k_m_ollama_pqa_labeled/results_gemma3-12b-it_gguf_q4_k_m_ollama_pqa_labeled.json',\n",
       "  'results/gemma3-4b-it_gguf_q3_k_m_ollama_pqa_labeled/results_gemma3-4b-it_gguf_q3_k_m_ollama_pqa_labeled.json',\n",
       "  'results/gemma3-4b-it_gguf_q6_k_ollama_pqa_labeled/results_gemma3-4b-it_gguf_q6_k_ollama_pqa_labeled.json',\n",
       "  'results/gemma3-1b-it_gguf_q2_k_ollama_pqa_labeled/results_gemma3-1b-it_gguf_q2_k_ollama_pqa_labeled.json',\n",
       "  'results/gemma3-12b-it_gguf_q6_k_ollama_pqa_labeled/results_gemma3-12b-it_gguf_q6_k_ollama_pqa_labeled.json',\n",
       "  'results/gemma3-1b-it_gguf_q3_k_m_ollama_pqa_labeled/results_gemma3-1b-it_gguf_q3_k_m_ollama_pqa_labeled.json',\n",
       "  'results/gemma3-4b-it_gguf_q8_0_ollama_pqa_labeled/results_gemma3-4b-it_gguf_q8_0_ollama_pqa_labeled.json',\n",
       "  'results/gemma3-1b-it_gguf_q4_k_m_ollama_pqa_labeled/results_gemma3-1b-it_gguf_q4_k_m_ollama_pqa_labeled.json',\n",
       "  'results/gemma3-12b-it_gguf_q3_k_m_ollama_pqa_labeled/results_gemma3-12b-it_gguf_q3_k_m_ollama_pqa_labeled.json',\n",
       "  'results/gemma3-12b-it_gguf_q8_0_ollama_pqa_labeled/results_gemma3-12b-it_gguf_q8_0_ollama_pqa_labeled.json',\n",
       "  'results/gemma3-1b-it_gguf_q5_k_m_ollama_pqa_labeled/results_gemma3-1b-it_gguf_q5_k_m_ollama_pqa_labeled.json'],\n",
       " 'qwen2.5': ['results/qwen2.5-1.5b-it_gguf_q3_k_m_ollama_pqa_labeled/results_qwen2.5-1.5b-it_gguf_q3_k_m_ollama_pqa_labeled.json',\n",
       "  'results/qwen2.5-1.5b-it_gguf_q4_k_m_ollama_pqa_labeled/results_qwen2.5-1.5b-it_gguf_q4_k_m_ollama_pqa_labeled.json',\n",
       "  'results/qwen2.5-0.5b-it_gguf_q5_k_m_ollama_pqa_labeled/results_qwen2.5-0.5b-it_gguf_q5_k_m_ollama_pqa_labeled.json',\n",
       "  'results/qwen2.5-0.5b-it_gguf_q2_k_ollama_pqa_labeled/results_qwen2.5-0.5b-it_gguf_q2_k_ollama_pqa_labeled.json',\n",
       "  'results/qwen2.5-3b-it_gguf_q5_k_m_ollama_pqa_labeled/results_qwen2.5-3b-it_gguf_q5_k_m_ollama_pqa_labeled.json',\n",
       "  'results/qwen2.5-3b-it_gguf_q2_k_ollama_pqa_labeled/results_qwen2.5-3b-it_gguf_q2_k_ollama_pqa_labeled.json',\n",
       "  'results/qwen2.5-1.5b-it_gguf_q5_k_m_ollama_pqa_labeled/results_qwen2.5-1.5b-it_gguf_q5_k_m_ollama_pqa_labeled.json',\n",
       "  'results/qwen2.5-3b-it_gguf_q4_k_m_ollama_pqa_labeled/results_qwen2.5-3b-it_gguf_q4_k_m_ollama_pqa_labeled.json',\n",
       "  'results/qwen2.5-7b-it_gguf_q6_k_ollama_pqa_labeled/results_qwen2.5-7b-it_gguf_q6_k_ollama_pqa_labeled.json',\n",
       "  'results/qwen2.5-0.5b-it_gguf_q6_k_ollama_pqa_labeled/results_qwen2.5-0.5b-it_gguf_q6_k_ollama_pqa_labeled.json',\n",
       "  'results/qwen2.5-7b-it_gguf_q5_k_m_ollama_pqa_labeled/results_qwen2.5-7b-it_gguf_q5_k_m_ollama_pqa_labeled.json',\n",
       "  'results/qwen2.5-7b-it_gguf_q3_k_m_ollama_pqa_labeled/results_qwen2.5-7b-it_gguf_q3_k_m_ollama_pqa_labeled.json',\n",
       "  'results/qwen2.5-3b-it_gguf_q6_k_ollama_pqa_labeled/results_qwen2.5-3b-it_gguf_q6_k_ollama_pqa_labeled.json',\n",
       "  'results/qwen2.5-0.5b-it_gguf_q3_k_m_ollama_pqa_labeled/results_qwen2.5-0.5b-it_gguf_q3_k_m_ollama_pqa_labeled.json',\n",
       "  'results/qwen2.5-0.5b-it_gguf_q4_k_m_ollama_pqa_labeled/results_qwen2.5-0.5b-it_gguf_q4_k_m_ollama_pqa_labeled.json',\n",
       "  'results/qwen2.5-1.5b-it_gguf_q8_0_ollama_pqa_labeled/results_qwen2.5-1.5b-it_gguf_q8_0_ollama_pqa_labeled.json',\n",
       "  'results/qwen2.5-0.5b-it_gguf_q8_0_ollama_pqa_labeled/results_qwen2.5-0.5b-it_gguf_q8_0_ollama_pqa_labeled.json',\n",
       "  'results/qwen2.5-3b-it_gguf_q3_k_m_ollama_pqa_labeled/results_qwen2.5-3b-it_gguf_q3_k_m_ollama_pqa_labeled.json',\n",
       "  'results/qwen2.5-1.5b-it_gguf_q2_k_ollama_pqa_labeled/results_qwen2.5-1.5b-it_gguf_q2_k_ollama_pqa_labeled.json',\n",
       "  'results/qwen2.5-3b-it_gguf_q8_0_ollama_pqa_labeled/results_qwen2.5-3b-it_gguf_q8_0_ollama_pqa_labeled.json',\n",
       "  'results/qwen2.5-7b-it_gguf_q4_k_m_ollama_pqa_labeled/results_qwen2.5-7b-it_gguf_q4_k_m_ollama_pqa_labeled.json',\n",
       "  'results/qwen2.5-7b-it_gguf_q8_0_ollama_pqa_labeled/results_qwen2.5-7b-it_gguf_q8_0_ollama_pqa_labeled.json',\n",
       "  'results/qwen2.5-7b-it_gguf_q2_k_ollama_pqa_labeled/results_qwen2.5-7b-it_gguf_q2_k_ollama_pqa_labeled.json',\n",
       "  'results/qwen2.5-1.5b-it_gguf_q6_k_ollama_pqa_labeled/results_qwen2.5-1.5b-it_gguf_q6_k_ollama_pqa_labeled.json']}"
      ]
     },
     "execution_count": 112,
     "metadata": {},
     "output_type": "execute_result"
    }
   ],
   "source": [
    "models"
   ]
  },
  {
   "cell_type": "code",
   "execution_count": 483,
   "id": "18138de2-62f5-4b5f-a4d1-ac09b159e178",
   "metadata": {},
   "outputs": [
    {
     "name": "stdout",
     "output_type": "stream",
     "text": [
      "['biomistral', 'llama3', 'gemma3', 'qwen2.5']\n"
     ]
    }
   ],
   "source": [
    "print(list(models.keys()))\n",
    "t = models['qwen2.5'][0] # test file\n",
    "with open(t, 'r') as file:\n",
    "    data = json.load(file)"
   ]
  },
  {
   "cell_type": "code",
   "execution_count": 484,
   "id": "f3a40f16-1e6b-421d-a48c-2113cd4c0d86",
   "metadata": {},
   "outputs": [
    {
     "data": {
      "text/plain": [
       "{'peak_gpu_load': 0.54,\n",
       " 'peak_mem_util': 0.07514977858817401,\n",
       " 'avg_load': 0.22647058823529412,\n",
       " 'avg_util': 0.07223337368289333,\n",
       " 'std_load': 0.09980026188444095,\n",
       " 'std_util': 0.009617198803682902,\n",
       " 'mem_total': 46068.0}"
      ]
     },
     "execution_count": 484,
     "metadata": {},
     "output_type": "execute_result"
    }
   ],
   "source": [
    "data['metrics']['gpu_report'].pop('util_logs')\n",
    "data['metrics']['gpu_report'].pop('load_logs')\n",
    "data['metrics']['gpu_report'].pop('mem_used_logs')\n",
    "data['metrics']['gpu_report']"
   ]
  },
  {
   "cell_type": "code",
   "execution_count": 486,
   "id": "95cb4b79-1533-4a7e-a4c9-6f6ad4d1357c",
   "metadata": {},
   "outputs": [
    {
     "data": {
      "text/plain": [
       "{'peak_latency': 2.1357100009918213,\n",
       " 'min_latency': 0.06488871574401855,\n",
       " 'avg_latency': 0.12413343167304992,\n",
       " 'std_dev_latecy': 0.04766559847480271,\n",
       " 'var_latency': 0.0022720092779611144,\n",
       " 'total_exp_inference_time_sec': 248.26686334609985,\n",
       " 'throughput_prompts_per_sec': 8.055847538589443}"
      ]
     },
     "execution_count": 486,
     "metadata": {},
     "output_type": "execute_result"
    }
   ],
   "source": [
    "data['metrics']['latency_report'].pop('latencies')\n",
    "data['metrics']['latency_report']"
   ]
  },
  {
   "cell_type": "code",
   "execution_count": 487,
   "id": "eed3e40a-c921-4f8e-81f6-830d16dae737",
   "metadata": {},
   "outputs": [],
   "source": [
    "b = os.listdir()"
   ]
  },
  {
   "cell_type": "code",
   "execution_count": 451,
   "id": "dcb9f80f-50c6-4d11-89ca-ce3a13cfd1fb",
   "metadata": {},
   "outputs": [
    {
     "data": {
      "text/plain": [
       "dict_keys(['experiment_name', 'semi-processed_results', 'metrics'])"
      ]
     },
     "execution_count": 451,
     "metadata": {},
     "output_type": "execute_result"
    }
   ],
   "source": [
    "data.keys()"
   ]
  },
  {
   "cell_type": "code",
   "execution_count": 488,
   "id": "c57f3494-a8de-49eb-9b19-1867d084c5aa",
   "metadata": {},
   "outputs": [
    {
     "name": "stdout",
     "output_type": "stream",
     "text": [
      "Available metrics\n",
      "-----------------\n",
      "gpu_report\n",
      "latency_report\n",
      "cm\n",
      "accuracy\n",
      "precision\n",
      "recall\n",
      "f1-score\n",
      "support\n",
      "abstention_rate\n",
      "fn_difficulty_counts\n",
      "fn_category_counts\n",
      "tp_difficulty_counts\n",
      "tp_category_counts\n",
      "fnr_difficulty\n",
      "fnr_category\n",
      "tpr_difficulty\n",
      "tpr_category\n"
     ]
    }
   ],
   "source": [
    "print(\"Available metrics\")\n",
    "print(\"-----------------\")\n",
    "for m in data['metrics'].keys():\n",
    "    print(m)"
   ]
  },
  {
   "cell_type": "code",
   "execution_count": 158,
   "id": "18a0845c-f1da-4603-bd4d-8a6b3558eea4",
   "metadata": {},
   "outputs": [
    {
     "name": "stdout",
     "output_type": "stream",
     "text": [
      "# Qwen Models: 24\n",
      "# Gemma3 Models: 18\n",
      "# Llama Models: 5\n",
      "# Biomistral Models: 6\n"
     ]
    }
   ],
   "source": [
    "print(f\"# Qwen Models: {len(models['qwen2.5'])}\")\n",
    "print(f\"# Gemma3 Models: {len(models['gemma3'])}\")\n",
    "print(f\"# Llama Models: {len(models['llama3'])}\")\n",
    "print(f\"# Biomistral Models: {len(models['biomistral'])}\")"
   ]
  },
  {
   "cell_type": "code",
   "execution_count": 214,
   "id": "7ad57a5b-0b0a-48f0-8156-20909ad1b3eb",
   "metadata": {},
   "outputs": [
    {
     "name": "stdout",
     "output_type": "stream",
     "text": [
      "Model: Qwen2.5-7b, Bits: 4\n"
     ]
    }
   ],
   "source": [
    "#                   family,   number\n",
    "test_file = models['qwen2.5'][20]\n",
    "with open(test_file, 'r') as file:\n",
    "    data = json.load(file)\n",
    "exp_name = data['experiment_name'].replace('qwen','Qwen').replace('_ollama_pqa_labeled', '').replace('it_gguf_', '').replace('q','').replace('_k_m', '').replace('_k','').replace('_0','')\n",
    "model = '-'.join(exp_name.split('-')[:-1])\n",
    "bits = exp_name.split('-')[-1]\n",
    "print(f\"Model: {model}, Bits: {bits}\")"
   ]
  },
  {
   "cell_type": "code",
   "execution_count": 266,
   "id": "fe0af9f2-65f0-48e9-8b90-793adb712f6e",
   "metadata": {},
   "outputs": [
    {
     "data": {
      "text/plain": [
       "['biomistral', 'llama3', 'gemma3', 'qwen2.5']"
      ]
     },
     "execution_count": 266,
     "metadata": {},
     "output_type": "execute_result"
    }
   ],
   "source": [
    "model_families"
   ]
  },
  {
   "cell_type": "code",
   "execution_count": 456,
   "id": "f30606f3-223c-45c3-8a87-84228538710b",
   "metadata": {},
   "outputs": [
    {
     "name": "stdout",
     "output_type": "stream",
     "text": [
      "Model: Qwen2.5-1.5b, Bits: 3, Acc: 0.537\n",
      "Model: Qwen2.5-1.5b, Bits: 4, Acc: 0.6045\n",
      "Model: Qwen2.5-0.5b, Bits: 5, Acc: 0.4705\n",
      "Model: Qwen2.5-0.5b, Bits: 2, Acc: 0.474\n",
      "Model: Qwen2.5-3b, Bits: 5, Acc: 0.5085\n",
      "Model: Qwen2.5-3b, Bits: 2, Acc: 0.5\n",
      "Model: Qwen2.5-1.5b, Bits: 5, Acc: 0.6365\n",
      "Model: Qwen2.5-3b, Bits: 4, Acc: 0.501\n",
      "Model: Qwen2.5-7b, Bits: 6, Acc: 0.8225\n",
      "Model: Qwen2.5-0.5b, Bits: 6, Acc: 0.492\n",
      "Model: Qwen2.5-7b, Bits: 5, Acc: 0.8205\n",
      "Model: Qwen2.5-7b, Bits: 3, Acc: 0.7875\n",
      "Model: Qwen2.5-3b, Bits: 6, Acc: 0.506\n",
      "Model: Qwen2.5-0.5b, Bits: 3, Acc: 0.5005\n",
      "Model: Qwen2.5-0.5b, Bits: 4, Acc: 0.4665\n",
      "Model: Qwen2.5-1.5b, Bits: 8, Acc: 0.6385\n",
      "Model: Qwen2.5-0.5b, Bits: 8, Acc: 0.493\n",
      "Model: Qwen2.5-3b, Bits: 3, Acc: 0.5005\n",
      "Model: Qwen2.5-1.5b, Bits: 2, Acc: 0.5047974413646056\n",
      "Model: Qwen2.5-3b, Bits: 8, Acc: 0.506\n",
      "Model: Qwen2.5-7b, Bits: 4, Acc: 0.8145\n",
      "Model: Qwen2.5-7b, Bits: 8, Acc: 0.8185\n",
      "Model: Qwen2.5-7b, Bits: 2, Acc: 0.77\n",
      "Model: Qwen2.5-1.5b, Bits: 6, Acc: 0.6325\n"
     ]
    }
   ],
   "source": [
    "# get accuracy for all models, all quants in the Qwen2.5 family\n",
    "family = 'qwen2.5'\n",
    "for m in models[family]:\n",
    "    with open(m, 'r') as file:\n",
    "        curr_data = json.load(file)\n",
    "    exp_name = curr_data['experiment_name'].replace('qwen','Qwen').replace('_ollama_pqa_labeled', '').replace('it_gguf_', '').replace('q','').replace('_k_m', '').replace('_k','').replace('_0','')\n",
    "    model = '-'.join(exp_name.split('-')[:-1])\n",
    "    bits = exp_name.split('-')[-1]\n",
    "    print(f\"Model: {model}, Bits: {bits}, Acc: {curr_data['metrics']['accuracy']}\")"
   ]
  },
  {
   "cell_type": "code",
   "execution_count": 453,
   "id": "064fb459-5743-48a8-8c36-1a5bc1152af1",
   "metadata": {},
   "outputs": [
    {
     "data": {
      "text/plain": [
       "['biomistral', 'llama3', 'gemma3', 'qwen2.5']"
      ]
     },
     "execution_count": 453,
     "metadata": {},
     "output_type": "execute_result"
    }
   ],
   "source": [
    "model_families"
   ]
  },
  {
   "cell_type": "code",
   "execution_count": 458,
   "id": "f3b3f0d3-026e-400a-acd6-b08d20c7d054",
   "metadata": {},
   "outputs": [
    {
     "name": "stdout",
     "output_type": "stream",
     "text": [
      "biomistral-7b_gguf_q6_k_ollama_pqa_labeled\n",
      "Model: biomistral, Bits: 6, Acc: 0.5481023830538394\n",
      "biomistral-7b_gguf_q4_k_m_ollama_pqa_labeled\n",
      "Model: biomistral, Bits: 4, Acc: 0.5529753265602322\n",
      "biomistral-7b_gguf_q2_k_ollama_pqa_labeled\n",
      "Model: biomistral, Bits: 2, Acc: 0.5161290322580645\n",
      "biomistral-7b_gguf_q8_0_ollama_pqa_labeled\n",
      "Model: biomistral, Bits: 8, Acc: 0.5432937181663837\n",
      "biomistral-7b_gguf_q5_k_m_ollama_pqa_labeled\n",
      "Model: biomistral, Bits: 5, Acc: 0.5364120781527532\n",
      "biomistral-7b_gguf_q3_k_m_ollama_pqa_labeled\n",
      "Model: biomistral, Bits: 3, Acc: 0.5808124459809854\n",
      "llama3-med_gguf_q6_k_ollama_pqa_labeled\n",
      "Model: llama3, Bits: 6, Acc: 0.722397476340694\n",
      "llama3-med_gguf_q4_k_m_ollama_pqa_labeled\n",
      "Model: llama3, Bits: 4, Acc: 0.70541820094687\n",
      "llama3-med_gguf_q3_k_m_ollama_pqa_labeled\n",
      "Model: llama3, Bits: 3, Acc: 0.6961382113821138\n",
      "llama3-med_gguf_q8_0_ollama_pqa_labeled\n",
      "Model: llama3, Bits: 8, Acc: 0.7149532710280374\n",
      "llama3-med_gguf_q5_k_m_ollama_pqa_labeled\n",
      "Model: llama3, Bits: 5, Acc: 0.7243928194297783\n",
      "gemma3-12b-it_gguf_q5_k_m_ollama_pqa_labeled\n",
      "Model: gemma3-12b, Bits: 5, Acc: 0.85\n",
      "gemma3-1b-it_gguf_q8_0_ollama_pqa_labeled\n",
      "Model: gemma3-1b, Bits: 8, Acc: 0.5\n",
      "gemma3-4b-it_gguf_q2_k_ollama_pqa_labeled\n",
      "Model: gemma3-4b, Bits: 2, Acc: 0.6015\n",
      "gemma3-4b-it_gguf_q4_k_m_ollama_pqa_labeled\n",
      "Model: gemma3-4b, Bits: 4, Acc: 0.708\n",
      "gemma3-4b-it_gguf_q5_k_m_ollama_pqa_labeled\n",
      "Model: gemma3-4b, Bits: 5, Acc: 0.7225\n",
      "gemma3-1b-it_gguf_q6_k_ollama_pqa_labeled\n",
      "Model: gemma3-1b, Bits: 6, Acc: 0.5\n",
      "gemma3-12b-it_gguf_q2_k_ollama_pqa_labeled\n",
      "Model: gemma3-12b, Bits: 2, Acc: 0.809\n",
      "gemma3-12b-it_gguf_q4_k_m_ollama_pqa_labeled\n",
      "Model: gemma3-12b, Bits: 4, Acc: 0.8325\n",
      "gemma3-4b-it_gguf_q3_k_m_ollama_pqa_labeled\n",
      "Model: gemma3-4b, Bits: 3, Acc: 0.706\n",
      "gemma3-4b-it_gguf_q6_k_ollama_pqa_labeled\n",
      "Model: gemma3-4b, Bits: 6, Acc: 0.7265\n",
      "gemma3-1b-it_gguf_q2_k_ollama_pqa_labeled\n",
      "Model: gemma3-1b, Bits: 2, Acc: 0.4995\n",
      "gemma3-12b-it_gguf_q6_k_ollama_pqa_labeled\n",
      "Model: gemma3-12b, Bits: 6, Acc: 0.8485\n",
      "gemma3-1b-it_gguf_q3_k_m_ollama_pqa_labeled\n",
      "Model: gemma3-1b, Bits: 3, Acc: 0.5\n",
      "gemma3-4b-it_gguf_q8_0_ollama_pqa_labeled\n",
      "Model: gemma3-4b, Bits: 8, Acc: 0.727\n",
      "gemma3-1b-it_gguf_q4_k_m_ollama_pqa_labeled\n",
      "Model: gemma3-1b, Bits: 4, Acc: 0.5\n",
      "gemma3-12b-it_gguf_q3_k_m_ollama_pqa_labeled\n",
      "Model: gemma3-12b, Bits: 3, Acc: 0.8245\n",
      "gemma3-12b-it_gguf_q8_0_ollama_pqa_labeled\n",
      "Model: gemma3-12b, Bits: 8, Acc: 0.8515\n",
      "gemma3-1b-it_gguf_q5_k_m_ollama_pqa_labeled\n",
      "Model: gemma3-1b, Bits: 5, Acc: 0.4995\n",
      "qwen2.5-1.5b-it_gguf_q3_k_m_ollama_pqa_labeled\n",
      "Model: Qwen2.5-1.5b, Bits: 3, Acc: 0.537\n",
      "qwen2.5-1.5b-it_gguf_q4_k_m_ollama_pqa_labeled\n",
      "Model: Qwen2.5-1.5b, Bits: 4, Acc: 0.6045\n",
      "qwen2.5-0.5b-it_gguf_q5_k_m_ollama_pqa_labeled\n",
      "Model: Qwen2.5-0.5b, Bits: 5, Acc: 0.4705\n",
      "qwen2.5-0.5b-it_gguf_q2_k_ollama_pqa_labeled\n",
      "Model: Qwen2.5-0.5b, Bits: 2, Acc: 0.474\n",
      "qwen2.5-3b-it_gguf_q5_k_m_ollama_pqa_labeled\n",
      "Model: Qwen2.5-3b, Bits: 5, Acc: 0.5085\n",
      "qwen2.5-3b-it_gguf_q2_k_ollama_pqa_labeled\n",
      "Model: Qwen2.5-3b, Bits: 2, Acc: 0.5\n",
      "qwen2.5-1.5b-it_gguf_q5_k_m_ollama_pqa_labeled\n",
      "Model: Qwen2.5-1.5b, Bits: 5, Acc: 0.6365\n",
      "qwen2.5-3b-it_gguf_q4_k_m_ollama_pqa_labeled\n",
      "Model: Qwen2.5-3b, Bits: 4, Acc: 0.501\n",
      "qwen2.5-7b-it_gguf_q6_k_ollama_pqa_labeled\n",
      "Model: Qwen2.5-7b, Bits: 6, Acc: 0.8225\n",
      "qwen2.5-0.5b-it_gguf_q6_k_ollama_pqa_labeled\n",
      "Model: Qwen2.5-0.5b, Bits: 6, Acc: 0.492\n",
      "qwen2.5-7b-it_gguf_q5_k_m_ollama_pqa_labeled\n",
      "Model: Qwen2.5-7b, Bits: 5, Acc: 0.8205\n",
      "qwen2.5-7b-it_gguf_q3_k_m_ollama_pqa_labeled\n",
      "Model: Qwen2.5-7b, Bits: 3, Acc: 0.7875\n",
      "qwen2.5-3b-it_gguf_q6_k_ollama_pqa_labeled\n",
      "Model: Qwen2.5-3b, Bits: 6, Acc: 0.506\n",
      "qwen2.5-0.5b-it_gguf_q3_k_m_ollama_pqa_labeled\n",
      "Model: Qwen2.5-0.5b, Bits: 3, Acc: 0.5005\n",
      "qwen2.5-0.5b-it_gguf_q4_k_m_ollama_pqa_labeled\n",
      "Model: Qwen2.5-0.5b, Bits: 4, Acc: 0.4665\n",
      "qwen2.5-1.5b-it_gguf_q8_0_ollama_pqa_labeled\n",
      "Model: Qwen2.5-1.5b, Bits: 8, Acc: 0.6385\n",
      "qwen2.5-0.5b-it_gguf_q8_0_ollama_pqa_labeled\n",
      "Model: Qwen2.5-0.5b, Bits: 8, Acc: 0.493\n",
      "qwen2.5-3b-it_gguf_q3_k_m_ollama_pqa_labeled\n",
      "Model: Qwen2.5-3b, Bits: 3, Acc: 0.5005\n",
      "qwen2.5-1.5b-it_gguf_q2_k_ollama_pqa_labeled\n",
      "Model: Qwen2.5-1.5b, Bits: 2, Acc: 0.5047974413646056\n",
      "qwen2.5-3b-it_gguf_q8_0_ollama_pqa_labeled\n",
      "Model: Qwen2.5-3b, Bits: 8, Acc: 0.506\n",
      "qwen2.5-7b-it_gguf_q4_k_m_ollama_pqa_labeled\n",
      "Model: Qwen2.5-7b, Bits: 4, Acc: 0.8145\n",
      "qwen2.5-7b-it_gguf_q8_0_ollama_pqa_labeled\n",
      "Model: Qwen2.5-7b, Bits: 8, Acc: 0.8185\n",
      "qwen2.5-7b-it_gguf_q2_k_ollama_pqa_labeled\n",
      "Model: Qwen2.5-7b, Bits: 2, Acc: 0.77\n",
      "qwen2.5-1.5b-it_gguf_q6_k_ollama_pqa_labeled\n",
      "Model: Qwen2.5-1.5b, Bits: 6, Acc: 0.6325\n"
     ]
    }
   ],
   "source": [
    "# get accuracy for all models, all quants in the Qwen2.5 family\n",
    "family_model_summaries = {k:None for k in model_families}\n",
    "for family in model_families:\n",
    "    model_summaries = {}\n",
    "    for m in models[family]:\n",
    "        curr_summary = {}\n",
    "        with open(m, 'r') as file:\n",
    "            curr_data = json.load(file)\n",
    "        print(curr_data['experiment_name'])\n",
    "        exp_name = curr_data['experiment_name'].replace('qwen','Qwen').replace('_ollama_pqa_labeled', '').replace('it_gguf_', '').replace('q','').replace('_k_m', '').replace('_k','').replace('_0','').replace('med_gguf_', '').replace('7b_gguf_', '')\n",
    "        model = '-'.join(exp_name.split('-')[:-1])\n",
    "        bits = exp_name.split('-')[-1]\n",
    "        curr_summary[bits] = curr_data['metrics']['accuracy']\n",
    "        if model_summaries.get(model, None) == None:\n",
    "            model_summaries[model] = curr_summary\n",
    "        else:\n",
    "            model_summaries[model].update(curr_summary)\n",
    "        print(f\"Model: {model}, Bits: {bits}, Acc: {curr_data['metrics']['accuracy']}\")\n",
    "    if family_model_summaries.get(family,None) == None:\n",
    "        family_model_summaries[family] = model_summaries\n",
    "    else:\n",
    "        family_model_summaries[family].update(model_summaries)"
   ]
  },
  {
   "cell_type": "code",
   "execution_count": 277,
   "id": "cbb2c6b4-2cb2-4e59-b4fd-8b496652d580",
   "metadata": {},
   "outputs": [
    {
     "data": {
      "text/plain": [
       "{'biomistral': {'biomistral': {'6': 0.5481023830538394,\n",
       "   '4': 0.5529753265602322,\n",
       "   '2': 0.5161290322580645,\n",
       "   '8': 0.5432937181663837,\n",
       "   '5': 0.5364120781527532,\n",
       "   '3': 0.5808124459809854}},\n",
       " 'llama3': {'llama3': {'6': 0.722397476340694,\n",
       "   '4': 0.70541820094687,\n",
       "   '3': 0.6961382113821138,\n",
       "   '8': 0.7149532710280374,\n",
       "   '5': 0.7243928194297783}},\n",
       " 'gemma3': {'gemma3-12b': {'5': 0.85,\n",
       "   '2': 0.809,\n",
       "   '4': 0.8325,\n",
       "   '6': 0.8485,\n",
       "   '3': 0.8245,\n",
       "   '8': 0.8515},\n",
       "  'gemma3-1b': {'8': 0.5,\n",
       "   '6': 0.5,\n",
       "   '2': 0.4995,\n",
       "   '3': 0.5,\n",
       "   '4': 0.5,\n",
       "   '5': 0.4995},\n",
       "  'gemma3-4b': {'2': 0.6015,\n",
       "   '4': 0.708,\n",
       "   '5': 0.7225,\n",
       "   '3': 0.706,\n",
       "   '6': 0.7265,\n",
       "   '8': 0.727}},\n",
       " 'qwen2.5': {'Qwen2.5-1.5b': {'3': 0.537,\n",
       "   '4': 0.6045,\n",
       "   '5': 0.6365,\n",
       "   '8': 0.6385,\n",
       "   '2': 0.5047974413646056,\n",
       "   '6': 0.6325},\n",
       "  'Qwen2.5-0.5b': {'5': 0.4705,\n",
       "   '2': 0.474,\n",
       "   '6': 0.492,\n",
       "   '3': 0.5005,\n",
       "   '4': 0.4665,\n",
       "   '8': 0.493},\n",
       "  'Qwen2.5-3b': {'5': 0.5085,\n",
       "   '2': 0.5,\n",
       "   '4': 0.501,\n",
       "   '6': 0.506,\n",
       "   '3': 0.5005,\n",
       "   '8': 0.506},\n",
       "  'Qwen2.5-7b': {'6': 0.8225,\n",
       "   '5': 0.8205,\n",
       "   '3': 0.7875,\n",
       "   '4': 0.8145,\n",
       "   '8': 0.8185,\n",
       "   '2': 0.77}}}"
      ]
     },
     "execution_count": 277,
     "metadata": {},
     "output_type": "execute_result"
    }
   ],
   "source": [
    "# for each qwen model, we have accuracies over 2,3,4,5,6,8 bit quants\n",
    "family_model_summaries"
   ]
  },
  {
   "cell_type": "code",
   "execution_count": 462,
   "id": "a57dfa06-8423-48b0-ae72-c1b6b700577e",
   "metadata": {},
   "outputs": [
    {
     "name": "stdout",
     "output_type": "stream",
     "text": [
      "biomistral-7b-6\n",
      "gemma3-1b-8\n",
      "Qwen2.5-0.5b-3\n"
     ]
    }
   ],
   "source": [
    "def clean_experiment_name(name: str) -> str:\n",
    "    return (name.replace('qwen','Qwen')\n",
    "            .replace('_ollama_pqa_labeled','')\n",
    "            .replace('it_gguf_','')\n",
    "            .replace('q','')\n",
    "            .replace('_k_m', '')\n",
    "            .replace('_k','')\n",
    "            .replace('_0','')\n",
    "            .replace('med_gguf_', '')\n",
    "            .replace('7b_gguf_', '7b-')\n",
    "           )\n",
    "print(clean_experiment_name('biomistral-7b_gguf_q6_k_ollama_pqa_labeled'))\n",
    "print(clean_experiment_name('gemma3-1b-it_gguf_q8_0_ollama_pqa_labeled'))\n",
    "print(clean_experiment_name('qwen2.5-0.5b-it_gguf_q3_k_m_ollama_pqa_labeled'))"
   ]
  },
  {
   "cell_type": "code",
   "execution_count": 281,
   "id": "98886f06-9d6a-4b96-921c-a130b3d6c8f8",
   "metadata": {},
   "outputs": [
    {
     "data": {
      "text/plain": [
       "{'Qwen2.5-1.5b': {'3': 0.537,\n",
       "  '4': 0.6045,\n",
       "  '5': 0.6365,\n",
       "  '8': 0.6385,\n",
       "  '2': 0.5047974413646056,\n",
       "  '6': 0.6325},\n",
       " 'Qwen2.5-0.5b': {'5': 0.4705,\n",
       "  '2': 0.474,\n",
       "  '6': 0.492,\n",
       "  '3': 0.5005,\n",
       "  '4': 0.4665,\n",
       "  '8': 0.493},\n",
       " 'Qwen2.5-3b': {'5': 0.5085,\n",
       "  '2': 0.5,\n",
       "  '4': 0.501,\n",
       "  '6': 0.506,\n",
       "  '3': 0.5005,\n",
       "  '8': 0.506},\n",
       " 'Qwen2.5-7b': {'6': 0.8225,\n",
       "  '5': 0.8205,\n",
       "  '3': 0.7875,\n",
       "  '4': 0.8145,\n",
       "  '8': 0.8185,\n",
       "  '2': 0.77}}"
      ]
     },
     "execution_count": 281,
     "metadata": {},
     "output_type": "execute_result"
    }
   ],
   "source": [
    "family_model_summaries['qwen2.5']"
   ]
  },
  {
   "cell_type": "code",
   "execution_count": 327,
   "id": "5918583b-422b-458d-8b5e-175ae48309e7",
   "metadata": {},
   "outputs": [
    {
     "data": {
      "text/plain": [
       "['Qwen2.5-1.5b', 'Qwen2.5-0.5b', 'Qwen2.5-3b', 'Qwen2.5-7b']"
      ]
     },
     "execution_count": 327,
     "metadata": {},
     "output_type": "execute_result"
    }
   ],
   "source": [
    "qwen_models = list(family_model_summaries['qwen2.5'].keys())\n",
    "qwen_models"
   ]
  },
  {
   "cell_type": "code",
   "execution_count": 335,
   "id": "2797dc1f-7a6e-44ba-877a-d11714adbf7b",
   "metadata": {},
   "outputs": [
    {
     "data": {
      "image/png": "[encoded data removed]",
      "text/plain": [
       "<Figure size 640x480 with 1 Axes>"
      ]
     },
     "metadata": {},
     "output_type": "display_data"
    }
   ],
   "source": [
    "qwen_models = list(family_model_summaries['qwen2.5'].keys())\n",
    "# sort the dictionary of bit-accuracy (key-value) pairs by the key\n",
    "qwen15 = {bit: model_summaries[qwen_models[0]][bit] for bit in sorted(model_summaries[qwen_models[0]])}\n",
    "qwen05 = {bit: model_summaries[qwen_models[1]][bit] for bit in sorted(model_summaries[qwen_models[1]])}\n",
    "qwen30 = {bit: model_summaries[qwen_models[2]][bit] for bit in sorted(model_summaries[qwen_models[2]])}\n",
    "qwen70 = {bit: model_summaries[qwen_models[3]][bit] for bit in sorted(model_summaries[qwen_models[3]])}\n",
    "\n",
    "fig, ax = plt.subplots(1, 1) # \n",
    "ax.plot(qwen05.keys(), qwen05.values(), '.-.', label='qwen2.5-0.5b')\n",
    "ax.plot(qwen15.keys(), qwen15.values(), '.-.', label='qwen2.5-1.5b')\n",
    "ax.plot(qwen30.keys(), qwen30.values(), '.-.', label='qwen2.5-3b')\n",
    "ax.plot(qwen70.keys(), qwen70.values(), '.-.', label='qwen2.5-7b')\n",
    "ax.legend()\n",
    "plt.suptitle('Qwen2.5')\n",
    "ax.set_ylabel('Accuracy [%]')\n",
    "ax.set_xlabel('k-quantization level [bits]')\n",
    "plt.show()"
   ]
  },
  {
   "cell_type": "code",
   "execution_count": 388,
   "id": "456e7ca6-3fed-4824-bb6c-22c7a4b8edd4",
   "metadata": {},
   "outputs": [
    {
     "data": {
      "text/plain": [
       "{'gemma3-12b': {'5': 0.85,\n",
       "  '2': 0.809,\n",
       "  '4': 0.8325,\n",
       "  '6': 0.8485,\n",
       "  '3': 0.8245,\n",
       "  '8': 0.8515},\n",
       " 'gemma3-1b': {'8': 0.5,\n",
       "  '6': 0.5,\n",
       "  '2': 0.4995,\n",
       "  '3': 0.5,\n",
       "  '4': 0.5,\n",
       "  '5': 0.4995},\n",
       " 'gemma3-4b': {'2': 0.6015,\n",
       "  '4': 0.708,\n",
       "  '5': 0.7225,\n",
       "  '3': 0.706,\n",
       "  '6': 0.7265,\n",
       "  '8': 0.727}}"
      ]
     },
     "execution_count": 388,
     "metadata": {},
     "output_type": "execute_result"
    }
   ],
   "source": [
    "family_model_summaries['gemma3'] # original"
   ]
  },
  {
   "cell_type": "code",
   "execution_count": 389,
   "id": "339e15e5-3a0b-43a5-9854-14238fb8fdd3",
   "metadata": {},
   "outputs": [
    {
     "data": {
      "text/plain": [
       "{'2': 0.4995, '3': 0.5, '4': 0.5, '5': 0.4995, '6': 0.5, '8': 0.5}"
      ]
     },
     "execution_count": 389,
     "metadata": {},
     "output_type": "execute_result"
    }
   ],
   "source": [
    "gemma1 # sorted"
   ]
  },
  {
   "cell_type": "code",
   "execution_count": 381,
   "id": "d14a3724-fc63-46d2-bea8-13c555cc4ec0",
   "metadata": {},
   "outputs": [
    {
     "data": {
      "text/plain": [
       "['2', '3', '4', '5', '6', '8']"
      ]
     },
     "execution_count": 381,
     "metadata": {},
     "output_type": "execute_result"
    }
   ],
   "source": [
    "sorted(family_model_summaries['gemma3'][gemma_models[0]])"
   ]
  },
  {
   "cell_type": "code",
   "execution_count": 386,
   "id": "ce68310c-0030-4f46-bea1-367386ad060b",
   "metadata": {},
   "outputs": [
    {
     "data": {
      "text/plain": [
       "['gemma3-12b', 'gemma3-1b', 'gemma3-4b']"
      ]
     },
     "execution_count": 386,
     "metadata": {},
     "output_type": "execute_result"
    }
   ],
   "source": [
    "gemma_models"
   ]
  },
  {
   "cell_type": "code",
   "execution_count": 398,
   "id": "578d0744-b50e-4e48-b643-294ec1f36af4",
   "metadata": {},
   "outputs": [
    {
     "data": {
      "text/plain": [
       "{'biomistral': {'6': 0.5481023830538394,\n",
       "  '4': 0.5529753265602322,\n",
       "  '2': 0.5161290322580645,\n",
       "  '8': 0.5432937181663837,\n",
       "  '5': 0.5364120781527532,\n",
       "  '3': 0.5808124459809854}}"
      ]
     },
     "execution_count": 398,
     "metadata": {},
     "output_type": "execute_result"
    }
   ],
   "source": [
    "family_model_summaries['biomistral'] # original"
   ]
  },
  {
   "cell_type": "code",
   "execution_count": 411,
   "id": "c22c3da0-fab6-42a9-905e-eef99aaee86e",
   "metadata": {},
   "outputs": [
    {
     "data": {
      "text/plain": [
       "{'2': 0.5161290322580645,\n",
       " '3': 0.5808124459809854,\n",
       " '4': 0.5529753265602322,\n",
       " '5': 0.5364120781527532,\n",
       " '6': 0.5481023830538394,\n",
       " '8': 0.5432937181663837}"
      ]
     },
     "execution_count": 411,
     "metadata": {},
     "output_type": "execute_result"
    }
   ],
   "source": [
    "biomistral7 # sorted"
   ]
  },
  {
   "cell_type": "code",
   "execution_count": 410,
   "id": "82fb0d88-3428-4365-8009-a062d33cc756",
   "metadata": {},
   "outputs": [
    {
     "data": {
      "text/plain": [
       "{'llama3': {'6': 0.722397476340694,\n",
       "  '4': 0.70541820094687,\n",
       "  '3': 0.6961382113821138,\n",
       "  '8': 0.7149532710280374,\n",
       "  '5': 0.7243928194297783}}"
      ]
     },
     "execution_count": 410,
     "metadata": {},
     "output_type": "execute_result"
    }
   ],
   "source": [
    "family_model_summaries['llama3'] # original"
   ]
  },
  {
   "cell_type": "code",
   "execution_count": 409,
   "id": "668f68b6-bae3-4871-9932-d60d131be248",
   "metadata": {},
   "outputs": [
    {
     "data": {
      "text/plain": [
       "{'3': 0.6961382113821138,\n",
       " '4': 0.70541820094687,\n",
       " '5': 0.7243928194297783,\n",
       " '6': 0.722397476340694,\n",
       " '8': 0.7149532710280374}"
      ]
     },
     "execution_count": 409,
     "metadata": {},
     "output_type": "execute_result"
    }
   ],
   "source": [
    "llama3_med # sorted"
   ]
  },
  {
   "cell_type": "code",
   "execution_count": 406,
   "id": "f2909331-30ea-4cc2-a268-fd8c6832cd4f",
   "metadata": {},
   "outputs": [
    {
     "data": {
      "text/plain": [
       "'biomistral'"
      ]
     },
     "execution_count": 406,
     "metadata": {},
     "output_type": "execute_result"
    }
   ],
   "source": [
    "list(family_model_summaries['biomistral'].keys())[0]"
   ]
  },
  {
   "cell_type": "code",
   "execution_count": 439,
   "id": "214bd741-a2bc-49d9-adf4-0f897c5eeeef",
   "metadata": {},
   "outputs": [
    {
     "data": {
      "image/png": "[encoded data removed]",
      "text/plain": [
       "<Figure size 1200x1000 with 4 Axes>"
      ]
     },
     "metadata": {},
     "output_type": "display_data"
    }
   ],
   "source": [
    "# --- Plot 4 families in 1 figure ---\n",
    "\n",
    "qwen_models = list(family_model_summaries['qwen2.5'].keys()) # 1.5, 0.5, 3, 7\n",
    "# sort the dictionary of bit-accuracy (key-value) pairs by the key\n",
    "qwen15 = {bit: family_model_summaries['qwen2.5'][qwen_models[0]][bit] for bit in sorted(family_model_summaries['qwen2.5'][qwen_models[0]])}\n",
    "qwen05 = {bit: family_model_summaries['qwen2.5'][qwen_models[1]][bit] for bit in sorted(family_model_summaries['qwen2.5'][qwen_models[1]])}\n",
    "qwen30 = {bit: family_model_summaries['qwen2.5'][qwen_models[2]][bit] for bit in sorted(family_model_summaries['qwen2.5'][qwen_models[2]])}\n",
    "qwen70 = {bit: family_model_summaries['qwen2.5'][qwen_models[3]][bit] for bit in sorted(family_model_summaries['qwen2.5'][qwen_models[3]])}\n",
    "\n",
    "gemma_models = list(family_model_summaries['gemma3'].keys()) # 12, 1, 4\n",
    "gemma12 = {bit: family_model_summaries['gemma3'][gemma_models[0]][bit] for bit in sorted(family_model_summaries['gemma3'][gemma_models[0]])}\n",
    "gemma1 = {bit: family_model_summaries['gemma3'][gemma_models[1]][bit] for bit in sorted(family_model_summaries['gemma3'][gemma_models[1]])}\n",
    "gemma4 = {bit: family_model_summaries['gemma3'][gemma_models[2]][bit] for bit in sorted(family_model_summaries['gemma3'][gemma_models[2]])}\n",
    "\n",
    "biomistral_models = list(family_model_summaries['biomistral'].keys())\n",
    "biomistral7_med = {bit: family_model_summaries['biomistral'][biomistral_models[0]][bit] for bit in sorted(family_model_summaries['biomistral'][biomistral_models[0]])}\n",
    "\n",
    "llama3_med_models = list(family_model_summaries['llama3'].keys())\n",
    "llama3_med = {bit: family_model_summaries['llama3'][llama3_med_models[0]][bit] for bit in sorted(family_model_summaries['llama3'][llama3_med_models[0]])}\n",
    "\n",
    "fig, ax = plt.subplots(2, 2, figsize=(12,10))\n",
    "# qwen\n",
    "ax[0][0].plot(qwen05.keys(), qwen05.values(), '.-.', label='qwen2.5-0.5b')\n",
    "ax[0][0].plot(qwen15.keys(), qwen15.values(), '.-.', label='qwen2.5-1.5b')\n",
    "ax[0][0].plot(qwen30.keys(), qwen30.values(), '.-.', label='qwen2.5-3b')\n",
    "ax[0][0].plot(qwen70.keys(), qwen70.values(), '.-.', label='qwen2.5-7b')\n",
    "ax[0][0].legend()\n",
    "ax[0][0].set_title('Qwen2.5')\n",
    "ax[0][0].set_ylabel('Accuracy [%]')\n",
    "ax[0][0].set_xlabel('k-quantization level [bits]')\n",
    "ax[0][0].set_ylim(0, 1)\n",
    "\n",
    "# gemma\n",
    "ax[0][1].plot(gemma1.keys(), gemma1.values(), '.-.', label='gemma3-1b')\n",
    "ax[0][1].plot(gemma4.keys(), gemma4.values(), '.-.', label='gemma3-4b')\n",
    "ax[0][1].plot(gemma12.keys(), gemma12.values(), '.-.', label='gemma3-12b')\n",
    "ax[0][1].legend()\n",
    "ax[0][1].set_title('Gemma-3')\n",
    "ax[0][1].set_ylabel('Accuracy [%]')\n",
    "ax[0][1].set_xlabel('k-quantization level [bits]')\n",
    "ax[0][1].set_ylim(0, 1)\n",
    "\n",
    "# llama\n",
    "ax[1][0].plot(llama3_med.keys(), llama3_med.values(), '.-.', label='llama3_med_7B')\n",
    "ax[1][0].legend()\n",
    "ax[1][0].set_title('Llama3-med')\n",
    "ax[1][0].set_ylabel('Accuracy [%]')\n",
    "ax[1][0].set_xlabel('k-quantization level [bits]')\n",
    "ax[1][0].set_ylim(0, 1)\n",
    "\n",
    "# biomistral\n",
    "ax[1][1].plot(biomistral7_med.keys(), biomistral7_med.values(), '.-.', label='biomistral_med_7B')\n",
    "ax[1][1].legend()\n",
    "ax[1][1].set_title('Biomistral-med')\n",
    "ax[1][1].set_ylabel('Accuracy [%]')\n",
    "ax[1][1].set_xlabel('k-quantization level [bits]')\n",
    "ax[1][1].set_ylim(0, 1)\n",
    "plt.suptitle('K-Quantization Level vs. Accuracy for Different LLM-Examiner Families')\n",
    "plt.tight_layout()\n",
    "plt.show()"
   ]
  },
  {
   "cell_type": "markdown",
   "id": "ae340591-087f-4b6c-8d66-a12a74289cb7",
   "metadata": {},
   "source": [
    "- generally stable or improving performance with increasing bit widths\n",
    "- biomistral dips after q_3"
   ]
  },
  {
   "cell_type": "code",
   "execution_count": 432,
   "id": "5a92327a-05cc-4f3d-ac55-c8da82f96afa",
   "metadata": {},
   "outputs": [
    {
     "data": {
      "image/png": "[encoded data removed]",
      "text/plain": [
       "<Figure size 640x480 with 1 Axes>"
      ]
     },
     "metadata": {},
     "output_type": "display_data"
    }
   ],
   "source": [
    "# --- Plot three 7B models in 1 figure ---\n",
    "qwen_models = list(family_model_summaries['qwen2.5'].keys()) # 1.5, 0.5, 3, 7\n",
    "# sort the dictionary of bit-accuracy (key-value) pairs by the key\n",
    "qwen15 = {bit: family_model_summaries['qwen2.5'][qwen_models[0]][bit] for bit in sorted(family_model_summaries['qwen2.5'][qwen_models[0]])}\n",
    "qwen05 = {bit: family_model_summaries['qwen2.5'][qwen_models[1]][bit] for bit in sorted(family_model_summaries['qwen2.5'][qwen_models[1]])}\n",
    "qwen30 = {bit: family_model_summaries['qwen2.5'][qwen_models[2]][bit] for bit in sorted(family_model_summaries['qwen2.5'][qwen_models[2]])}\n",
    "qwen70 = {bit: family_model_summaries['qwen2.5'][qwen_models[3]][bit] for bit in sorted(family_model_summaries['qwen2.5'][qwen_models[3]])}\n",
    "\n",
    "gemma_models = list(family_model_summaries['gemma3'].keys()) # 12, 1, 4\n",
    "gemma12 = {bit: family_model_summaries['gemma3'][gemma_models[0]][bit] for bit in sorted(family_model_summaries['gemma3'][gemma_models[0]])}\n",
    "gemma1 = {bit: family_model_summaries['gemma3'][gemma_models[1]][bit] for bit in sorted(family_model_summaries['gemma3'][gemma_models[1]])}\n",
    "gemma4 = {bit: family_model_summaries['gemma3'][gemma_models[2]][bit] for bit in sorted(family_model_summaries['gemma3'][gemma_models[2]])}\n",
    "\n",
    "biomistral_models = list(family_model_summaries['biomistral'].keys())\n",
    "biomistral7_med = {bit: family_model_summaries['biomistral'][biomistral_models[0]][bit] for bit in sorted(family_model_summaries['biomistral'][biomistral_models[0]])}\n",
    "\n",
    "llama3_med_models = list(family_model_summaries['llama3'].keys())\n",
    "llama3_med = {bit: family_model_summaries['llama3'][llama3_med_models[0]][bit] for bit in sorted(family_model_summaries['llama3'][llama3_med_models[0]])}\n",
    "\n",
    "fig, ax = plt.subplots(1, 1)#, figsize=(12,10))\n",
    "# qwen\n",
    "ax.plot(qwen70.keys(), qwen70.values(), '.-.', label='qwen2.5-7b')\n",
    "ax.plot(llama3_med.keys(), llama3_med.values(), '.-.', label='llama3_med_7B')\n",
    "ax.plot(biomistral7_med.keys(), biomistral7_med.values(), '.-.', label='biomistral_med_7B')\n",
    "ax.legend()\n",
    "#ax[0][0].set_title('Qwen2.5')\n",
    "ax.set_ylabel('Accuracy [%]')\n",
    "ax.set_xlabel('k-quantization level [bits]')\n",
    "ax.set_ylim(0, 1)\n",
    "#plt.suptitle('')\n",
    "plt.title('K-quantization Level vs. Accuracy for 7B parameter LLM-Examiners',pad=15)\n",
    "plt.tight_layout()\n",
    "plt.show()"
   ]
  },
  {
   "cell_type": "markdown",
   "id": "dbdb9613-0b93-4287-9a2b-54739f004e94",
   "metadata": {},
   "source": [
    "- missing datapoint for llama3_med_7B 2b quant\n",
    "- general model performs better than its fine-tuned counterparts ; qualifier: this is only w.r.t accuracy, and also in the experimental setting where relevant contextual knowledge is included within the prompt.\n",
    "- gemma is excluded from this plot to allow for direct comparison between 7B parameter models; gemma3 lineup does not have a 7B parameter model\n",
    "- nevertheless, what's more important is GPU usage ; if gemma 12B requires about the same GPU as qwen7B, then it makes sense to include gemma 12B too since the system tradeoff is equivalent"
   ]
  },
  {
   "cell_type": "code",
   "execution_count": 440,
   "id": "e93e1b56-f0bf-41bf-b77a-8fd9048294d6",
   "metadata": {},
   "outputs": [
    {
     "data": {
      "text/plain": [
       "{'biomistral': {'biomistral': {'6': 0.5481023830538394,\n",
       "   '4': 0.5529753265602322,\n",
       "   '2': 0.5161290322580645,\n",
       "   '8': 0.5432937181663837,\n",
       "   '5': 0.5364120781527532,\n",
       "   '3': 0.5808124459809854}},\n",
       " 'llama3': {'llama3': {'6': 0.722397476340694,\n",
       "   '4': 0.70541820094687,\n",
       "   '3': 0.6961382113821138,\n",
       "   '8': 0.7149532710280374,\n",
       "   '5': 0.7243928194297783}},\n",
       " 'gemma3': {'gemma3-12b': {'5': 0.85,\n",
       "   '2': 0.809,\n",
       "   '4': 0.8325,\n",
       "   '6': 0.8485,\n",
       "   '3': 0.8245,\n",
       "   '8': 0.8515},\n",
       "  'gemma3-1b': {'8': 0.5,\n",
       "   '6': 0.5,\n",
       "   '2': 0.4995,\n",
       "   '3': 0.5,\n",
       "   '4': 0.5,\n",
       "   '5': 0.4995},\n",
       "  'gemma3-4b': {'2': 0.6015,\n",
       "   '4': 0.708,\n",
       "   '5': 0.7225,\n",
       "   '3': 0.706,\n",
       "   '6': 0.7265,\n",
       "   '8': 0.727}},\n",
       " 'qwen2.5': {'Qwen2.5-1.5b': {'3': 0.537,\n",
       "   '4': 0.6045,\n",
       "   '5': 0.6365,\n",
       "   '8': 0.6385,\n",
       "   '2': 0.5047974413646056,\n",
       "   '6': 0.6325},\n",
       "  'Qwen2.5-0.5b': {'5': 0.4705,\n",
       "   '2': 0.474,\n",
       "   '6': 0.492,\n",
       "   '3': 0.5005,\n",
       "   '4': 0.4665,\n",
       "   '8': 0.493},\n",
       "  'Qwen2.5-3b': {'5': 0.5085,\n",
       "   '2': 0.5,\n",
       "   '4': 0.501,\n",
       "   '6': 0.506,\n",
       "   '3': 0.5005,\n",
       "   '8': 0.506},\n",
       "  'Qwen2.5-7b': {'6': 0.8225,\n",
       "   '5': 0.8205,\n",
       "   '3': 0.7875,\n",
       "   '4': 0.8145,\n",
       "   '8': 0.8185,\n",
       "   '2': 0.77}}}"
      ]
     },
     "execution_count": 440,
     "metadata": {},
     "output_type": "execute_result"
    }
   ],
   "source": [
    "family_model_summaries"
   ]
  },
  {
   "cell_type": "code",
   "execution_count": 360,
   "id": "43dc52f1-3541-4ab7-a53e-c040eec84f59",
   "metadata": {},
   "outputs": [
    {
     "data": {
      "text/plain": [
       "['2', '3', '4', '5', '6', '8']"
      ]
     },
     "execution_count": 360,
     "metadata": {},
     "output_type": "execute_result"
    }
   ],
   "source": [
    "sorted(model_summaries[qwen_models[0]]) # should just be the different bit levels"
   ]
  },
  {
   "cell_type": "code",
   "execution_count": 369,
   "id": "9768248f-9511-44c6-9b5a-d3375148a887",
   "metadata": {},
   "outputs": [
    {
     "data": {
      "text/plain": [
       "['2', '3', '4', '5', '6', '8']"
      ]
     },
     "execution_count": 369,
     "metadata": {},
     "output_type": "execute_result"
    }
   ],
   "source": [
    "sorted(family_model_summaries['gemma3'][gemma_models[0]])"
   ]
  },
  {
   "cell_type": "code",
   "execution_count": 365,
   "id": "f0f83b1b-d1c9-4565-a57f-63a315379bf1",
   "metadata": {},
   "outputs": [],
   "source": [
    "gemma_models = list(family_model_summaries['gemma3'].keys())\n",
    "gemma1 = {bit: family_model_summaries['gemma3'][gemma_models[0]][bit] for bit in sorted(family_model_summaries['gemma3'][gemma_models[0]])}"
   ]
  },
  {
   "cell_type": "code",
   "execution_count": 366,
   "id": "674f6fa8-6e1f-45a8-80e7-b14b6ea5c0f5",
   "metadata": {},
   "outputs": [
    {
     "data": {
      "text/plain": [
       "{'2': 0.809, '3': 0.8245, '4': 0.8325, '5': 0.85, '6': 0.8485, '8': 0.8515}"
      ]
     },
     "execution_count": 366,
     "metadata": {},
     "output_type": "execute_result"
    }
   ],
   "source": [
    "gemma1"
   ]
  },
  {
   "cell_type": "code",
   "execution_count": 359,
   "id": "bd5bd207-d66c-43b9-b723-8ccf166b9d13",
   "metadata": {},
   "outputs": [
    {
     "data": {
      "text/plain": [
       "['gemma3-12b', 'gemma3-1b', 'gemma3-4b']"
      ]
     },
     "execution_count": 359,
     "metadata": {},
     "output_type": "execute_result"
    }
   ],
   "source": [
    "sorted(family_model_summaries['gemma3'])"
   ]
  },
  {
   "cell_type": "code",
   "execution_count": 358,
   "id": "853ba1ec-c55b-4707-b9b3-0d9011e2b400",
   "metadata": {},
   "outputs": [
    {
     "data": {
      "text/plain": [
       "{'gemma3-12b': {'5': 0.85,\n",
       "  '2': 0.809,\n",
       "  '4': 0.8325,\n",
       "  '6': 0.8485,\n",
       "  '3': 0.8245,\n",
       "  '8': 0.8515},\n",
       " 'gemma3-1b': {'5': 0.85,\n",
       "  '2': 0.809,\n",
       "  '4': 0.8325,\n",
       "  '6': 0.8485,\n",
       "  '3': 0.8245,\n",
       "  '8': 0.8515},\n",
       " 'gemma3-4b': {'5': 0.85,\n",
       "  '2': 0.809,\n",
       "  '4': 0.8325,\n",
       "  '6': 0.8485,\n",
       "  '3': 0.8245,\n",
       "  '8': 0.8515}}"
      ]
     },
     "execution_count": 358,
     "metadata": {},
     "output_type": "execute_result"
    }
   ],
   "source": [
    "gemma1"
   ]
  },
  {
   "cell_type": "code",
   "execution_count": 263,
   "id": "b2b24536-bb1b-49b5-b649-fa044834a772",
   "metadata": {},
   "outputs": [
    {
     "data": {
      "text/plain": [
       "{'2': 0.5047974413646056,\n",
       " '3': 0.537,\n",
       " '4': 0.6045,\n",
       " '5': 0.6365,\n",
       " '6': 0.6325,\n",
       " '8': 0.6385}"
      ]
     },
     "execution_count": 263,
     "metadata": {},
     "output_type": "execute_result"
    }
   ],
   "source": [
    "# sorted a dict\n",
    "{bit: model_summaries[qwen_models[0]][bit] for bit in sorted(model_summaries[qwen_models[0]])}"
   ]
  }
 ],
 "metadata": {
  "kernelspec": {
   "display_name": "Python 3 (ipykernel)",
   "language": "python",
   "name": "python3"
  },
  "language_info": {
   "codemirror_mode": {
    "name": "ipython",
    "version": 3
   },
   "file_extension": ".py",
   "mimetype": "text/x-python",
   "name": "python",
   "nbconvert_exporter": "python",
   "pygments_lexer": "ipython3",
   "version": "3.10.12"
  }
 },
 "nbformat": 4,
 "nbformat_minor": 5
}
